{
 "cells": [
  {
   "cell_type": "code",
   "execution_count": 1,
   "metadata": {
    "collapsed": true,
    "pycharm": {
     "is_executing": false
    }
   },
   "outputs": [
    {
     "name": "stdout",
     "text": [
      "D:\\Documents\\Memoria - Eval. Word Embeddings\\Testing\nD:\\Documents\\Memoria - Eval. Word Embeddings\nD:\\Documents\\Memoria - Eval. Word Embeddings\\Embeddings\nD:\\Documents\\Memoria - Eval. Word Embeddings\\Datasets\nD:\\Documents\\Memoria - Eval. Word Embeddings\\Resultados\nD:\\Documents\\Memoria - Eval. Word Embeddings\\TempResultados\n",
      ">>> Embeddings a evaluar:\n  > _fasttext_sbwc.vec\n  > _fasttext_suc.vec\n  > _fasttext_wiki.vec\n  > _glove_sbwc.vec\n  > _w2v_sbwc.txt\n"
     ],
     "output_type": "stream"
    }
   ],
   "source": [
    "import os\n",
    "import io\n",
    "import json\n",
    "\n",
    "import numpy as np\n",
    "\n",
    "from scipy.stats import spearmanr\n",
    "from gensim.models.keyedvectors import KeyedVectors\n",
    "\n",
    "import Constant\n",
    "import GlobalTest\n",
    "\n",
    "# Path a carpeta principal\n",
    "MAIN_FOLDER = Constant.MAIN_FOLDER\n",
    "\n",
    "# Path a carpeta con los embeddings\n",
    "EMBEDDING_FOLDER = Constant.EMBEDDING_FOLDER\n",
    "\n",
    "# Lista con los nombres de los archivos de los embeddings\n",
    "embedding_name_list = os.listdir(EMBEDDING_FOLDER)\n",
    "\n",
    "print(\">>> Embeddings a evaluar:\")\n",
    "for embedding in embedding_name_list:\n",
    "    print(\"  > \" + embedding)\n",
    "\n",
    "def get_wordvector(file, cant=None):\n",
    "    wordvector_file = EMBEDDING_FOLDER / file\n",
    "\n",
    "    return KeyedVectors.load_word2vec_format(wordvector_file, limit=cant)\n"
   ]
  },
  {
   "cell_type": "code",
   "execution_count": 3,
   "outputs": [
    {
     "name": "stdout",
     "text": [
      "Embeddings defaults a evaluar:\n> _fasttext_sbwc.vec\n> _fasttext_suc.vec\n> _fasttext_wiki.vec\n> _glove_sbwc.vec\n> _w2v_sbwc.txt\nEmbeddings extras a evaluar:\n"
     ],
     "output_type": "stream"
    }
   ],
   "source": [
    "global_test = GlobalTest.GlobalTest()\n",
    "\n",
    "#emb = get_wordvector(embedding_name_list[0], 500000)\n",
    "#emb_name = embedding_name_list[0].split('.')[0]\n",
    "#global_test.similarityTest(emb, emb_name)\n"
   ],
   "metadata": {
    "collapsed": false,
    "pycharm": {
     "name": "#%%\n",
     "is_executing": false
    }
   }
  },
  {
   "cell_type": "code",
   "execution_count": 4,
   "outputs": [
    {
     "name": "stdout",
     "text": [
      ">>> Cargando vectores...",
      "listo\n\n"
     ],
     "output_type": "stream"
    },
    {
     "traceback": [
      "\u001b[1;31m---------------------------------------------------------------------------\u001b[0m",
      "\u001b[1;31mAttributeError\u001b[0m                            Traceback (most recent call last)",
      "\u001b[1;32m<ipython-input-4-057735a3287d>\u001b[0m in \u001b[0;36m<module>\u001b[1;34m\u001b[0m\n\u001b[0;32m      6\u001b[0m     \u001b[0mprint\u001b[0m\u001b[1;33m(\u001b[0m\u001b[1;34m\"listo\\n\"\u001b[0m\u001b[1;33m)\u001b[0m\u001b[1;33m\u001b[0m\u001b[1;33m\u001b[0m\u001b[0m\n\u001b[0;32m      7\u001b[0m \u001b[1;33m\u001b[0m\u001b[0m\n\u001b[1;32m----> 8\u001b[1;33m     \u001b[0mglobal_test\u001b[0m\u001b[1;33m.\u001b[0m\u001b[0msimilarityTest\u001b[0m\u001b[1;33m(\u001b[0m\u001b[0mword_vector\u001b[0m\u001b[1;33m,\u001b[0m \u001b[0mword_vector_name\u001b[0m\u001b[1;33m)\u001b[0m\u001b[1;33m\u001b[0m\u001b[1;33m\u001b[0m\u001b[0m\n\u001b[0m\u001b[0;32m      9\u001b[0m \u001b[1;33m\u001b[0m\u001b[0m\n\u001b[0;32m     10\u001b[0m \u001b[1;33m\u001b[0m\u001b[0m\n",
      "\u001b[1;32mD:\\Documents\\Memoria - Eval. Word Embeddings\\Testing\\GlobalTest.py\u001b[0m in \u001b[0;36msimilarityTest\u001b[1;34m(self, word_vector, word_vector_name)\u001b[0m\n\u001b[0;32m     62\u001b[0m     \u001b[1;31m# Evaluaciones intrinsecas\u001b[0m\u001b[1;33m\u001b[0m\u001b[1;33m\u001b[0m\u001b[1;33m\u001b[0m\u001b[0m\n\u001b[0;32m     63\u001b[0m     \u001b[1;32mdef\u001b[0m \u001b[0msimilarityTest\u001b[0m\u001b[1;33m(\u001b[0m\u001b[0mself\u001b[0m\u001b[1;33m,\u001b[0m \u001b[0mword_vector\u001b[0m\u001b[1;33m,\u001b[0m \u001b[0mword_vector_name\u001b[0m\u001b[1;33m)\u001b[0m\u001b[1;33m:\u001b[0m\u001b[1;33m\u001b[0m\u001b[1;33m\u001b[0m\u001b[0m\n\u001b[1;32m---> 64\u001b[1;33m         \u001b[0mresult\u001b[0m \u001b[1;33m=\u001b[0m \u001b[0mSimilarityTest\u001b[0m\u001b[1;33m.\u001b[0m\u001b[0msimilarityTest\u001b[0m\u001b[1;33m(\u001b[0m\u001b[0mword_vector\u001b[0m\u001b[1;33m,\u001b[0m \u001b[0mword_vector_name\u001b[0m\u001b[1;33m,\u001b[0m \u001b[0mself\u001b[0m\u001b[1;33m.\u001b[0m\u001b[0m_lower\u001b[0m\u001b[1;33m)\u001b[0m\u001b[1;33m\u001b[0m\u001b[1;33m\u001b[0m\u001b[0m\n\u001b[0m\u001b[0;32m     65\u001b[0m         \u001b[1;32mreturn\u001b[0m \u001b[0mresult\u001b[0m\u001b[1;33m\u001b[0m\u001b[1;33m\u001b[0m\u001b[0m\n\u001b[0;32m     66\u001b[0m \u001b[1;33m\u001b[0m\u001b[0m\n",
      "\u001b[1;31mAttributeError\u001b[0m: 'GlobalTest' object has no attribute '_lower'"
     ],
     "ename": "AttributeError",
     "evalue": "'GlobalTest' object has no attribute '_lower'",
     "output_type": "error"
    }
   ],
   "source": [
    "# Test de similaridad\n",
    "for embedding_name in embedding_name_list:\n",
    "    print(\">>> Cargando vectores...\", end='')\n",
    "    word_vector = get_wordvector(embedding_name)\n",
    "    word_vector_name = embedding_name.split('.')[0]\n",
    "    print(\"listo\\n\")\n",
    "    \n",
    "    global_test.similarityTest(word_vector, word_vector_name)\n"
   ],
   "metadata": {
    "collapsed": false,
    "pycharm": {
     "name": "#%%\n",
     "is_executing": false
    }
   }
  },
  {
   "cell_type": "code",
   "execution_count": null,
   "outputs": [
    {
     "name": "stdout",
     "text": [
      ">>> Cargando vectores...",
      " listo\n\n>>> Testing: _español_D01 [prefijo_anti-].txt\n",
      ">>> Testing: _español_D02 [prefijo_des-].txt\n",
      ">>> Testing: _español_D03 [prefijo_in-].txt\n",
      ">>> Testing: _español_D04 [sufijo_-able].txt\n",
      ">>> Testing: _español_D05 [sufijo_-ción].txt\n",
      ">>> Testing: _español_D06 [sufijo_-ísimo].txt\n",
      ">>> Testing: _español_D07 [sufijo_-ita].txt\n",
      ">>> Testing: _español_D08 [sufijo_-ito].txt\n",
      ">>> Testing: _español_D09 [sufijo_-mente].txt\n",
      ">>> Testing: _español_D10 [sufijo_-miento].txt\n",
      ">>> Testing: _español_E01 [pais - capital].txt\n",
      ">>> Testing: _español_E02 [pais - idioma].txt\n",
      ">>> Testing: _español_E04 [nombre - nacionalidad].txt\n",
      ">>> Testing: _español_E05 [nombre - ocupacion].txt\n",
      ">>> Testing: _español_E10 [hombre - mujer].txt\n",
      ">>> Testing: _español_E11 [pais - gentilicio].txt\n",
      ">>> Testing: _español_I067 [gerund - parti].txt\n",
      ">>> Testing: _español_I096 [inf - gerund].txt\n",
      ">>> Testing: _español_I097 [inf - parti].txt\n",
      ">>> Testing: _español_I162 [pret_perf__1_sing - futuro_simp__1_sing].txt\n",
      ">>> Testing: _español_I254 [presente__1_sing - futuro_simp__1_sing].txt\n",
      ">>> Testing: _español_I260 [presente__1_sing - pret_perf__1_sing].txt\n",
      ">>> Testing: _español_I265 [presente__1_sing - presente__1_plur].txt\n",
      ">>> Testing: _español_I269 [presente__1_sing - presente__3_sing].txt\n",
      ">>> Testing: _español_I466 [sustantivo - plural(s)].txt\n",
      ">>> Testing: _español_I467 [sustantivo - plural(es)].txt\n",
      ">>> Testing: _español_L07 [sinonimos - intensidad].txt\n",
      ">>> Testing: _español_L08 [sinonimos - exacto].txt\n",
      ">>> Testing: _español_L09 [antonimos - grado].txt\n",
      ">>> Testing: _español_L10 [antonimos - binario].txt\n",
      ">>> Resultados\n    ['_español_D01 [prefijo_anti-].txt', [['3CosAdd', '0.11184939091915837'], ['3CosMul', '0.0'], ['PairDir', '0.0'], ['cos', '0.0'], ['euc', '0.0'], ['ncos', '0.0'], ['neuc', '0.0'], ['omited', '644'], ['%omited', '0.26285714285714284']]]\n    ['_español_D02 [prefijo_des-].txt', [['3CosAdd', '0.0820578231292517'], ['3CosMul', '0.0'], ['PairDir', '0.0'], ['cos', '0.0'], ['euc', '0.0'], ['ncos', '0.0'], ['neuc', '0.0'], ['omited', '98'], ['%omited', '0.04']]]\n    ['_español_D03 [prefijo_in-].txt', [['3CosAdd', '0.22693877551020408'], ['3CosMul', '0.0'], ['PairDir', '0.0'], ['cos', '0.0'], ['euc', '0.0'], ['ncos', '0.0'], ['neuc', '0.0'], ['omited', '0'], ['%omited', '0.0']]]\n    ['_español_D04 [sufijo_-able].txt', [['3CosAdd', '0.19696969696969696'], ['3CosMul', '0.0'], ['PairDir', '0.0'], ['cos', '0.0'], ['euc', '0.0'], ['ncos', '0.0'], ['neuc', '0.0'], ['omited', '1394'], ['%omited', '0.5689795918367347']]]\n    ['_español_D05 [sufijo_-ción].txt', [['3CosAdd', '0.4919191919191919'], ['3CosMul', '0.0'], ['PairDir', '0.0'], ['cos', '0.0'], ['euc', '0.0'], ['ncos', '0.0'], ['neuc', '0.0'], ['omited', '470'], ['%omited', '0.19183673469387755']]]\n    ['_español_D06 [sufijo_-ísimo].txt', [['3CosAdd', '0.31591119333950046'], ['3CosMul', '0.0'], ['PairDir', '0.0'], ['cos', '0.0'], ['euc', '0.0'], ['ncos', '0.0'], ['neuc', '0.0'], ['omited', '288'], ['%omited', '0.11755102040816326']]]\n    ['_español_D07 [sufijo_-ita].txt', [['3CosAdd', '0.058454106280193235'], ['3CosMul', '0.0'], ['PairDir', '0.0'], ['cos', '0.0'], ['euc', '0.0'], ['ncos', '0.0'], ['neuc', '0.0'], ['omited', '380'], ['%omited', '0.15510204081632653']]]\n    ['_español_D08 [sufijo_-ito].txt', [['3CosAdd', '0.09444444444444444'], ['3CosMul', '0.0'], ['PairDir', '0.0'], ['cos', '0.0'], ['euc', '0.0'], ['ncos', '0.0'], ['neuc', '0.0'], ['omited', '470'], ['%omited', '0.19183673469387755']]]\n    ['_español_D09 [sufijo_-mente].txt', [['3CosAdd', '0.3289795918367347'], ['3CosMul', '0.0'], ['PairDir', '0.0'], ['cos', '0.0'], ['euc', '0.0'], ['ncos', '0.0'], ['neuc', '0.0'], ['omited', '0'], ['%omited', '0.0']]]\n    ['_español_D10 [sufijo_-miento].txt', [['3CosAdd', '0.25443262411347517'], ['3CosMul', '0.0'], ['PairDir', '0.0'], ['cos', '0.0'], ['euc', '0.0'], ['ncos', '0.0'], ['neuc', '0.0'], ['omited', '194'], ['%omited', '0.07918367346938776']]]\n    ['_español_E01 [pais - capital].txt', [['3CosAdd', '0.5861224489795919'], ['3CosMul', '0.0'], ['PairDir', '0.0'], ['cos', '0.0'], ['euc', '0.0'], ['ncos', '0.0'], ['neuc', '0.0'], ['omited', '0'], ['%omited', '0.0']]]\n    ['_español_E02 [pais - idioma].txt', [['3CosAdd', '0.2530612244897959'], ['3CosMul', '0.0'], ['PairDir', '0.0'], ['cos', '0.0'], ['euc', '0.0'], ['ncos', '0.0'], ['neuc', '0.0'], ['omited', '0'], ['%omited', '0.0']]]\n    ['_español_E04 [nombre - nacionalidad].txt', [['3CosAdd', '0.2383673469387755'], ['3CosMul', '0.0'], ['PairDir', '0.0'], ['cos', '0.0'], ['euc', '0.0'], ['ncos', '0.0'], ['neuc', '0.0'], ['omited', '0'], ['%omited', '0.0']]]\n    ['_español_E05 [nombre - ocupacion].txt', [['3CosAdd', '0.37712585034013607'], ['3CosMul', '0.0'], ['PairDir', '0.0'], ['cos', '0.0'], ['euc', '0.0'], ['ncos', '0.0'], ['neuc', '0.0'], ['omited', '98'], ['%omited', '0.04']]]\n    ['_español_E10 [hombre - mujer].txt', [['3CosAdd', '0.5726530612244898'], ['3CosMul', '0.0'], ['PairDir', '0.0'], ['cos', '0.0'], ['euc', '0.0'], ['ncos', '0.0'], ['neuc', '0.0'], ['omited', '0'], ['%omited', '0.0']]]\n    ['_español_E11 [pais - gentilicio].txt', [['3CosAdd', '0.7021276595744681'], ['3CosMul', '0.0'], ['PairDir', '0.0'], ['cos', '0.0'], ['euc', '0.0'], ['ncos', '0.0'], ['neuc', '0.0'], ['omited', '194'], ['%omited', '0.07918367346938776']]]\n    ['_español_I067 [gerund - parti].txt', [['3CosAdd', '0.6183673469387755'], ['3CosMul', '0.0'], ['PairDir', '0.0'], ['cos', '0.0'], ['euc', '0.0'], ['ncos', '0.0'], ['neuc', '0.0'], ['omited', '0'], ['%omited', '0.0']]]\n    ['_español_I096 [inf - gerund].txt', [['3CosAdd', '0.8738775510204082'], ['3CosMul', '0.0'], ['PairDir', '0.0'], ['cos', '0.0'], ['euc', '0.0'], ['ncos', '0.0'], ['neuc', '0.0'], ['omited', '0'], ['%omited', '0.0']]]\n    ['_español_I097 [inf - parti].txt', [['3CosAdd', '0.5371428571428571'], ['3CosMul', '0.0'], ['PairDir', '0.0'], ['cos', '0.0'], ['euc', '0.0'], ['ncos', '0.0'], ['neuc', '0.0'], ['omited', '0'], ['%omited', '0.0']]]\n    ['_español_I162 [pret_perf__1_sing - futuro_simp__1_sing].txt', [['3CosAdd', '0.5888501742160279'], ['3CosMul', '0.0'], ['PairDir', '0.0'], ['cos', '0.0'], ['euc', '0.0'], ['ncos', '0.0'], ['neuc', '0.0'], ['omited', '728'], ['%omited', '0.29714285714285715']]]\n    ['_español_I254 [presente__1_sing - futuro_simp__1_sing].txt', [['3CosAdd', '0.3058321479374111'], ['3CosMul', '0.0'], ['PairDir', '0.0'], ['cos', '0.0'], ['euc', '0.0'], ['ncos', '0.0'], ['neuc', '0.0'], ['omited', '1044'], ['%omited', '0.42612244897959184']]]\n    ['_español_I260 [presente__1_sing - pret_perf__1_sing].txt', [['3CosAdd', '0.3012684989429176'], ['3CosMul', '0.0'], ['PairDir', '0.0'], ['cos', '0.0'], ['euc', '0.0'], ['ncos', '0.0'], ['neuc', '0.0'], ['omited', '558'], ['%omited', '0.22775510204081634']]]\n    ['_español_I265 [presente__1_sing - presente__1_plur].txt', [['3CosAdd', '0.5544217687074829'], ['3CosMul', '0.0'], ['PairDir', '0.0'], ['cos', '0.0'], ['euc', '0.0'], ['ncos', '0.0'], ['neuc', '0.0'], ['omited', '98'], ['%omited', '0.04']]]\n    ['_español_I269 [presente__1_sing - presente__3_sing].txt', [['3CosAdd', '0.37244897959183676'], ['3CosMul', '0.0'], ['PairDir', '0.0'], ['cos', '0.0'], ['euc', '0.0'], ['ncos', '0.0'], ['neuc', '0.0'], ['omited', '98'], ['%omited', '0.04']]]\n    ['_español_I466 [sustantivo - plural(s)].txt', [['3CosAdd', '0.4751020408163265'], ['3CosMul', '0.0'], ['PairDir', '0.0'], ['cos', '0.0'], ['euc', '0.0'], ['ncos', '0.0'], ['neuc', '0.0'], ['omited', '0'], ['%omited', '0.0']]]\n    ['_español_I467 [sustantivo - plural(es)].txt', [['3CosAdd', '0.37673469387755104'], ['3CosMul', '0.0'], ['PairDir', '0.0'], ['cos', '0.0'], ['euc', '0.0'], ['ncos', '0.0'], ['neuc', '0.0'], ['omited', '0'], ['%omited', '0.0']]]\n    ['_español_L07 [sinonimos - intensidad].txt', [['3CosAdd', '0.25'], ['3CosMul', '0.0'], ['PairDir', '0.0'], ['cos', '0.0'], ['euc', '0.0'], ['ncos', '0.0'], ['neuc', '0.0'], ['omited', '98'], ['%omited', '0.04']]]\n    ['_español_L08 [sinonimos - exacto].txt', [['3CosAdd', '0.2506122448979592'], ['3CosMul', '0.0'], ['PairDir', '0.0'], ['cos', '0.0'], ['euc', '0.0'], ['ncos', '0.0'], ['neuc', '0.0'], ['omited', '0'], ['%omited', '0.0']]]\n    ['_español_L09 [antonimos - grado].txt', [['3CosAdd', '0.13714285714285715'], ['3CosMul', '0.0'], ['PairDir', '0.0'], ['cos', '0.0'], ['euc', '0.0'], ['ncos', '0.0'], ['neuc', '0.0'], ['omited', '0'], ['%omited', '0.0']]]\n    ['_español_L10 [antonimos - binario].txt', [['3CosAdd', '0.2508503401360544'], ['3CosMul', '0.0'], ['PairDir', '0.0'], ['cos', '0.0'], ['euc', '0.0'], ['ncos', '0.0'], ['neuc', '0.0'], ['omited', '98'], ['%omited', '0.04']]]\n\n>>> Cargando vectores...",
      " listo\n\n>>> Testing: _español_D01 [prefijo_anti-].txt\n",
      ">>> Testing: _español_D02 [prefijo_des-].txt\n",
      ">>> Testing: _español_D03 [prefijo_in-].txt\n",
      ">>> Testing: _español_D04 [sufijo_-able].txt\n",
      ">>> Testing: _español_D05 [sufijo_-ción].txt\n",
      ">>> Testing: _español_D06 [sufijo_-ísimo].txt\n",
      ">>> Testing: _español_D07 [sufijo_-ita].txt\n",
      ">>> Testing: _español_D08 [sufijo_-ito].txt\n",
      ">>> Testing: _español_D09 [sufijo_-mente].txt\n",
      ">>> Testing: _español_D10 [sufijo_-miento].txt\n",
      ">>> Testing: _español_E01 [pais - capital].txt\n",
      ">>> Testing: _español_E02 [pais - idioma].txt\n",
      ">>> Testing: _español_E04 [nombre - nacionalidad].txt\n",
      ">>> Testing: _español_E05 [nombre - ocupacion].txt\n",
      ">>> Testing: _español_E10 [hombre - mujer].txt\n",
      ">>> Testing: _español_E11 [pais - gentilicio].txt\n",
      ">>> Testing: _español_I067 [gerund - parti].txt\n",
      ">>> Testing: _español_I096 [inf - gerund].txt\n",
      ">>> Testing: _español_I097 [inf - parti].txt\n",
      ">>> Testing: _español_I162 [pret_perf__1_sing - futuro_simp__1_sing].txt\n",
      ">>> Testing: _español_I254 [presente__1_sing - futuro_simp__1_sing].txt\n",
      ">>> Testing: _español_I260 [presente__1_sing - pret_perf__1_sing].txt\n",
      ">>> Testing: _español_I265 [presente__1_sing - presente__1_plur].txt\n",
      ">>> Testing: _español_I269 [presente__1_sing - presente__3_sing].txt\n",
      ">>> Testing: _español_I466 [sustantivo - plural(s)].txt\n",
      ">>> Testing: _español_I467 [sustantivo - plural(es)].txt\n"
     ],
     "output_type": "stream"
    }
   ],
   "source": [
    "# Test de analogias\n",
    "for embedding_name in embedding_name_list:\n",
    "    print(\">>> Cargando vectores...\", end='')\n",
    "    word_vector = get_wordvector(embedding_name, 500000)\n",
    "    word_vector_name = embedding_name.split('.')[0]\n",
    "    print(\" listo\\n\")\n",
    "    \n",
    "    global_test.analogyTest(word_vector, word_vector_name)\n"
   ],
   "metadata": {
    "collapsed": false,
    "pycharm": {
     "name": "#%%\n",
     "is_executing": true
    }
   }
  },
  {
   "cell_type": "code",
   "execution_count": null,
   "outputs": [],
   "source": [
    "# Test de outlier detection\n",
    "for embedding_name in embedding_name_list:\n",
    "    print(\">>> Cargando vectores...\", end='')\n",
    "    word_vector = get_wordvector(embedding_name, 500000)\n",
    "    word_vector_name = embedding_name.split('.')[0]\n",
    "    print(\"listo\\n\")\n",
    "    \n",
    "    global_test.outlierDetectionTest(word_vector, word_vector_name)\n",
    "    "
   ],
   "metadata": {
    "collapsed": false,
    "pycharm": {
     "name": "#%%\n",
     "is_executing": true
    }
   }
  },
  {
   "cell_type": "code",
   "execution_count": null,
   "outputs": [],
   "source": [
    "########################################################################\n",
    "# Obtencion de pares de embeddings a evaluar\n",
    "\n",
    "pair_method_corpus = []\n",
    "for embedding in embedding_name_list:\n",
    "    _embedding = embedding.strip().split('.')[0]\n",
    "    _embedding = _embedding.split('_')\n",
    "    \n",
    "    pair_method_corpus.append([embedding, _embedding[1], _embedding[2]])\n",
    "    \n",
    "test_pairing_corpus = []\n",
    "test_pairing_method = []\n",
    "for i in range(len(pair_method_corpus)):\n",
    "    for j in range(len(pair_method_corpus)):\n",
    "        if j <= i:\n",
    "            continue\n",
    "            \n",
    "        if pair_method_corpus[i][1] == pair_method_corpus[j][1]:\n",
    "            test_pairing_method.append([pair_method_corpus[i][0], pair_method_corpus[j][0]])\n",
    "            \n",
    "        if pair_method_corpus[i][2] == pair_method_corpus[j][2]:\n",
    "            test_pairing_corpus.append([pair_method_corpus[i][0], pair_method_corpus[j][0]])\n",
    "\n",
    "print(\"Cross-match test:\")\n",
    "\n",
    "########################################################################\n",
    "\n",
    "# Test de cross match\n",
    "for pair in test_pairing_method + test_pairing_corpus:\n",
    "    print(pair)\n",
    "    \n",
    "    print(\"Cargando embedding1 \" + pair[0], end='...')\n",
    "    word_vector1 = get_wordvector(pair[0])\n",
    "    word_vector1_name = pair[0]\n",
    "    word_vector1.init_sims()\n",
    "    print(\"listo\")\n",
    "    \n",
    "    print(\"Cargando embedding2 \" + pair[1], end='...')\n",
    "    word_vector2 = get_wordvector(pair[1])\n",
    "    word_vector2_name = pair[1]\n",
    "    word_vector2.init_sims()\n",
    "    print(\"listo\")\n",
    "    \n",
    "    global_test.crossMatchTest(word_vector1, word_vector1_name, word_vector2, word_vector2_name)\n",
    "    \n",
    "    print(\"\\n\")\n"
   ],
   "metadata": {
    "collapsed": false,
    "pycharm": {
     "name": "#%%\n",
     "is_executing": true
    }
   }
  },
  {
   "cell_type": "markdown",
   "source": [],
   "metadata": {
    "collapsed": false,
    "pycharm": {
     "name": "#%% md\n"
    }
   }
  },
  {
   "cell_type": "code",
   "execution_count": 2,
   "outputs": [],
   "source": [
    "from sklearn.metrics.pairwise import cosine_similarity\n",
    "\n",
    "import ConstitucionUtil\n",
    "import EvalConstitucion\n"
   ],
   "metadata": {
    "collapsed": false,
    "pycharm": {
     "name": "#%%\n",
     "is_executing": false
    }
   }
  },
  {
   "cell_type": "code",
   "execution_count": 3,
   "outputs": [
    {
     "name": "stdout",
     "text": [
      "carga lista\n\n"
     ],
     "output_type": "stream"
    }
   ],
   "source": [
    "wordvector = get_wordvector(embedding_name_list[0])\n",
    "print(\"carga lista\\n\")"
   ],
   "metadata": {
    "collapsed": false,
    "pycharm": {
     "name": "#%%\n",
     "is_executing": false
    }
   }
  },
  {
   "cell_type": "code",
   "execution_count": 4,
   "outputs": [
    {
     "name": "stdout",
     "text": [
      "Size of dataset: 205357\n",
      "\nTask A\nTopico: 1\n > Justicia\n > Democracia\n > Respeto / Conservación de la naturaleza o medio ambiente\n > Autonomía / Libertad\n > Estado de Derecho\n > Igualdad\n > Participación\n > Unidad\n > Respeto\n > Descentralización\n > Identidad cultural\n > Estado laico\n > Equidad de género\n > Subsidiaridad\n > Probidad\n > República\n > Diversidad\n > Dignidad\n > Transparencia y publicidad\n > Desarrollo\n > Innovación / Creatividad\n > Bien Común / Comunidad\n > Multiculturalidad\n > Inclusión\n > Seguridad\n > Emprendimiento libre\n > Soberanía\n > Integración\n > Pluralismo\n > Amistad cívica\n > Plurinacionalismo\n > Tolerancia\n > Responsabilidad\n > Paz / Convivencia pacífica\n > Solidaridad\n > Patriotismo\n > Ciudadanía\nTopico: 2\n > Igualdad ante la ley\n > Libertad de expresión\n > A la seguridad social\n > A la vivienda digna\n > A la educación\n > Derechos del niño, niña y adolecente\n > A la participación\n > Libertad de conciencia\n > A la vida\n > A la integridad física y psíquica\n > A la salud\n > Igualdad\n > A la integración de discapacidad\n > A la información\n > A sindicalizarse y a la negociación colectiva\n > De los pueblos indígenas\n > Al salario equitativo\n > Libertad personal\n > Al trabajo\n > Proteccion judicial de los derechos\n > A la seguridad / Vida sin violencia\n > Respeto a la naturaleza / Medio ambiente\n > De propiedad\n > Igualdad de acceso a la justicia / Debido proceso\n > No discriminación\n > A huelga\n > A sufragio / Votar\n > De petición ante las autoridades\n > Igualdad ante los tributos\n > Ser elegido en cargos públicos\n > Acceso a información pública\n > Libertad de trabajo\n > Libertad de enseñanza\n > A la identidad cultural\n > Igualdad de género\n > Libre iniciativa económica / Libre empresa\n > A la honra / Al honor\n > Acceso a la cultura\n > Derecho de asociación\n > A la nacionalidad\n > Privacidad e intimidad\n > Reunión pacífica\n > Igualdad ante las cargas públicas\n > Libertad ambulatoria\nTopico: 3\n > Respeto por la constitución\n > Servicio a la comunidad\n > De protección y conservación de patrimonio histórico y cultural\n > Responsabilidad\n > Deberes de protección de conservación de la naturaleza\n > Protección, promoción y respeto de los derechos humanos y fundamentales\n > Respeto de derechos de otros\n > Cumplimiento de las leyes y normas\n > De satisfacer cargas públicas\n > Cumplimiento de obligaciones fiscales\n > Cumplimiento de tratados y obligaciones internacionales\n > Ejercicio legítimo y no abusivo de los derechos\nTopico: 4\n > Defensor del Pueblo / Ciudadano\n > Cambio o reforma constitucional\n > Plebiscitos, referendos y consultas\n > Contraloría general / Tribunales de cuentas\n > Fuerzas Armadas\n > Forma de Estado\n > Justicia constitucional\n > Poder judicial (estructura y funciones)\n > Gobierno local / Municipal\n > Régimen de gobierno presidencial /Semi-presidencial / Parlamentario\n > Gobierno regional\n > Presidencia de la República\n > Congreso o parlamento\n > División territorial\n > Gobierno provincial\n > Juicio político /acusación constitucional\n > Justicia electoral\n > Ministerio Público / Defensoría Pública\n > Jefatura de gobierno\n > Estado de excepción\n > Gobierno nacional (estructura y funciones)\ntotal de argumentos: 183342\ntotal a evaluar: 181039\nExperimento 1\n > Topico 1\n    > Justicia, cantidad de args: 4166\n      train_set size = 3332, test_set size = 834\n",
      "    > Democracia, cantidad de args: 4002\n      train_set size = 3201, test_set size = 801\n    > Respeto / Conservación de la naturaleza o medio ambiente, cantidad de args: 3898\n      train_set size = 3118, test_set size = 780\n    > Autonomía / Libertad, cantidad de args: 1842\n      train_set size = 1473, test_set size = 369\n",
      "    > Estado de Derecho, cantidad de args: 1594\n      train_set size = 1275, test_set size = 319\n    > Igualdad, cantidad de args: 3931\n      train_set size = 3144, test_set size = 787\n    > Participación, cantidad de args: 1247\n      train_set size = 997, test_set size = 250\n",
      "    > Unidad, cantidad de args: 123\n      train_set size = 98, test_set size = 25\n    > Respeto, cantidad de args: 2621\n      train_set size = 2096, test_set size = 525\n    > Descentralización, cantidad de args: 3190\n      train_set size = 2552, test_set size = 638\n    > Identidad cultural, cantidad de args: 582\n      train_set size = 465, test_set size = 117\n    > Estado laico, cantidad de args: 1570\n      train_set size = 1256, test_set size = 314\n    > Equidad de género, cantidad de args: 1762\n      train_set size = 1409, test_set size = 353\n    > Subsidiaridad, cantidad de args: 379\n      train_set size = 303, test_set size = 76\n    > Probidad, cantidad de args: 1048\n      train_set size = 838, test_set size = 210\n    > República, cantidad de args: 211\n      train_set size = 168, test_set size = 43\n    > Diversidad, cantidad de args: 764\n      train_set size = 611, test_set size = 153\n    > Dignidad, cantidad de args: 2029\n      train_set size = 1623, test_set size = 406\n",
      "    > Transparencia y publicidad, cantidad de args: 942\n      train_set size = 753, test_set size = 189\n    > Desarrollo, cantidad de args: 552\n      train_set size = 441, test_set size = 111\n    > Innovación / Creatividad, cantidad de args: 215\n      train_set size = 172, test_set size = 43\n    > Bien Común / Comunidad, cantidad de args: 2870\n      train_set size = 2296, test_set size = 574\n    > Multiculturalidad, cantidad de args: 904\n      train_set size = 723, test_set size = 181\n    > Inclusión, cantidad de args: 1278\n      train_set size = 1022, test_set size = 256\n    > Seguridad, cantidad de args: 1330\n      train_set size = 1064, test_set size = 266\n    > Emprendimiento libre, cantidad de args: 273\n      train_set size = 218, test_set size = 55\n    > Soberanía, cantidad de args: 588\n      train_set size = 470, test_set size = 118\n",
      "    > Integración, cantidad de args: 309\n      train_set size = 247, test_set size = 62\n    > Pluralismo, cantidad de args: 189\n      train_set size = 151, test_set size = 38\n    > Amistad cívica, cantidad de args: 277\n      train_set size = 221, test_set size = 56\n    > Plurinacionalismo, cantidad de args: 717\n      train_set size = 573, test_set size = 144\n    > Tolerancia, cantidad de args: 681\n      train_set size = 544, test_set size = 137\n    > Responsabilidad, cantidad de args: 512\n      train_set size = 409, test_set size = 103\n    > Paz / Convivencia pacífica, cantidad de args: 540\n      train_set size = 432, test_set size = 108\n    > Solidaridad, cantidad de args: 1336\n      train_set size = 1068, test_set size = 268\n    > Patriotismo, cantidad de args: 101\n      train_set size = 80, test_set size = 21\n    > Ciudadanía, cantidad de args: 185\n      train_set size = 148, test_set size = 37\n",
      " > topic 1 results\n0.4701546022320057\n0.7727040032763387\n > Topico 2\n    > Igualdad ante la ley, cantidad de args: 2853\n      train_set size = 2282, test_set size = 571\n    > Libertad de expresión, cantidad de args: 2059\n      train_set size = 1647, test_set size = 412\n    > A la seguridad social, cantidad de args: 2007\n      train_set size = 1605, test_set size = 402\n    > A la vivienda digna, cantidad de args: 2406\n      train_set size = 1924, test_set size = 482\n    > A la educación, cantidad de args: 5444\n      train_set size = 4355, test_set size = 1089\n",
      "    > Derechos del niño, niña y adolecente, cantidad de args: 1095\n      train_set size = 876, test_set size = 219\n    > A la participación, cantidad de args: 1222\n      train_set size = 977, test_set size = 245\n    > Libertad de conciencia, cantidad de args: 551\n      train_set size = 440, test_set size = 111\n    > A la vida, cantidad de args: 2639\n      train_set size = 2111, test_set size = 528\n    > A la integridad física y psíquica, cantidad de args: 634\n      train_set size = 507, test_set size = 127\n    > A la salud, cantidad de args: 5671\n      train_set size = 4536, test_set size = 1135\n",
      "    > Igualdad, cantidad de args: 1292\n      train_set size = 1033, test_set size = 259\n    > A la integración de discapacidad, cantidad de args: 647\n      train_set size = 517, test_set size = 130\n    > A la información, cantidad de args: 776\n      train_set size = 620, test_set size = 156\n    > A sindicalizarse y a la negociación colectiva, cantidad de args: 979\n      train_set size = 783, test_set size = 196\n    > De los pueblos indígenas, cantidad de args: 973\n      train_set size = 778, test_set size = 195\n    > Al salario equitativo, cantidad de args: 1817\n      train_set size = 1453, test_set size = 364\n    > Libertad personal, cantidad de args: 657\n      train_set size = 525, test_set size = 132\n    > Al trabajo, cantidad de args: 1122\n      train_set size = 897, test_set size = 225\n    > Proteccion judicial de los derechos, cantidad de args: 566\n      train_set size = 452, test_set size = 114\n    > A la seguridad / Vida sin violencia, cantidad de args: 1270\n      train_set size = 1016, test_set size = 254\n    > Respeto a la naturaleza / Medio ambiente, cantidad de args: 1857\n      train_set size = 1485, test_set size = 372\n    > De propiedad, cantidad de args: 660\n      train_set size = 528, test_set size = 132\n    > Igualdad de acceso a la justicia / Debido proceso, cantidad de args: 587\n      train_set size = 469, test_set size = 118\n    > No discriminación, cantidad de args: 1166\n      train_set size = 932, test_set size = 234\n    > A huelga, cantidad de args: 363\n      train_set size = 290, test_set size = 73\n    > A sufragio / Votar, cantidad de args: 1003\n      train_set size = 802, test_set size = 201\n    > De petición ante las autoridades, cantidad de args: 65\n      train_set size = 52, test_set size = 13\n    > Igualdad ante los tributos, cantidad de args: 109\n      train_set size = 87, test_set size = 22\n    > Ser elegido en cargos públicos, cantidad de args: 156\n      train_set size = 124, test_set size = 32\n    > Acceso a información pública, cantidad de args: 280\n      train_set size = 224, test_set size = 56\n    > Libertad de trabajo, cantidad de args: 264\n      train_set size = 211, test_set size = 53\n    > Libertad de enseñanza, cantidad de args: 468\n      train_set size = 374, test_set size = 94\n    > A la identidad cultural, cantidad de args: 336\n      train_set size = 268, test_set size = 68\n    > Igualdad de género, cantidad de args: 968\n      train_set size = 774, test_set size = 194\n    > Libre iniciativa económica / Libre empresa, cantidad de args: 239\n      train_set size = 191, test_set size = 48\n    > A la honra / Al honor, cantidad de args: 63\n      train_set size = 50, test_set size = 13\n    > Acceso a la cultura, cantidad de args: 370\n      train_set size = 296, test_set size = 74\n    > Derecho de asociación, cantidad de args: 229\n      train_set size = 183, test_set size = 46\n    > A la nacionalidad, cantidad de args: 146\n      train_set size = 116, test_set size = 30\n    > Privacidad e intimidad, cantidad de args: 261\n      train_set size = 208, test_set size = 53\n    > Reunión pacífica, cantidad de args: 66\n      train_set size = 52, test_set size = 14\n    > Igualdad ante las cargas públicas, cantidad de args: 29\n      train_set size = 23, test_set size = 6\n    > Libertad ambulatoria, cantidad de args: 57\n      train_set size = 45, test_set size = 12\n",
      " > topic 2 results\n0.5364359415305245\n0.7928847807394669\n > Topico 3\n    > Respeto por la constitución, cantidad de args: 4768\n      train_set size = 3814, test_set size = 954\n    > Servicio a la comunidad, cantidad de args: 3072\n      train_set size = 2457, test_set size = 615\n",
      "    > De protección y conservación de patrimonio histórico y cultural, cantidad de args: 4733\n      train_set size = 3786, test_set size = 947\n    > Responsabilidad, cantidad de args: 2572\n      train_set size = 2057, test_set size = 515\n    > Deberes de protección de conservación de la naturaleza, cantidad de args: 5890\n      train_set size = 4712, test_set size = 1178\n",
      "    > Protección, promoción y respeto de los derechos humanos y fundamentales, cantidad de args: 6138\n      train_set size = 4910, test_set size = 1228\n",
      "    > Respeto de derechos de otros, cantidad de args: 4523\n      train_set size = 3618, test_set size = 905\n    > Cumplimiento de las leyes y normas, cantidad de args: 4022\n      train_set size = 3217, test_set size = 805\n",
      "    > De satisfacer cargas públicas, cantidad de args: 444\n      train_set size = 355, test_set size = 89\n    > Cumplimiento de obligaciones fiscales, cantidad de args: 1708\n      train_set size = 1366, test_set size = 342\n    > Cumplimiento de tratados y obligaciones internacionales, cantidad de args: 1727\n      train_set size = 1381, test_set size = 346\n    > Ejercicio legítimo y no abusivo de los derechos, cantidad de args: 3787\n      train_set size = 3029, test_set size = 758\n",
      " > topic 3 results\n0.6034323888504953\n0.8765261460492973\n > Topico 4\n    > Defensor del Pueblo / Ciudadano, cantidad de args: 3529\n      train_set size = 2823, test_set size = 706\n    > Cambio o reforma constitucional, cantidad de args: 2629\n      train_set size = 2103, test_set size = 526\n    > Plebiscitos, referendos y consultas, cantidad de args: 5239\n      train_set size = 4191, test_set size = 1048\n",
      "    > Contraloría general / Tribunales de cuentas, cantidad de args: 2159\n      train_set size = 1727, test_set size = 432\n    > Fuerzas Armadas, cantidad de args: 2856\n      train_set size = 2284, test_set size = 572\n    > Forma de Estado, cantidad de args: 2185\n      train_set size = 1748, test_set size = 437\n    > Justicia constitucional, cantidad de args: 1092\n      train_set size = 873, test_set size = 219\n    > Poder judicial (estructura y funciones), cantidad de args: 3047\n      train_set size = 2437, test_set size = 610\n    > Gobierno local / Municipal, cantidad de args: 2510",
      "\n      train_set size = 2008, test_set size = 502\n    > Régimen de gobierno presidencial /Semi-presidencial / Parlamentario, cantidad de args: 2612\n      train_set size = 2089, test_set size = 523\n    > Gobierno regional, cantidad de args: 2816\n      train_set size = 2252, test_set size = 564\n    > Presidencia de la República, cantidad de args: 2147\n      train_set size = 1717, test_set size = 430\n    > Congreso o parlamento, cantidad de args: 3839\n      train_set size = 3071, test_set size = 768\n",
      "    > División territorial, cantidad de args: 679\n      train_set size = 543, test_set size = 136\n    > Gobierno provincial, cantidad de args: 571\n      train_set size = 456, test_set size = 115\n    > Juicio político /acusación constitucional, cantidad de args: 1398\n      train_set size = 1118, test_set size = 280\n    > Justicia electoral, cantidad de args: 697\n      train_set size = 557, test_set size = 140\n    > Ministerio Público / Defensoría Pública, cantidad de args: 960\n      train_set size = 768, test_set size = 192\n    > Jefatura de gobierno, cantidad de args: 230\n      train_set size = 184, test_set size = 46\n    > Estado de excepción, cantidad de args: 460\n      train_set size = 368, test_set size = 92\n    > Gobierno nacional (estructura y funciones), cantidad de args: 820\n      train_set size = 656, test_set size = 164\n",
      " > topic 4 results\n0.4724770642201835\n0.7904022582921666\nExperimento 2\n > Topico 1\n    > Justicia, cantidad de args: 4166\n      train_set size = 3332, test_set size = 834\n    > Democracia, cantidad de args: 4002\n      train_set size = 3201, test_set size = 801\n",
      "    > Respeto / Conservación de la naturaleza o medio ambiente, cantidad de args: 3898\n      train_set size = 3118, test_set size = 780\n    > Autonomía / Libertad, cantidad de args: 1842\n      train_set size = 1473, test_set size = 369\n    > Estado de Derecho, cantidad de args: 1594\n      train_set size = 1275, test_set size = 319\n    > Igualdad, cantidad de args: 3931\n      train_set size = 3144, test_set size = 787\n",
      "    > Participación, cantidad de args: 1247\n      train_set size = 997, test_set size = 250\n    > Unidad, cantidad de args: 123\n      train_set size = 98, test_set size = 25\n    > Respeto, cantidad de args: 2621\n      train_set size = 2096, test_set size = 525\n    > Descentralización, cantidad de args: 3190\n      train_set size = 2552, test_set size = 638\n",
      "    > Identidad cultural, cantidad de args: 582\n      train_set size = 465, test_set size = 117\n    > Estado laico, cantidad de args: 1570\n      train_set size = 1256, test_set size = 314\n    > Equidad de género, cantidad de args: 1762\n      train_set size = 1409, test_set size = 353\n    > Subsidiaridad, cantidad de args: 379\n      train_set size = 303, test_set size = 76\n    > Probidad, cantidad de args: 1048\n      train_set size = 838, test_set size = 210\n    > República, cantidad de args: 211\n      train_set size = 168, test_set size = 43\n    > Diversidad, cantidad de args: 764\n      train_set size = 611, test_set size = 153\n    > Dignidad, cantidad de args: 2029\n      train_set size = 1623, test_set size = 406\n    > Transparencia y publicidad, cantidad de args: 942\n      train_set size = 753, test_set size = 189\n    > Desarrollo, cantidad de args: 552\n      train_set size = 441, test_set size = 111\n    > Innovación / Creatividad, cantidad de args: 215\n      train_set size = 172, test_set size = 43\n    > Bien Común / Comunidad, cantidad de args: 2870\n      train_set size = 2296, test_set size = 574\n    > Multiculturalidad, cantidad de args: 904\n      train_set size = 723, test_set size = 181\n    > Inclusión, cantidad de args: 1278\n      train_set size = 1022, test_set size = 256\n    > Seguridad, cantidad de args: 1330\n      train_set size = 1064, test_set size = 266\n",
      "    > Emprendimiento libre, cantidad de args: 273\n      train_set size = 218, test_set size = 55\n    > Soberanía, cantidad de args: 588\n      train_set size = 470, test_set size = 118\n    > Integración, cantidad de args: 309\n      train_set size = 247, test_set size = 62\n    > Pluralismo, cantidad de args: 189\n      train_set size = 151, test_set size = 38\n    > Amistad cívica, cantidad de args: 277\n      train_set size = 221, test_set size = 56\n    > Plurinacionalismo, cantidad de args: 717\n      train_set size = 573, test_set size = 144\n    > Tolerancia, cantidad de args: 681\n      train_set size = 544, test_set size = 137\n    > Responsabilidad, cantidad de args: 512\n      train_set size = 409, test_set size = 103\n    > Paz / Convivencia pacífica, cantidad de args: 540\n      train_set size = 432, test_set size = 108\n    > Solidaridad, cantidad de args: 1336\n      train_set size = 1068, test_set size = 268\n    > Patriotismo, cantidad de args: 101\n      train_set size = 80, test_set size = 21\n    > Ciudadanía, cantidad de args: 185\n      train_set size = 148, test_set size = 37\n",
      " > topic 1 results\n0.4540800655267738\n0.7642059997952289\n > Topico 2\n    > Igualdad ante la ley, cantidad de args: 2853\n      train_set size = 2282, test_set size = 571\n    > Libertad de expresión, cantidad de args: 2059\n      train_set size = 1647, test_set size = 412\n    > A la seguridad social, cantidad de args: 2007\n      train_set size = 1605, test_set size = 402\n    > A la vivienda digna, cantidad de args: 2406\n      train_set size = 1924, test_set size = 482\n    > A la educación, cantidad de args: 5444\n      train_set size = 4355, test_set size = 1089\n",
      "    > Derechos del niño, niña y adolecente, cantidad de args: 1095\n      train_set size = 876, test_set size = 219\n    > A la participación, cantidad de args: 1222\n      train_set size = 977, test_set size = 245\n    > Libertad de conciencia, cantidad de args: 551\n      train_set size = 440, test_set size = 111\n    > A la vida, cantidad de args: 2639\n      train_set size = 2111, test_set size = 528\n    > A la integridad física y psíquica, cantidad de args: 634\n      train_set size = 507, test_set size = 127\n    > A la salud, cantidad de args: 5671\n      train_set size = 4536, test_set size = 1135\n",
      "    > Igualdad, cantidad de args: 1292\n      train_set size = 1033, test_set size = 259\n    > A la integración de discapacidad, cantidad de args: 647\n      train_set size = 517, test_set size = 130\n    > A la información, cantidad de args: 776\n      train_set size = 620, test_set size = 156\n    > A sindicalizarse y a la negociación colectiva, cantidad de args: 979\n      train_set size = 783, test_set size = 196\n    > De los pueblos indígenas, cantidad de args: 973\n      train_set size = 778, test_set size = 195\n    > Al salario equitativo, cantidad de args: 1817\n      train_set size = 1453, test_set size = 364\n    > Libertad personal, cantidad de args: 657\n      train_set size = 525, test_set size = 132\n    > Al trabajo, cantidad de args: 1122\n      train_set size = 897, test_set size = 225\n    > Proteccion judicial de los derechos, cantidad de args: 566\n      train_set size = 452, test_set size = 114\n    > A la seguridad / Vida sin violencia, cantidad de args: 1270\n      train_set size = 1016, test_set size = 254",
      "\n    > Respeto a la naturaleza / Medio ambiente, cantidad de args: 1857\n      train_set size = 1485, test_set size = 372\n    > De propiedad, cantidad de args: 660\n      train_set size = 528, test_set size = 132\n    > Igualdad de acceso a la justicia / Debido proceso, cantidad de args: 587\n      train_set size = 469, test_set size = 118\n    > No discriminación, cantidad de args: 1166\n      train_set size = 932, test_set size = 234\n    > A huelga, cantidad de args: 363\n      train_set size = 290, test_set size = 73\n    > A sufragio / Votar, cantidad de args: 1003\n      train_set size = 802, test_set size = 201\n    > De petición ante las autoridades, cantidad de args: 65\n      train_set size = 52, test_set size = 13\n    > Igualdad ante los tributos, cantidad de args: 109\n      train_set size = 87, test_set size = 22\n    > Ser elegido en cargos públicos, cantidad de args: 156\n      train_set size = 124, test_set size = 32\n    > Acceso a información pública, cantidad de args: 280\n      train_set size = 224, test_set size = 56\n    > Libertad de trabajo, cantidad de args: 264\n      train_set size = 211, test_set size = 53\n    > Libertad de enseñanza, cantidad de args: 468\n      train_set size = 374, test_set size = 94\n    > A la identidad cultural, cantidad de args: 336\n      train_set size = 268, test_set size = 68\n    > Igualdad de género, cantidad de args: 968\n      train_set size = 774, test_set size = 194\n    > Libre iniciativa económica / Libre empresa, cantidad de args: 239\n      train_set size = 191, test_set size = 48\n    > A la honra / Al honor, cantidad de args: 63\n      train_set size = 50, test_set size = 13\n    > Acceso a la cultura, cantidad de args: 370\n      train_set size = 296, test_set size = 74\n    > Derecho de asociación, cantidad de args: 229\n      train_set size = 183, test_set size = 46\n    > A la nacionalidad, cantidad de args: 146\n      train_set size = 116, test_set size = 30\n    > Privacidad e intimidad, cantidad de args: 261\n      train_set size = 208, test_set size = 53\n    > Reunión pacífica, cantidad de args: 66\n      train_set size = 52, test_set size = 14\n    > Igualdad ante las cargas públicas, cantidad de args: 29\n      train_set size = 23, test_set size = 6\n    > Libertad ambulatoria, cantidad de args: 57\n      train_set size = 45, test_set size = 12\n",
      " > topic 2 results\n0.5180567497850387\n0.7848237317282889\n > Topico 3\n    > Respeto por la constitución, cantidad de args: 4768\n      train_set size = 3814, test_set size = 954\n    > Servicio a la comunidad, cantidad de args: 3072\n      train_set size = 2457, test_set size = 615\n    > De protección y conservación de patrimonio histórico y cultural, cantidad de args: 4733\n      train_set size = 3786, test_set size = 947\n",
      "    > Responsabilidad, cantidad de args: 2572\n      train_set size = 2057, test_set size = 515\n    > Deberes de protección de conservación de la naturaleza, cantidad de args: 5890\n      train_set size = 4712, test_set size = 1178\n",
      "    > Protección, promoción y respeto de los derechos humanos y fundamentales, cantidad de args: 6138\n      train_set size = 4910, test_set size = 1228\n",
      "    > Respeto de derechos de otros, cantidad de args: 4523\n      train_set size = 3618, test_set size = 905\n",
      "    > Cumplimiento de las leyes y normas, cantidad de args: 4022\n      train_set size = 3217, test_set size = 805\n    > De satisfacer cargas públicas, cantidad de args: 444\n      train_set size = 355, test_set size = 89\n    > Cumplimiento de obligaciones fiscales, cantidad de args: 1708\n      train_set size = 1366, test_set size = 342\n    > Cumplimiento de tratados y obligaciones internacionales, cantidad de args: 1727\n      train_set size = 1381, test_set size = 346\n    > Ejercicio legítimo y no abusivo de los derechos, cantidad de args: 3787\n      train_set size = 3029, test_set size = 758\n",
      " > topic 3 results\n0.6030868463487675\n0.8842432619212163\n > Topico 4\n    > Defensor del Pueblo / Ciudadano, cantidad de args: 3529\n      train_set size = 2823, test_set size = 706\n    > Cambio o reforma constitucional, cantidad de args: 2629\n      train_set size = 2103, test_set size = 526\n    > Plebiscitos, referendos y consultas, cantidad de args: 5239\n      train_set size = 4191, test_set size = 1048\n",
      "    > Contraloría general / Tribunales de cuentas, cantidad de args: 2159\n      train_set size = 1727, test_set size = 432\n    > Fuerzas Armadas, cantidad de args: 2856\n      train_set size = 2284, test_set size = 572\n    > Forma de Estado, cantidad de args: 2185\n      train_set size = 1748, test_set size = 437\n    > Justicia constitucional, cantidad de args: 1092\n      train_set size = 873, test_set size = 219\n    > Poder judicial (estructura y funciones), cantidad de args: 3047\n      train_set size = 2437, test_set size = 610\n    > Gobierno local / Municipal, cantidad de args: 2510\n      train_set size = 2008, test_set size = 502\n",
      "    > Régimen de gobierno presidencial /Semi-presidencial / Parlamentario, cantidad de args: 2612\n      train_set size = 2089, test_set size = 523\n    > Gobierno regional, cantidad de args: 2816\n      train_set size = 2252, test_set size = 564\n    > Presidencia de la República, cantidad de args: 2147\n      train_set size = 1717, test_set size = 430\n",
      "    > Congreso o parlamento, cantidad de args: 3839\n      train_set size = 3071, test_set size = 768\n    > División territorial, cantidad de args: 679\n      train_set size = 543, test_set size = 136\n    > Gobierno provincial, cantidad de args: 571\n      train_set size = 456, test_set size = 115\n    > Juicio político /acusación constitucional, cantidad de args: 1398\n      train_set size = 1118, test_set size = 280\n    > Justicia electoral, cantidad de args: 697\n      train_set size = 557, test_set size = 140\n    > Ministerio Público / Defensoría Pública, cantidad de args: 960\n      train_set size = 768, test_set size = 192\n    > Jefatura de gobierno, cantidad de args: 230\n      train_set size = 184, test_set size = 46\n    > Estado de excepción, cantidad de args: 460\n      train_set size = 368, test_set size = 92\n    > Gobierno nacional (estructura y funciones), cantidad de args: 820\n      train_set size = 656, test_set size = 164\n",
      " > topic 4 results\n0.4931780757468831\n0.7989884733003999\nExperimento 3\n > Topico 1\n    > Justicia, cantidad de args: 4166\n      train_set size = 3332, test_set size = 834\n    > Democracia, cantidad de args: 4002\n      train_set size = 3201, test_set size = 801\n",
      "    > Respeto / Conservación de la naturaleza o medio ambiente, cantidad de args: 3898\n      train_set size = 3118, test_set size = 780\n    > Autonomía / Libertad, cantidad de args: 1842\n      train_set size = 1473, test_set size = 369\n    > Estado de Derecho, cantidad de args: 1594\n      train_set size = 1275, test_set size = 319\n    > Igualdad, cantidad de args: 3931\n      train_set size = 3144, test_set size = 787\n",
      "    > Participación, cantidad de args: 1247\n      train_set size = 997, test_set size = 250\n    > Unidad, cantidad de args: 123\n      train_set size = 98, test_set size = 25\n    > Respeto, cantidad de args: 2621\n      train_set size = 2096, test_set size = 525\n    > Descentralización, cantidad de args: 3190\n      train_set size = 2552, test_set size = 638\n",
      "    > Identidad cultural, cantidad de args: 582\n      train_set size = 465, test_set size = 117\n    > Estado laico, cantidad de args: 1570\n      train_set size = 1256, test_set size = 314\n    > Equidad de género, cantidad de args: 1762\n      train_set size = 1409, test_set size = 353\n    > Subsidiaridad, cantidad de args: 379\n      train_set size = 303, test_set size = 76\n    > Probidad, cantidad de args: 1048\n      train_set size = 838, test_set size = 210\n    > República, cantidad de args: 211\n      train_set size = 168, test_set size = 43\n    > Diversidad, cantidad de args: 764\n      train_set size = 611, test_set size = 153\n    > Dignidad, cantidad de args: 2029\n      train_set size = 1623, test_set size = 406\n    > Transparencia y publicidad, cantidad de args: 942\n      train_set size = 753, test_set size = 189\n    > Desarrollo, cantidad de args: 552\n      train_set size = 441, test_set size = 111\n    > Innovación / Creatividad, cantidad de args: 215\n      train_set size = 172, test_set size = 43\n    > Bien Común / Comunidad, cantidad de args: 2870\n      train_set size = 2296, test_set size = 574\n    > Multiculturalidad, cantidad de args: 904\n      train_set size = 723, test_set size = 181\n    > Inclusión, cantidad de args: 1278\n      train_set size = 1022, test_set size = 256\n    > Seguridad, cantidad de args: 1330\n      train_set size = 1064, test_set size = 266\n",
      "    > Emprendimiento libre, cantidad de args: 273\n      train_set size = 218, test_set size = 55\n    > Soberanía, cantidad de args: 588\n      train_set size = 470, test_set size = 118\n    > Integración, cantidad de args: 309\n      train_set size = 247, test_set size = 62\n    > Pluralismo, cantidad de args: 189\n      train_set size = 151, test_set size = 38\n    > Amistad cívica, cantidad de args: 277\n      train_set size = 221, test_set size = 56\n    > Plurinacionalismo, cantidad de args: 717\n      train_set size = 573, test_set size = 144\n    > Tolerancia, cantidad de args: 681\n      train_set size = 544, test_set size = 137\n    > Responsabilidad, cantidad de args: 512\n      train_set size = 409, test_set size = 103\n    > Paz / Convivencia pacífica, cantidad de args: 540\n      train_set size = 432, test_set size = 108\n    > Solidaridad, cantidad de args: 1336\n      train_set size = 1068, test_set size = 268\n    > Patriotismo, cantidad de args: 101\n      train_set size = 80, test_set size = 21\n    > Ciudadanía, cantidad de args: 185\n      train_set size = 148, test_set size = 37\n",
      " > topic 1 results\n0.47445479676461555\n0.7759803419678509\n > Topico 2\n    > Igualdad ante la ley, cantidad de args: 2853\n      train_set size = 2282, test_set size = 571\n    > Libertad de expresión, cantidad de args: 2059\n      train_set size = 1647, test_set size = 412\n    > A la seguridad social, cantidad de args: 2007\n      train_set size = 1605, test_set size = 402\n    > A la vivienda digna, cantidad de args: 2406\n      train_set size = 1924, test_set size = 482\n    > A la educación, cantidad de args: 5444\n      train_set size = 4355, test_set size = 1089\n",
      "    > Derechos del niño, niña y adolecente, cantidad de args: 1095\n      train_set size = 876, test_set size = 219\n    > A la participación, cantidad de args: 1222\n      train_set size = 977, test_set size = 245\n    > Libertad de conciencia, cantidad de args: 551\n      train_set size = 440, test_set size = 111\n    > A la vida, cantidad de args: 2639\n      train_set size = 2111, test_set size = 528\n    > A la integridad física y psíquica, cantidad de args: 634\n      train_set size = 507, test_set size = 127\n    > A la salud, cantidad de args: 5671\n      train_set size = 4536, test_set size = 1135\n",
      "    > Igualdad, cantidad de args: 1292\n      train_set size = 1033, test_set size = 259\n    > A la integración de discapacidad, cantidad de args: 647\n      train_set size = 517, test_set size = 130\n    > A la información, cantidad de args: 776\n      train_set size = 620, test_set size = 156\n    > A sindicalizarse y a la negociación colectiva, cantidad de args: 979\n      train_set size = 783, test_set size = 196\n    > De los pueblos indígenas, cantidad de args: 973\n      train_set size = 778, test_set size = 195\n    > Al salario equitativo, cantidad de args: 1817\n      train_set size = 1453, test_set size = 364\n    > Libertad personal, cantidad de args: 657\n      train_set size = 525, test_set size = 132\n    > Al trabajo, cantidad de args: 1122\n      train_set size = 897, test_set size = 225\n    > Proteccion judicial de los derechos, cantidad de args: 566\n      train_set size = 452, test_set size = 114\n    > A la seguridad / Vida sin violencia, cantidad de args: 1270\n      train_set size = 1016, test_set size = 254\n    > Respeto a la naturaleza / Medio ambiente, cantidad de args: 1857\n      train_set size = 1485, test_set size = 372\n    > De propiedad, cantidad de args: 660\n      train_set size = 528, test_set size = 132\n    > Igualdad de acceso a la justicia / Debido proceso, cantidad de args: 587\n      train_set size = 469, test_set size = 118\n    > No discriminación, cantidad de args: 1166\n      train_set size = 932, test_set size = 234\n    > A huelga, cantidad de args: 363\n      train_set size = 290, test_set size = 73\n    > A sufragio / Votar, cantidad de args: 1003\n      train_set size = 802, test_set size = 201\n    > De petición ante las autoridades, cantidad de args: 65\n      train_set size = 52, test_set size = 13\n    > Igualdad ante los tributos, cantidad de args: 109\n      train_set size = 87, test_set size = 22\n    > Ser elegido en cargos públicos, cantidad de args: 156\n      train_set size = 124, test_set size = 32\n    > Acceso a información pública, cantidad de args: 280\n      train_set size = 224, test_set size = 56\n    > Libertad de trabajo, cantidad de args: 264\n      train_set size = 211, test_set size = 53\n    > Libertad de enseñanza, cantidad de args: 468\n      train_set size = 374, test_set size = 94\n    > A la identidad cultural, cantidad de args: 336\n      train_set size = 268, test_set size = 68\n    > Igualdad de género, cantidad de args: 968\n      train_set size = 774, test_set size = 194\n    > Libre iniciativa económica / Libre empresa, cantidad de args: 239\n      train_set size = 191, test_set size = 48\n    > A la honra / Al honor, cantidad de args: 63\n      train_set size = 50, test_set size = 13\n    > Acceso a la cultura, cantidad de args: 370\n      train_set size = 296, test_set size = 74\n    > Derecho de asociación, cantidad de args: 229\n      train_set size = 183, test_set size = 46\n    > A la nacionalidad, cantidad de args: 146\n      train_set size = 116, test_set size = 30\n    > Privacidad e intimidad, cantidad de args: 261\n      train_set size = 208, test_set size = 53\n    > Reunión pacífica, cantidad de args: 66\n      train_set size = 52, test_set size = 14\n    > Igualdad ante las cargas públicas, cantidad de args: 29\n      train_set size = 23, test_set size = 6\n    > Libertad ambulatoria, cantidad de args: 57\n      train_set size = 45, test_set size = 12\n",
      " > topic 2 results\n0.5232158211521926\n0.7930997420464316\n > Topico 3\n    > Respeto por la constitución, cantidad de args: 4768\n      train_set size = 3814, test_set size = 954\n    > Servicio a la comunidad, cantidad de args: 3072\n      train_set size = 2457, test_set size = 615\n    > De protección y conservación de patrimonio histórico y cultural, cantidad de args: 4733\n      train_set size = 3786, test_set size = 947\n",
      "    > Responsabilidad, cantidad de args: 2572\n      train_set size = 2057, test_set size = 515\n    > Deberes de protección de conservación de la naturaleza, cantidad de args: 5890\n      train_set size = 4712, test_set size = 1178\n",
      "    > Protección, promoción y respeto de los derechos humanos y fundamentales, cantidad de args: 6138\n      train_set size = 4910, test_set size = 1228\n",
      "    > Respeto de derechos de otros, cantidad de args: 4523\n      train_set size = 3618, test_set size = 905\n",
      "    > Cumplimiento de las leyes y normas, cantidad de args: 4022\n      train_set size = 3217, test_set size = 805\n    > De satisfacer cargas públicas, cantidad de args: 444\n      train_set size = 355, test_set size = 89\n    > Cumplimiento de obligaciones fiscales, cantidad de args: 1708\n      train_set size = 1366, test_set size = 342\n    > Cumplimiento de tratados y obligaciones internacionales, cantidad de args: 1727\n      train_set size = 1381, test_set size = 346\n    > Ejercicio legítimo y no abusivo de los derechos, cantidad de args: 3787\n      train_set size = 3029, test_set size = 758\n",
      " > topic 3 results\n0.6033172080165861\n0.8815941027413039\n > Topico 4\n    > Defensor del Pueblo / Ciudadano, cantidad de args: 3529\n      train_set size = 2823, test_set size = 706\n    > Cambio o reforma constitucional, cantidad de args: 2629\n      train_set size = 2103, test_set size = 526\n    > Plebiscitos, referendos y consultas, cantidad de args: 5239\n      train_set size = 4191, test_set size = 1048\n",
      "    > Contraloría general / Tribunales de cuentas, cantidad de args: 2159\n      train_set size = 1727, test_set size = 432\n    > Fuerzas Armadas, cantidad de args: 2856\n      train_set size = 2284, test_set size = 572\n    > Forma de Estado, cantidad de args: 2185\n      train_set size = 1748, test_set size = 437\n    > Justicia constitucional, cantidad de args: 1092\n      train_set size = 873, test_set size = 219\n    > Poder judicial (estructura y funciones), cantidad de args: 3047\n      train_set size = 2437, test_set size = 610\n",
      "    > Gobierno local / Municipal, cantidad de args: 2510\n      train_set size = 2008, test_set size = 502\n    > Régimen de gobierno presidencial /Semi-presidencial / Parlamentario, cantidad de args: 2612\n      train_set size = 2089, test_set size = 523\n    > Gobierno regional, cantidad de args: 2816\n      train_set size = 2252, test_set size = 564\n",
      "    > Presidencia de la República, cantidad de args: 2147\n      train_set size = 1717, test_set size = 430\n    > Congreso o parlamento, cantidad de args: 3839\n      train_set size = 3071, test_set size = 768\n    > División territorial, cantidad de args: 679\n      train_set size = 543, test_set size = 136\n    > Gobierno provincial, cantidad de args: 571\n      train_set size = 456, test_set size = 115\n    > Juicio político /acusación constitucional, cantidad de args: 1398\n      train_set size = 1118, test_set size = 280\n    > Justicia electoral, cantidad de args: 697\n      train_set size = 557, test_set size = 140\n",
      "    > Ministerio Público / Defensoría Pública, cantidad de args: 960\n      train_set size = 768, test_set size = 192\n    > Jefatura de gobierno, cantidad de args: 230\n      train_set size = 184, test_set size = 46\n    > Estado de excepción, cantidad de args: 460\n      train_set size = 368, test_set size = 92\n    > Gobierno nacional (estructura y funciones), cantidad de args: 820\n      train_set size = 656, test_set size = 164\n",
      " > topic 4 results\n0.4969418960244648\n0.7988708539167255\nExperimento 4\n > Topico 1\n    > Justicia, cantidad de args: 4166\n      train_set size = 3332, test_set size = 834\n    > Democracia, cantidad de args: 4002\n      train_set size = 3201, test_set size = 801\n",
      "    > Respeto / Conservación de la naturaleza o medio ambiente, cantidad de args: 3898\n      train_set size = 3118, test_set size = 780\n    > Autonomía / Libertad, cantidad de args: 1842\n      train_set size = 1473, test_set size = 369\n    > Estado de Derecho, cantidad de args: 1594\n      train_set size = 1275, test_set size = 319\n    > Igualdad, cantidad de args: 3931\n      train_set size = 3144, test_set size = 787\n",
      "    > Participación, cantidad de args: 1247\n      train_set size = 997, test_set size = 250\n    > Unidad, cantidad de args: 123\n      train_set size = 98, test_set size = 25\n    > Respeto, cantidad de args: 2621\n      train_set size = 2096, test_set size = 525\n    > Descentralización, cantidad de args: 3190\n      train_set size = 2552, test_set size = 638\n",
      "    > Identidad cultural, cantidad de args: 582\n      train_set size = 465, test_set size = 117\n    > Estado laico, cantidad de args: 1570\n      train_set size = 1256, test_set size = 314\n    > Equidad de género, cantidad de args: 1762\n      train_set size = 1409, test_set size = 353\n    > Subsidiaridad, cantidad de args: 379\n      train_set size = 303, test_set size = 76\n    > Probidad, cantidad de args: 1048\n      train_set size = 838, test_set size = 210\n    > República, cantidad de args: 211\n      train_set size = 168, test_set size = 43\n    > Diversidad, cantidad de args: 764\n      train_set size = 611, test_set size = 153\n    > Dignidad, cantidad de args: 2029\n      train_set size = 1623, test_set size = 406\n    > Transparencia y publicidad, cantidad de args: 942\n      train_set size = 753, test_set size = 189\n    > Desarrollo, cantidad de args: 552\n      train_set size = 441, test_set size = 111\n    > Innovación / Creatividad, cantidad de args: 215\n      train_set size = 172, test_set size = 43\n    > Bien Común / Comunidad, cantidad de args: 2870\n      train_set size = 2296, test_set size = 574\n    > Multiculturalidad, cantidad de args: 904\n      train_set size = 723, test_set size = 181\n    > Inclusión, cantidad de args: 1278\n      train_set size = 1022, test_set size = 256\n    > Seguridad, cantidad de args: 1330\n      train_set size = 1064, test_set size = 266\n",
      "    > Emprendimiento libre, cantidad de args: 273\n      train_set size = 218, test_set size = 55\n    > Soberanía, cantidad de args: 588\n      train_set size = 470, test_set size = 118\n    > Integración, cantidad de args: 309\n      train_set size = 247, test_set size = 62\n    > Pluralismo, cantidad de args: 189\n      train_set size = 151, test_set size = 38\n    > Amistad cívica, cantidad de args: 277\n      train_set size = 221, test_set size = 56\n    > Plurinacionalismo, cantidad de args: 717\n      train_set size = 573, test_set size = 144\n    > Tolerancia, cantidad de args: 681\n      train_set size = 544, test_set size = 137\n    > Responsabilidad, cantidad de args: 512\n      train_set size = 409, test_set size = 103\n    > Paz / Convivencia pacífica, cantidad de args: 540\n      train_set size = 432, test_set size = 108\n    > Solidaridad, cantidad de args: 1336\n      train_set size = 1068, test_set size = 268\n    > Patriotismo, cantidad de args: 101\n      train_set size = 80, test_set size = 21\n    > Ciudadanía, cantidad de args: 185\n      train_set size = 148, test_set size = 37\n",
      " > topic 1 results\n0.47087130132077404\n0.7755707996314118\n > Topico 2\n    > Igualdad ante la ley, cantidad de args: 2853\n      train_set size = 2282, test_set size = 571\n    > Libertad de expresión, cantidad de args: 2059\n      train_set size = 1647, test_set size = 412\n    > A la seguridad social, cantidad de args: 2007\n      train_set size = 1605, test_set size = 402\n    > A la vivienda digna, cantidad de args: 2406\n      train_set size = 1924, test_set size = 482\n    > A la educación, cantidad de args: 5444\n      train_set size = 4355, test_set size = 1089\n",
      "    > Derechos del niño, niña y adolecente, cantidad de args: 1095\n      train_set size = 876, test_set size = 219\n    > A la participación, cantidad de args: 1222\n      train_set size = 977, test_set size = 245\n    > Libertad de conciencia, cantidad de args: 551\n      train_set size = 440, test_set size = 111\n    > A la vida, cantidad de args: 2639\n      train_set size = 2111, test_set size = 528\n    > A la integridad física y psíquica, cantidad de args: 634\n      train_set size = 507, test_set size = 127\n    > A la salud, cantidad de args: 5671\n      train_set size = 4536, test_set size = 1135\n",
      "    > Igualdad, cantidad de args: 1292\n      train_set size = 1033, test_set size = 259\n    > A la integración de discapacidad, cantidad de args: 647\n      train_set size = 517, test_set size = 130\n    > A la información, cantidad de args: 776\n      train_set size = 620, test_set size = 156\n    > A sindicalizarse y a la negociación colectiva, cantidad de args: 979\n      train_set size = 783, test_set size = 196\n    > De los pueblos indígenas, cantidad de args: 973\n      train_set size = 778, test_set size = 195\n    > Al salario equitativo, cantidad de args: 1817\n      train_set size = 1453, test_set size = 364\n    > Libertad personal, cantidad de args: 657\n      train_set size = 525, test_set size = 132\n    > Al trabajo, cantidad de args: 1122\n      train_set size = 897, test_set size = 225\n    > Proteccion judicial de los derechos, cantidad de args: 566\n      train_set size = 452, test_set size = 114\n    > A la seguridad / Vida sin violencia, cantidad de args: 1270\n      train_set size = 1016, test_set size = 254\n    > Respeto a la naturaleza / Medio ambiente, cantidad de args: 1857\n      train_set size = 1485, test_set size = 372\n    > De propiedad, cantidad de args: 660\n      train_set size = 528, test_set size = 132\n    > Igualdad de acceso a la justicia / Debido proceso, cantidad de args: 587\n      train_set size = 469, test_set size = 118\n    > No discriminación, cantidad de args: 1166\n      train_set size = 932, test_set size = 234\n    > A huelga, cantidad de args: 363\n      train_set size = 290, test_set size = 73\n    > A sufragio / Votar, cantidad de args: 1003\n      train_set size = 802, test_set size = 201\n    > De petición ante las autoridades, cantidad de args: 65\n      train_set size = 52, test_set size = 13\n    > Igualdad ante los tributos, cantidad de args: 109\n      train_set size = 87, test_set size = 22\n    > Ser elegido en cargos públicos, cantidad de args: 156\n      train_set size = 124, test_set size = 32\n    > Acceso a información pública, cantidad de args: 280\n      train_set size = 224, test_set size = 56\n    > Libertad de trabajo, cantidad de args: 264\n      train_set size = 211, test_set size = 53\n    > Libertad de enseñanza, cantidad de args: 468\n      train_set size = 374, test_set size = 94\n    > A la identidad cultural, cantidad de args: 336\n      train_set size = 268, test_set size = 68\n    > Igualdad de género, cantidad de args: 968\n      train_set size = 774, test_set size = 194\n    > Libre iniciativa económica / Libre empresa, cantidad de args: 239\n      train_set size = 191, test_set size = 48\n    > A la honra / Al honor, cantidad de args: 63\n      train_set size = 50, test_set size = 13\n    > Acceso a la cultura, cantidad de args: 370\n      train_set size = 296, test_set size = 74\n    > Derecho de asociación, cantidad de args: 229\n      train_set size = 183, test_set size = 46\n    > A la nacionalidad, cantidad de args: 146\n      train_set size = 116, test_set size = 30\n    > Privacidad e intimidad, cantidad de args: 261\n      train_set size = 208, test_set size = 53\n    > Reunión pacífica, cantidad de args: 66\n      train_set size = 52, test_set size = 14\n    > Igualdad ante las cargas públicas, cantidad de args: 29\n      train_set size = 23, test_set size = 6\n    > Libertad ambulatoria, cantidad de args: 57\n      train_set size = 45, test_set size = 12\n",
      " > topic 2 results\n0.5276225279449699\n0.7870808254514188\n > Topico 3\n    > Respeto por la constitución, cantidad de args: 4768\n      train_set size = 3814, test_set size = 954\n    > Servicio a la comunidad, cantidad de args: 3072\n      train_set size = 2457, test_set size = 615\n",
      "    > De protección y conservación de patrimonio histórico y cultural, cantidad de args: 4733\n      train_set size = 3786, test_set size = 947\n    > Responsabilidad, cantidad de args: 2572\n      train_set size = 2057, test_set size = 515\n    > Deberes de protección de conservación de la naturaleza, cantidad de args: 5890",
      "\n      train_set size = 4712, test_set size = 1178\n",
      "    > Protección, promoción y respeto de los derechos humanos y fundamentales, cantidad de args: 6138\n      train_set size = 4910, test_set size = 1228\n",
      "    > Respeto de derechos de otros, cantidad de args: 4523\n      train_set size = 3618, test_set size = 905\n",
      "    > Cumplimiento de las leyes y normas, cantidad de args: 4022\n      train_set size = 3217, test_set size = 805\n    > De satisfacer cargas públicas, cantidad de args: 444\n      train_set size = 355, test_set size = 89\n    > Cumplimiento de obligaciones fiscales, cantidad de args: 1708\n      train_set size = 1366, test_set size = 342\n    > Cumplimiento de tratados y obligaciones internacionales, cantidad de args: 1727\n      train_set size = 1381, test_set size = 346\n    > Ejercicio legítimo y no abusivo de los derechos, cantidad de args: 3787\n      train_set size = 3029, test_set size = 758\n",
      " > topic 3 results\n0.5952545496429394\n0.8847039852568532\n > Topico 4\n    > Defensor del Pueblo / Ciudadano, cantidad de args: 3529\n      train_set size = 2823, test_set size = 706\n    > Cambio o reforma constitucional, cantidad de args: 2629\n      train_set size = 2103, test_set size = 526\n    > Plebiscitos, referendos y consultas, cantidad de args: 5239\n      train_set size = 4191, test_set size = 1048\n",
      "    > Contraloría general / Tribunales de cuentas, cantidad de args: 2159\n      train_set size = 1727, test_set size = 432\n    > Fuerzas Armadas, cantidad de args: 2856\n      train_set size = 2284, test_set size = 572\n    > Forma de Estado, cantidad de args: 2185\n      train_set size = 1748, test_set size = 437\n    > Justicia constitucional, cantidad de args: 1092\n      train_set size = 873, test_set size = 219\n    > Poder judicial (estructura y funciones), cantidad de args: 3047\n      train_set size = 2437, test_set size = 610\n    > Gobierno local / Municipal, cantidad de args: 2510\n      train_set size = 2008, test_set size = 502\n",
      "    > Régimen de gobierno presidencial /Semi-presidencial / Parlamentario, cantidad de args: 2612\n      train_set size = 2089, test_set size = 523\n    > Gobierno regional, cantidad de args: 2816\n      train_set size = 2252, test_set size = 564\n    > Presidencia de la República, cantidad de args: 2147\n      train_set size = 1717, test_set size = 430\n",
      "    > Congreso o parlamento, cantidad de args: 3839\n      train_set size = 3071, test_set size = 768\n    > División territorial, cantidad de args: 679\n      train_set size = 543, test_set size = 136\n    > Gobierno provincial, cantidad de args: 571\n      train_set size = 456, test_set size = 115\n    > Juicio político /acusación constitucional, cantidad de args: 1398\n      train_set size = 1118, test_set size = 280\n    > Justicia electoral, cantidad de args: 697\n      train_set size = 557, test_set size = 140\n    > Ministerio Público / Defensoría Pública, cantidad de args: 960\n      train_set size = 768, test_set size = 192\n    > Jefatura de gobierno, cantidad de args: 230\n      train_set size = 184, test_set size = 46\n    > Estado de excepción, cantidad de args: 460\n      train_set size = 368, test_set size = 92\n    > Gobierno nacional (estructura y funciones), cantidad de args: 820\n      train_set size = 656, test_set size = 164\n",
      " > topic 4 results\n0.4908256880733945\n0.7928722653493295\nExperimento 5\n > Topico 1\n    > Justicia, cantidad de args: 4166\n      train_set size = 3332, test_set size = 834\n    > Democracia, cantidad de args: 4002\n      train_set size = 3201, test_set size = 801\n",
      "    > Respeto / Conservación de la naturaleza o medio ambiente, cantidad de args: 3898\n      train_set size = 3118, test_set size = 780\n    > Autonomía / Libertad, cantidad de args: 1842\n      train_set size = 1473, test_set size = 369\n    > Estado de Derecho, cantidad de args: 1594\n      train_set size = 1275, test_set size = 319\n    > Igualdad, cantidad de args: 3931\n      train_set size = 3144, test_set size = 787\n",
      "    > Participación, cantidad de args: 1247\n      train_set size = 997, test_set size = 250\n    > Unidad, cantidad de args: 123\n      train_set size = 98, test_set size = 25\n    > Respeto, cantidad de args: 2621\n      train_set size = 2096, test_set size = 525\n    > Descentralización, cantidad de args: 3190\n      train_set size = 2552, test_set size = 638\n    > Identidad cultural, cantidad de args: 582",
      "\n      train_set size = 465, test_set size = 117\n    > Estado laico, cantidad de args: 1570\n      train_set size = 1256, test_set size = 314\n    > Equidad de género, cantidad de args: 1762\n      train_set size = 1409, test_set size = 353\n    > Subsidiaridad, cantidad de args: 379\n      train_set size = 303, test_set size = 76\n    > Probidad, cantidad de args: 1048\n      train_set size = 838, test_set size = 210\n    > República, cantidad de args: 211\n      train_set size = 168, test_set size = 43\n    > Diversidad, cantidad de args: 764\n      train_set size = 611, test_set size = 153\n    > Dignidad, cantidad de args: 2029\n      train_set size = 1623, test_set size = 406\n    > Transparencia y publicidad, cantidad de args: 942\n      train_set size = 753, test_set size = 189\n    > Desarrollo, cantidad de args: 552\n      train_set size = 441, test_set size = 111\n    > Innovación / Creatividad, cantidad de args: 215\n      train_set size = 172, test_set size = 43\n    > Bien Común / Comunidad, cantidad de args: 2870\n      train_set size = 2296, test_set size = 574\n    > Multiculturalidad, cantidad de args: 904\n      train_set size = 723, test_set size = 181\n    > Inclusión, cantidad de args: 1278\n      train_set size = 1022, test_set size = 256\n    > Seguridad, cantidad de args: 1330",
      "\n      train_set size = 1064, test_set size = 266\n    > Emprendimiento libre, cantidad de args: 273\n      train_set size = 218, test_set size = 55\n    > Soberanía, cantidad de args: 588\n      train_set size = 470, test_set size = 118\n    > Integración, cantidad de args: 309\n      train_set size = 247, test_set size = 62\n    > Pluralismo, cantidad de args: 189\n      train_set size = 151, test_set size = 38\n    > Amistad cívica, cantidad de args: 277\n      train_set size = 221, test_set size = 56\n    > Plurinacionalismo, cantidad de args: 717\n      train_set size = 573, test_set size = 144\n    > Tolerancia, cantidad de args: 681\n      train_set size = 544, test_set size = 137\n    > Responsabilidad, cantidad de args: 512\n      train_set size = 409, test_set size = 103\n    > Paz / Convivencia pacífica, cantidad de args: 540\n      train_set size = 432, test_set size = 108\n    > Solidaridad, cantidad de args: 1336\n      train_set size = 1068, test_set size = 268\n    > Patriotismo, cantidad de args: 101\n      train_set size = 80, test_set size = 21\n    > Ciudadanía, cantidad de args: 185\n      train_set size = 148, test_set size = 37\n",
      " > topic 1 results\n0.46667349237227396\n0.7735230879492168\n > Topico 2\n    > Igualdad ante la ley, cantidad de args: 2853\n      train_set size = 2282, test_set size = 571\n    > Libertad de expresión, cantidad de args: 2059\n      train_set size = 1647, test_set size = 412\n    > A la seguridad social, cantidad de args: 2007\n      train_set size = 1605, test_set size = 402\n    > A la vivienda digna, cantidad de args: 2406\n      train_set size = 1924, test_set size = 482\n    > A la educación, cantidad de args: 5444\n      train_set size = 4355, test_set size = 1089\n",
      "    > Derechos del niño, niña y adolecente, cantidad de args: 1095\n      train_set size = 876, test_set size = 219\n    > A la participación, cantidad de args: 1222\n      train_set size = 977, test_set size = 245\n    > Libertad de conciencia, cantidad de args: 551\n      train_set size = 440, test_set size = 111\n    > A la vida, cantidad de args: 2639\n      train_set size = 2111, test_set size = 528\n    > A la integridad física y psíquica, cantidad de args: 634\n      train_set size = 507, test_set size = 127\n    > A la salud, cantidad de args: 5671\n      train_set size = 4536, test_set size = 1135\n",
      "    > Igualdad, cantidad de args: 1292\n      train_set size = 1033, test_set size = 259\n    > A la integración de discapacidad, cantidad de args: 647\n      train_set size = 517, test_set size = 130\n    > A la información, cantidad de args: 776\n      train_set size = 620, test_set size = 156\n    > A sindicalizarse y a la negociación colectiva, cantidad de args: 979\n      train_set size = 783, test_set size = 196\n    > De los pueblos indígenas, cantidad de args: 973\n      train_set size = 778, test_set size = 195\n    > Al salario equitativo, cantidad de args: 1817\n      train_set size = 1453, test_set size = 364\n    > Libertad personal, cantidad de args: 657\n      train_set size = 525, test_set size = 132\n    > Al trabajo, cantidad de args: 1122\n      train_set size = 897, test_set size = 225\n    > Proteccion judicial de los derechos, cantidad de args: 566\n      train_set size = 452, test_set size = 114\n    > A la seguridad / Vida sin violencia, cantidad de args: 1270\n      train_set size = 1016, test_set size = 254\n    > Respeto a la naturaleza / Medio ambiente, cantidad de args: 1857\n      train_set size = 1485, test_set size = 372\n    > De propiedad, cantidad de args: 660\n      train_set size = 528, test_set size = 132\n    > Igualdad de acceso a la justicia / Debido proceso, cantidad de args: 587\n      train_set size = 469, test_set size = 118\n    > No discriminación, cantidad de args: 1166\n      train_set size = 932, test_set size = 234\n    > A huelga, cantidad de args: 363\n      train_set size = 290, test_set size = 73\n    > A sufragio / Votar, cantidad de args: 1003\n      train_set size = 802, test_set size = 201\n    > De petición ante las autoridades, cantidad de args: 65\n      train_set size = 52, test_set size = 13\n    > Igualdad ante los tributos, cantidad de args: 109\n      train_set size = 87, test_set size = 22\n    > Ser elegido en cargos públicos, cantidad de args: 156\n      train_set size = 124, test_set size = 32\n    > Acceso a información pública, cantidad de args: 280\n      train_set size = 224, test_set size = 56\n    > Libertad de trabajo, cantidad de args: 264\n      train_set size = 211, test_set size = 53\n    > Libertad de enseñanza, cantidad de args: 468\n      train_set size = 374, test_set size = 94\n    > A la identidad cultural, cantidad de args: 336\n      train_set size = 268, test_set size = 68\n    > Igualdad de género, cantidad de args: 968\n      train_set size = 774, test_set size = 194\n    > Libre iniciativa económica / Libre empresa, cantidad de args: 239\n      train_set size = 191, test_set size = 48\n    > A la honra / Al honor, cantidad de args: 63\n      train_set size = 50, test_set size = 13\n    > Acceso a la cultura, cantidad de args: 370\n      train_set size = 296, test_set size = 74\n    > Derecho de asociación, cantidad de args: 229\n      train_set size = 183, test_set size = 46\n    > A la nacionalidad, cantidad de args: 146\n      train_set size = 116, test_set size = 30\n    > Privacidad e intimidad, cantidad de args: 261\n      train_set size = 208, test_set size = 53\n    > Reunión pacífica, cantidad de args: 66\n      train_set size = 52, test_set size = 14\n    > Igualdad ante las cargas públicas, cantidad de args: 29\n      train_set size = 23, test_set size = 6\n    > Libertad ambulatoria, cantidad de args: 57\n      train_set size = 45, test_set size = 12\n",
      " > topic 2 results\n0.5235382631126397\n0.7818142734307825\n > Topico 3\n    > Respeto por la constitución, cantidad de args: 4768\n      train_set size = 3814, test_set size = 954\n    > Servicio a la comunidad, cantidad de args: 3072\n      train_set size = 2457, test_set size = 615\n    > De protección y conservación de patrimonio histórico y cultural, cantidad de args: 4733",
      "\n      train_set size = 3786, test_set size = 947\n    > Responsabilidad, cantidad de args: 2572\n      train_set size = 2057, test_set size = 515\n    > Deberes de protección de conservación de la naturaleza, cantidad de args: 5890\n      train_set size = 4712, test_set size = 1178\n",
      "    > Protección, promoción y respeto de los derechos humanos y fundamentales, cantidad de args: 6138\n      train_set size = 4910, test_set size = 1228\n",
      "    > Respeto de derechos de otros, cantidad de args: 4523\n      train_set size = 3618, test_set size = 905\n    > Cumplimiento de las leyes y normas, cantidad de args: 4022\n      train_set size = 3217, test_set size = 805\n",
      "    > De satisfacer cargas públicas, cantidad de args: 444\n      train_set size = 355, test_set size = 89\n    > Cumplimiento de obligaciones fiscales, cantidad de args: 1708\n      train_set size = 1366, test_set size = 342\n    > Cumplimiento de tratados y obligaciones internacionales, cantidad de args: 1727\n      train_set size = 1381, test_set size = 346\n    > Ejercicio legítimo y no abusivo de los derechos, cantidad de args: 3787\n      train_set size = 3029, test_set size = 758\n",
      " > topic 3 results\n0.6034323888504953\n0.8828610919143055\n > Topico 4\n    > Defensor del Pueblo / Ciudadano, cantidad de args: 3529\n      train_set size = 2823, test_set size = 706\n    > Cambio o reforma constitucional, cantidad de args: 2629\n      train_set size = 2103, test_set size = 526\n    > Plebiscitos, referendos y consultas, cantidad de args: 5239\n      train_set size = 4191, test_set size = 1048\n",
      "    > Contraloría general / Tribunales de cuentas, cantidad de args: 2159\n      train_set size = 1727, test_set size = 432\n    > Fuerzas Armadas, cantidad de args: 2856\n      train_set size = 2284, test_set size = 572\n    > Forma de Estado, cantidad de args: 2185\n      train_set size = 1748, test_set size = 437\n    > Justicia constitucional, cantidad de args: 1092\n      train_set size = 873, test_set size = 219\n    > Poder judicial (estructura y funciones), cantidad de args: 3047\n      train_set size = 2437, test_set size = 610\n    > Gobierno local / Municipal, cantidad de args: 2510\n      train_set size = 2008, test_set size = 502\n",
      "    > Régimen de gobierno presidencial /Semi-presidencial / Parlamentario, cantidad de args: 2612\n      train_set size = 2089, test_set size = 523\n    > Gobierno regional, cantidad de args: 2816\n      train_set size = 2252, test_set size = 564\n    > Presidencia de la República, cantidad de args: 2147",
      "\n      train_set size = 1717, test_set size = 430\n    > Congreso o parlamento, cantidad de args: 3839\n      train_set size = 3071, test_set size = 768\n    > División territorial, cantidad de args: 679\n      train_set size = 543, test_set size = 136\n    > Gobierno provincial, cantidad de args: 571\n      train_set size = 456, test_set size = 115\n    > Juicio político /acusación constitucional, cantidad de args: 1398\n      train_set size = 1118, test_set size = 280\n    > Justicia electoral, cantidad de args: 697\n      train_set size = 557, test_set size = 140\n    > Ministerio Público / Defensoría Pública, cantidad de args: 960\n      train_set size = 768, test_set size = 192\n    > Jefatura de gobierno, cantidad de args: 230\n      train_set size = 184, test_set size = 46\n    > Estado de excepción, cantidad de args: 460\n      train_set size = 368, test_set size = 92\n    > Gobierno nacional (estructura y funciones), cantidad de args: 820\n      train_set size = 656, test_set size = 164\n",
      " > topic 4 results\n0.48823806163255706\n0.7908727358268642\nFinal results: [{'1': 2.336234258216443, '2': 2.6288693035253656, '3': 3.008523381709284, '4': 2.441660785697483}, {'1': 3.8619842326200473, '2': 3.9397033533963883, '3': 4.409928587882976, '4': 3.9720065866854855}]\n\nTask B\nTopico 1, cantidad de conceptos: 37\nTopico 2, cantidad de conceptos: 44\nTopico 3, cantidad de conceptos: 12\nTopico 4, cantidad de conceptos: 21\n > T: 1 C: Justicia\n > T: 1 C: Democracia\n > T: 1 C: Respeto / Conservación de la naturaleza o medio ambiente\n > T: 1 C: Autonomía / Libertad\n > T: 1 C: Estado de Derecho\n > T: 1 C: Igualdad\n > T: 1 C: Participación\n > T: 1 C: Unidad\n > T: 1 C: Respeto\n > T: 1 C: Descentralización\n > T: 1 C: Identidad cultural\n > T: 1 C: Estado laico\n > T: 1 C: Equidad de género\n > T: 1 C: Subsidiaridad\n > T: 1 C: Probidad\n > T: 1 C: República\n > T: 1 C: Diversidad\n > T: 1 C: Dignidad\n > T: 1 C: Transparencia y publicidad\n > T: 1 C: Desarrollo\n > T: 1 C: Innovación / Creatividad\n > T: 1 C: Bien Común / Comunidad\n > T: 1 C: Multiculturalidad\n > T: 1 C: Inclusión\n > T: 1 C: Seguridad\n > T: 1 C: Emprendimiento libre\n > T: 1 C: Soberanía\n > T: 1 C: Integración\n > T: 1 C: Pluralismo\n > T: 1 C: Amistad cívica\n > T: 1 C: Plurinacionalismo\n > T: 1 C: Tolerancia\n > T: 1 C: Responsabilidad\n > T: 1 C: Paz / Convivencia pacífica\n > T: 1 C: Solidaridad\n > T: 1 C: Patriotismo\n > T: 1 C: Ciudadanía\n > T: 2 C: Igualdad ante la ley\n > T: 2 C: Proteccion judicial de los derechos\n > T: 2 C: Libertad de expresión\n > T: 2 C: A la seguridad social\n > T: 2 C: A la vivienda digna\n > T: 2 C: A la educación\n > T: 2 C: Derechos del niño, niña y adolecente\n > T: 2 C: A la participación\n > T: 2 C: Libertad de conciencia\n > T: 2 C: A la vida\n > T: 2 C: Respeto a la naturaleza / Medio ambiente\n > T: 2 C: A la integridad física y psíquica\n > T: 2 C: A la salud\n > T: 2 C: Igualdad\n > T: 2 C: A la integración de discapacidad\n > T: 2 C: A la información\n > T: 2 C: A sindicalizarse y a la negociación colectiva\n > T: 2 C: De los pueblos indígenas\n > T: 2 C: Al salario equitativo\n > T: 2 C: Libertad personal\n > T: 2 C: Al trabajo\n > T: 2 C: A la seguridad / Vida sin violencia\n > T: 2 C: De propiedad\n > T: 2 C: Igualdad de acceso a la justicia / Debido proceso\n > T: 2 C: No discriminación\n > T: 2 C: A huelga\n > T: 2 C: A sufragio / Votar\n > T: 2 C: De petición ante las autoridades\n > T: 2 C: Igualdad ante los tributos\n > T: 2 C: Ser elegido en cargos públicos\n > T: 2 C: Acceso a información pública\n > T: 2 C: Libertad de trabajo\n > T: 2 C: Libertad de enseñanza\n > T: 2 C: A la identidad cultural\n > T: 2 C: Igualdad de género\n > T: 2 C: Libre iniciativa económica / Libre empresa\n > T: 2 C: A la honra / Al honor\n > T: 2 C: Acceso a la cultura\n > T: 2 C: Derecho de asociación\n > T: 2 C: A la nacionalidad\n > T: 2 C: Privacidad e intimidad\n > T: 2 C: Reunión pacífica\n > T: 2 C: Igualdad ante las cargas públicas\n > T: 2 C: Libertad ambulatoria\n > T: 3 C: Respeto por la constitución\n > T: 3 C: Servicio a la comunidad\n > T: 3 C: De protección y conservación de patrimonio histórico y cultural\n > T: 3 C: Responsabilidad\n > T: 3 C: Deberes de protección de conservación de la naturaleza\n > T: 3 C: Protección, promoción y respeto de los derechos humanos y fundamentales\n > T: 3 C: Respeto de derechos de otros\n > T: 3 C: Cumplimiento de las leyes y normas\n > T: 3 C: De satisfacer cargas públicas\n > T: 3 C: Cumplimiento de obligaciones fiscales\n > T: 3 C: Cumplimiento de tratados y obligaciones internacionales\n > T: 3 C: Ejercicio legítimo y no abusivo de los derechos\n > T: 4 C: Defensor del Pueblo / Ciudadano\n > T: 4 C: Cambio o reforma constitucional\n > T: 4 C: Plebiscitos, referendos y consultas\n > T: 4 C: Contraloría general / Tribunales de cuentas\n > T: 4 C: Fuerzas Armadas\n > T: 4 C: Forma de Estado\n > T: 4 C: Justicia constitucional\n > T: 4 C: Poder judicial (estructura y funciones)\n > T: 4 C: Gobierno local / Municipal\n > T: 4 C: Régimen de gobierno presidencial /Semi-presidencial / Parlamentario\n > T: 4 C: Gobierno regional\n > T: 4 C: Presidencia de la República\n > T: 4 C: Congreso o parlamento\n > T: 4 C: División territorial\n > T: 4 C: Gobierno provincial\n > T: 4 C: Juicio político /acusación constitucional\n > T: 4 C: Justicia electoral\n > T: 4 C: Ministerio Público / Defensoría Pública\n > T: 4 C: Jefatura de gobierno\n > T: 4 C: Estado de excepción\n > T: 4 C: Gobierno nacional (estructura y funciones)\n1 4625\n2 6173\n3 4596\n4 6621\ntotal: 22015\n\nTopico 1: cantidad de vectores 4625\n",
      "Resultados: 0.6438945669714901 0.9026358257127488\nTopico 2: cantidad de vectores 6173\n",
      "Resultados: 0.584493670886076 0.7848101265822784\nTopico 3: cantidad de vectores 4596\n",
      "Resultados: 0.6136498516320474 0.8367952522255193\nTopico 4: cantidad de vectores 6621\n",
      "Resultados: 0.46611053180396245 0.8501911713590545\n"
     ],
     "output_type": "stream"
    },
    {
     "traceback": [
      "\u001b[1;31m---------------------------------------------------------------------------\u001b[0m",
      "\u001b[1;31mTypeError\u001b[0m                                 Traceback (most recent call last)",
      "\u001b[1;32m<ipython-input-4-1ddbaf389794>\u001b[0m in \u001b[0;36m<module>\u001b[1;34m\u001b[0m\n\u001b[0;32m      1\u001b[0m \u001b[1;31m# Task mean vector\u001b[0m\u001b[1;33m\u001b[0m\u001b[1;33m\u001b[0m\u001b[1;33m\u001b[0m\u001b[0m\n\u001b[1;32m----> 2\u001b[1;33m \u001b[0mmean_vector_classification_results\u001b[0m \u001b[1;33m=\u001b[0m \u001b[0mEvalConstitucion\u001b[0m\u001b[1;33m.\u001b[0m\u001b[0mMeanVectorEvaluation\u001b[0m\u001b[1;33m(\u001b[0m\u001b[0mwordvector\u001b[0m\u001b[1;33m,\u001b[0m \u001b[0membedding_name_list\u001b[0m\u001b[1;33m[\u001b[0m\u001b[1;36m0\u001b[0m\u001b[1;33m]\u001b[0m\u001b[1;33m)\u001b[0m\u001b[1;33m\u001b[0m\u001b[1;33m\u001b[0m\u001b[0m\n\u001b[0m\u001b[0;32m      3\u001b[0m \u001b[1;33m\u001b[0m\u001b[0m\n",
      "\u001b[1;32mD:\\Documents\\Memoria - Eval. Word Embeddings\\Testing\\EvalConstitucion.py\u001b[0m in \u001b[0;36mMeanVectorEvaluation\u001b[1;34m(word_vector, word_vector_name)\u001b[0m\n\u001b[0;32m     22\u001b[0m     \u001b[1;31m# Task B\u001b[0m\u001b[1;33m\u001b[0m\u001b[1;33m\u001b[0m\u001b[1;33m\u001b[0m\u001b[0m\n\u001b[0;32m     23\u001b[0m     \u001b[0mprint\u001b[0m\u001b[1;33m(\u001b[0m\u001b[1;34m\"\\nTask B\"\u001b[0m\u001b[1;33m)\u001b[0m\u001b[1;33m\u001b[0m\u001b[1;33m\u001b[0m\u001b[0m\n\u001b[1;32m---> 24\u001b[1;33m     \u001b[0mresult_taskB\u001b[0m \u001b[1;33m=\u001b[0m \u001b[0mmeanVectorEvalTaskB\u001b[0m\u001b[1;33m(\u001b[0m\u001b[0mgob_concept_vectors\u001b[0m\u001b[1;33m,\u001b[0m \u001b[0mopen_args_vectors\u001b[0m\u001b[1;33m)\u001b[0m\u001b[1;33m\u001b[0m\u001b[1;33m\u001b[0m\u001b[0m\n\u001b[0m\u001b[0;32m     25\u001b[0m \u001b[1;33m\u001b[0m\u001b[0m\n\u001b[0;32m     26\u001b[0m     \u001b[1;31m# Task C\u001b[0m\u001b[1;33m\u001b[0m\u001b[1;33m\u001b[0m\u001b[1;33m\u001b[0m\u001b[0m\n",
      "\u001b[1;32mD:\\Documents\\Memoria - Eval. Word Embeddings\\Testing\\EvalConstitucion.py\u001b[0m in \u001b[0;36mmeanVectorEvalTaskB\u001b[1;34m(gob_concept_vectors, open_args_vectors)\u001b[0m\n\u001b[0;32m    277\u001b[0m     \u001b[0mtotal_final\u001b[0m \u001b[1;33m=\u001b[0m \u001b[1;36m0\u001b[0m\u001b[1;33m\u001b[0m\u001b[1;33m\u001b[0m\u001b[0m\n\u001b[0;32m    278\u001b[0m     \u001b[1;32mfor\u001b[0m \u001b[0mr\u001b[0m \u001b[1;32min\u001b[0m \u001b[0macuraccy_results\u001b[0m\u001b[1;33m:\u001b[0m\u001b[1;33m\u001b[0m\u001b[1;33m\u001b[0m\u001b[0m\n\u001b[1;32m--> 279\u001b[1;33m         \u001b[0mtotal_final\u001b[0m \u001b[1;33m+=\u001b[0m \u001b[0mr\u001b[0m\u001b[1;33m[\u001b[0m\u001b[1;33m-\u001b[0m\u001b[1;36m1\u001b[0m\u001b[1;33m]\u001b[0m\u001b[1;33m\u001b[0m\u001b[1;33m\u001b[0m\u001b[0m\n\u001b[0m\u001b[0;32m    280\u001b[0m \u001b[1;33m\u001b[0m\u001b[0m\n\u001b[0;32m    281\u001b[0m         \u001b[0mprint\u001b[0m\u001b[1;33m(\u001b[0m\u001b[1;34m\"Datos: \"\u001b[0m\u001b[1;33m,\u001b[0m \u001b[0mend\u001b[0m\u001b[1;33m=\u001b[0m\u001b[1;34m''\u001b[0m\u001b[1;33m)\u001b[0m\u001b[1;33m\u001b[0m\u001b[1;33m\u001b[0m\u001b[0m\n",
      "\u001b[1;31mTypeError\u001b[0m: unsupported operand type(s) for +=: 'int' and 'str'"
     ],
     "ename": "TypeError",
     "evalue": "unsupported operand type(s) for +=: 'int' and 'str'",
     "output_type": "error"
    }
   ],
   "source": [
    "# Task mean vector\n",
    "mean_vector_classification_results = EvalConstitucion.MeanVectorEvaluation(wordvector, embedding_name_list[0])"
   ],
   "metadata": {
    "collapsed": false,
    "pycharm": {
     "name": "#%%\n",
     "is_executing": false
    }
   }
  },
  {
   "cell_type": "code",
   "execution_count": null,
   "outputs": [],
   "source": [
    "for tupla in mean_vector_classification_results:\n",
    "    print(tupla)"
   ],
   "metadata": {
    "collapsed": false,
    "pycharm": {
     "name": "#%%\n",
     "is_executing": false
    }
   }
  },
  {
   "cell_type": "code",
   "execution_count": null,
   "outputs": [],
   "source": [],
   "metadata": {
    "collapsed": false,
    "pycharm": {
     "name": "#%%\n"
    }
   }
  }
 ],
 "metadata": {
  "kernelspec": {
   "display_name": "Python 3",
   "language": "python",
   "name": "python3"
  },
  "language_info": {
   "codemirror_mode": {
    "name": "ipython",
    "version": 2
   },
   "file_extension": ".py",
   "mimetype": "text/x-python",
   "name": "python",
   "nbconvert_exporter": "python",
   "pygments_lexer": "ipython2",
   "version": "2.7.6"
  },
  "pycharm": {
   "stem_cell": {
    "cell_type": "raw",
    "source": [],
    "metadata": {
     "collapsed": false
    }
   }
  }
 },
 "nbformat": 4,
 "nbformat_minor": 0
}