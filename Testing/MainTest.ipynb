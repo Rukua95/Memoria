{
 "cells": [
  {
   "cell_type": "code",
   "execution_count": 1,
   "metadata": {
    "collapsed": true,
    "pycharm": {
     "is_executing": false
    }
   },
   "outputs": [],
   "source": [
    "import os\n",
    "import io\n",
    "import json\n",
    "\n",
    "import numpy as np\n",
    "\n",
    "from scipy.stats import spearmanr\n",
    "from gensim.models.keyedvectors import KeyedVectors\n",
    "\n",
    "from SimilarityTest import *\n",
    "from AnalogyTest import *"
   ]
  },
  {
   "cell_type": "code",
   "execution_count": 2,
   "outputs": [
    {
     "name": "stdout",
     "text": [
      "Embeddings a usar:\n > _fasttext_sbwc.vec\n > _fasttext_suc.vec\n > _fasttext_wiki.vec\n > _glove_sbwc.vec\n > _w2v_sbwc.txt\n"
     ],
     "output_type": "stream"
    }
   ],
   "source": [
    "# Path a carpeta principal\n",
    "PATH = 'D:\\Documents\\Memoria - Eval. Word Embeddings\\\\'\n",
    "\n",
    "# Path a carpeta con los embeddings\n",
    "embeddings_path = PATH + 'Embeddings\\\\'\n",
    "\n",
    "# Lista con los nombres de los archivos de los embeddings\n",
    "embeddings = os.listdir(embeddings_path)\n",
    "\n",
    "# Path a carpeta contenedora de dataset de similaridad (semeval17 y rg65)\n",
    "similarity_dataset = PATH + 'Data\\Similarity\\\\'\n",
    "\n",
    "print(\"Embeddings a usar:\")\n",
    "for s in embeddings:\n",
    "    print(\" > \" + s)\n",
    "\n",
    "def get_wordvector(file, cant=None):\n",
    "    wordvector_file = embeddings_path + file\n",
    "\n",
    "    return KeyedVectors.load_word2vec_format(wordvector_file, limit=cant)"
   ],
   "metadata": {
    "collapsed": false,
    "pycharm": {
     "name": "#%%\n",
     "is_executing": false
    }
   }
  },
  {
   "cell_type": "code",
   "execution_count": 3,
   "outputs": [
    {
     "name": "stdout",
     "text": [
      "Carga completa\n"
     ],
     "output_type": "stream"
    }
   ],
   "source": [
    "# Testing \n",
    "wordvectors_file_vec = embeddings_path + embeddings[1]\n",
    "#cantidad = 1000\n",
    "cantidad = None\n",
    "wordvectors = get_wordvector(embeddings[1], cantidad)\n",
    "\n",
    "print('Carga completa')\n"
   ],
   "metadata": {
    "collapsed": false,
    "pycharm": {
     "name": "#%%\n",
     "is_executing": false
    }
   }
  },
  {
   "cell_type": "code",
   "execution_count": 1,
   "outputs": [
    {
     "traceback": [
      "\u001b[1;31m---------------------------------------------------------------------------\u001b[0m",
      "\u001b[1;31mNameError\u001b[0m                                 Traceback (most recent call last)",
      "\u001b[1;32m<ipython-input-1-0b6ec7d8b90f>\u001b[0m in \u001b[0;36m<module>\u001b[1;34m\u001b[0m\n\u001b[0;32m     20\u001b[0m \u001b[1;33m\u001b[0m\u001b[0m\n\u001b[0;32m     21\u001b[0m \u001b[1;31m# Test de similaridad\u001b[0m\u001b[1;33m\u001b[0m\u001b[1;33m\u001b[0m\u001b[1;33m\u001b[0m\u001b[0m\n\u001b[1;32m---> 22\u001b[1;33m \u001b[0msimilarityTest\u001b[0m\u001b[1;33m(\u001b[0m\u001b[1;33m)\u001b[0m\u001b[1;33m\u001b[0m\u001b[1;33m\u001b[0m\u001b[0m\n\u001b[0m\u001b[0;32m     23\u001b[0m \u001b[1;33m\u001b[0m\u001b[0m\n\u001b[0;32m     24\u001b[0m \u001b[1;33m\u001b[0m\u001b[0m\n",
      "\u001b[1;32m<ipython-input-1-0b6ec7d8b90f>\u001b[0m in \u001b[0;36msimilarityTest\u001b[1;34m()\u001b[0m\n\u001b[0;32m      1\u001b[0m \u001b[1;32mdef\u001b[0m \u001b[0msimilarityTest\u001b[0m\u001b[1;33m(\u001b[0m\u001b[1;33m)\u001b[0m\u001b[1;33m:\u001b[0m\u001b[1;33m\u001b[0m\u001b[1;33m\u001b[0m\u001b[0m\n\u001b[0;32m      2\u001b[0m     \u001b[0mresults\u001b[0m \u001b[1;33m=\u001b[0m \u001b[1;33m{\u001b[0m\u001b[1;33m}\u001b[0m\u001b[1;33m\u001b[0m\u001b[1;33m\u001b[0m\u001b[0m\n\u001b[1;32m----> 3\u001b[1;33m     \u001b[1;32mfor\u001b[0m \u001b[0mname\u001b[0m \u001b[1;32min\u001b[0m \u001b[0membeddings\u001b[0m\u001b[1;33m:\u001b[0m\u001b[1;33m\u001b[0m\u001b[1;33m\u001b[0m\u001b[0m\n\u001b[0m\u001b[0;32m      4\u001b[0m         \u001b[0mresults\u001b[0m\u001b[1;33m[\u001b[0m\u001b[0mname\u001b[0m\u001b[1;33m]\u001b[0m \u001b[1;33m=\u001b[0m \u001b[1;33m{\u001b[0m\u001b[1;33m}\u001b[0m\u001b[1;33m\u001b[0m\u001b[1;33m\u001b[0m\u001b[0m\n\u001b[0;32m      5\u001b[0m         \u001b[0mprint\u001b[0m\u001b[1;33m(\u001b[0m\u001b[1;34m\"#################################################\"\u001b[0m\u001b[1;33m)\u001b[0m\u001b[1;33m\u001b[0m\u001b[1;33m\u001b[0m\u001b[0m\n",
      "\u001b[1;31mNameError\u001b[0m: name 'embeddings' is not defined"
     ],
     "ename": "NameError",
     "evalue": "name 'embeddings' is not defined",
     "output_type": "error"
    }
   ],
   "source": [
    "def similarityTest():\n",
    "    results = {}\n",
    "    for name in embeddings:\n",
    "        results[name] = {}\n",
    "        print(\"#################################################\")\n",
    "        print(\"=> Cargando \" + name)\n",
    "        wordvector = get_wordvector(name)\n",
    "    \n",
    "        print(\"=> Testing \" + name)\n",
    "        score = get_wordsim_scores(similarity_dataset, wordvector)\n",
    "        print(\"=> Embeddings \" + name + \" score:\" + str(score))\n",
    "    \n",
    "        results[name] = score\n",
    "    \n",
    "        del wordvector\n",
    "        \n",
    "    \n",
    "    with open(PATH + \"Data\\\\Similarity_results.txt\", 'w') as file:\n",
    "        file.write(json.dumps(results, sort_keys=True, indent=4))\n",
    "\n",
    "# Test de similaridad\n",
    "similarityTest()\n"
   ],
   "metadata": {
    "collapsed": false,
    "pycharm": {
     "name": "#%%\n",
     "is_executing": false
    }
   }
  },
  {
   "cell_type": "code",
   "execution_count": 3,
   "outputs": [
    {
     "name": "stdout",
     "text": [
      "#################################################\n=> Cargando _fasttext_sbwc.vec\n",
      "\n=> Testing _fasttext_sbwc.vec\n_español_D01 [prefijo_anti-].txt\n_español_D02 [prefijo_des-].txt\n_español_D03 [prefijo_in-].txt\n_español_D04 [sufijo_-able].txt\n_español_D05 [sufijo_-ción].txt\n_español_D06 [sufijo_-ísimo].txt\n_español_D07 [sufijo_-ita].txt\n_español_D08 [sufijo_-ito].txt\n_español_D09 [sufijo_-mente].txt\n_español_D10 [sufijo_-miento].txt\n_español_E01 [pais - capital].txt\n_español_E02 [pais - idioma].txt\n_español_E04 [nombre - nacionalidad].txt\n_español_E05 [nombre - ocupacion].txt\n_español_E10 [hombre - mujer].txt\n_español_E11 [pais - gentilicio].txt\n_español_I067 [gerund - parti].txt\n_español_I096 [inf - gerund].txt\n_español_I097 [inf - parti].txt\n_español_I162 [pret_perf__1_sing - futuro_simp__1_sing].txt\n_español_I254 [presente__1_sing - futuro_simp__1_sing].txt\n_español_I260 [presente__1_sing - pret_perf__1_sing].txt\n_español_I265 [presente__1_sing - presente__1_plur].txt\n_español_I269 [presente__1_sing - presente__3_sing].txt\n_español_I466 [sustantivo - plural(s)].txt\n_español_I467 [sustantivo - plural(es)].txt\n_español_L07 [sinonimos - intensidad].txt\n_español_L08 [sinonimos - exacto].txt\n_español_L09 [antonimos - grado].txt\n_español_L10 [antonimos - binario].txt\nTesting: _español_D01 [prefijo_anti-].txt\nTesting: _español_D02 [prefijo_des-].txt\nTesting: _español_D03 [prefijo_in-].txt\nTesting: _español_D04 [sufijo_-able].txt\nTesting: _español_D05 [sufijo_-ción].txt\nTesting: _español_D06 [sufijo_-ísimo].txt\nTesting: _español_D07 [sufijo_-ita].txt\nTesting: _español_D08 [sufijo_-ito].txt\n",
      "Testing: _español_D09 [sufijo_-mente].txt\nTesting: _español_D10 [sufijo_-miento].txt\nTesting: _español_E01 [pais - capital].txt\nTesting: _español_E02 [pais - idioma].txt\nTesting: _español_E04 [nombre - nacionalidad].txt\nTesting: _español_E05 [nombre - ocupacion].txt\n",
      "Testing: _español_E10 [hombre - mujer].txt\nTesting: _español_E11 [pais - gentilicio].txt\nTesting: _español_I067 [gerund - parti].txt\nTesting: _español_I096 [inf - gerund].txt\nTesting: _español_I097 [inf - parti].txt\nTesting: _español_I162 [pret_perf__1_sing - futuro_simp__1_sing].txt\nTesting: _español_I254 [presente__1_sing - futuro_simp__1_sing].txt\nTesting: ",
      "_español_I260 [presente__1_sing - pret_perf__1_sing].txt\nTesting: _español_I265 [presente__1_sing - presente__1_plur].txt\nTesting: _español_I269 [presente__1_sing - presente__3_sing].txt\nTesting: _español_I466 [sustantivo - plural(s)].txt\nTesting: _español_I467 [sustantivo - plural(es)].txt\n",
      "Testing: _español_L07 [sinonimos - intensidad].txt\nTesting: _español_L08 [sinonimos - exacto].txt\n",
      "Testing: _español_L09 [antonimos - grado].txt\nTesting: _español_L10 [antonimos - binario].txt\n['_español_D01 [prefijo_anti-].txt', [['3CosAdd', '0.0'], ['3CosMul', '0.0'], ['PairDir', '0.0'], ['cos', '0.0'], ['euc', '0.0'], ['ncos', '0.0'], ['neuc', '0.0']]]\n['_español_D02 [prefijo_des-].txt', [['3CosAdd', '0.0'], ['3CosMul', '0.0'], ['PairDir', '0.0'], ['cos', '0.0'], ['euc', '0.0'], ['ncos', '0.0'], ['neuc', '0.0']]]\n['_español_D03 [prefijo_in-].txt', [['3CosAdd', '0.0'], ['3CosMul', '0.0'], ['PairDir', '0.0'], ['cos', '0.0'], ['euc', '0.0'], ['ncos', '0.0'], ['neuc', '0.0']]]\n['_español_D04 [sufijo_-able].txt', [['3CosAdd', '0.0'], ['3CosMul', '0.0'], ['PairDir', '0.0'], ['cos', '0.0'], ['euc', '0.0'], ['ncos', '0.0'], ['neuc', '0.0']]]\n['_español_D05 [sufijo_-ción].txt', [['3CosAdd', '0.0'], ['3CosMul', '0.0'], ['PairDir', '0.0'], ['cos', '0.0'], ['euc', '0.0'], ['ncos', '0.0'], ['neuc', '0.0']]]\n['_español_D06 [sufijo_-ísimo].txt', [['3CosAdd', '0.0'], ['3CosMul', '0.0'], ['PairDir', '0.0'], ['cos', '0.0'], ['euc', '0.0'], ['ncos', '0.0'], ['neuc', '0.0']]]\n['_español_D07 [sufijo_-ita].txt', [['3CosAdd', '0.0'], ['3CosMul', '0.0'], ['PairDir', '0.0'], ['cos', '0.0'], ['euc', '0.0'], ['ncos', '0.0'], ['neuc', '0.0']]]\n['_español_D08 [sufijo_-ito].txt', [['3CosAdd', '0.0'], ['3CosMul', '0.0'], ['PairDir', '0.0'], ['cos', '0.0'], ['euc', '0.0'], ['ncos', '0.0'], ['neuc', '0.0']]]\n['_español_D09 [sufijo_-mente].txt', [['3CosAdd', '0.0'], ['3CosMul', '0.0'], ['PairDir', '0.0'], ['cos', '0.0'], ['euc', '0.0'], ['ncos', '0.0'], ['neuc', '0.0']]]\n['_español_D10 [sufijo_-miento].txt', [['3CosAdd', '0.0'], ['3CosMul', '0.0'], ['PairDir', '0.0'], ['cos', '0.0'], ['euc', '0.0'], ['ncos', '0.0'], ['neuc', '0.0']]]\n['_español_E01 [pais - capital].txt', [['3CosAdd', '0.0'], ['3CosMul', '0.0'], ['PairDir', '0.0'], ['cos', '0.0'], ['euc', '0.0'], ['ncos', '0.0'], ['neuc', '0.0']]]\n['_español_E02 [pais - idioma].txt', [['3CosAdd', '0.0'], ['3CosMul', '0.0'], ['PairDir', '0.0'], ['cos', '0.0'], ['euc', '0.0'], ['ncos', '0.0'], ['neuc', '0.0']]]\n['_español_E04 [nombre - nacionalidad].txt', [['3CosAdd', '0.0'], ['3CosMul', '0.0'], ['PairDir', '0.0'], ['cos', '0.0'], ['euc', '0.0'], ['ncos', '0.0'], ['neuc', '0.0']]]\n['_español_E05 [nombre - ocupacion].txt', [['3CosAdd', '0.04'], ['3CosMul', '0.0'], ['PairDir', '0.0'], ['cos', '0.0'], ['euc', '0.0'], ['ncos', '0.0'], ['neuc', '0.0']]]\n['_español_E10 [hombre - mujer].txt', [['3CosAdd', '0.0008163265306122449'], ['3CosMul', '0.0'], ['PairDir', '0.0'], ['cos', '0.0'], ['euc', '0.0'], ['ncos', '0.0'], ['neuc', '0.0']]]\n['_español_E11 [pais - gentilicio].txt', [['3CosAdd', '0.0'], ['3CosMul', '0.0'], ['PairDir', '0.0'], ['cos', '0.0'], ['euc', '0.0'], ['ncos', '0.0'], ['neuc', '0.0']]]\n['_español_I067 [gerund - parti].txt', [['3CosAdd', '0.0'], ['3CosMul', '0.0'], ['PairDir', '0.0'], ['cos', '0.0'], ['euc', '0.0'], ['ncos', '0.0'], ['neuc', '0.0']]]\n['_español_I096 [inf - gerund].txt', [['3CosAdd', '0.0'], ['3CosMul', '0.0'], ['PairDir', '0.0'], ['cos', '0.0'], ['euc', '0.0'], ['ncos', '0.0'], ['neuc', '0.0']]]\n['_español_I097 [inf - parti].txt', [['3CosAdd', '0.0008163265306122449'], ['3CosMul', '0.0'], ['PairDir', '0.0'], ['cos', '0.0'], ['euc', '0.0'], ['ncos', '0.0'], ['neuc', '0.0']]]\n['_español_I162 [pret_perf__1_sing - futuro_simp__1_sing].txt', [['3CosAdd', '0.0'], ['3CosMul', '0.0'], ['PairDir', '0.0'], ['cos', '0.0'], ['euc', '0.0'], ['ncos', '0.0'], ['neuc', '0.0']]]\n['_español_I254 [presente__1_sing - futuro_simp__1_sing].txt', [['3CosAdd', '0.0'], ['3CosMul', '0.0'], ['PairDir', '0.0'], ['cos', '0.0'], ['euc', '0.0'], ['ncos', '0.0'], ['neuc', '0.0']]]\n['_español_I260 [presente__1_sing - pret_perf__1_sing].txt', [['3CosAdd', '0.0'], ['3CosMul', '0.0'], ['PairDir', '0.0'], ['cos', '0.0'], ['euc', '0.0'], ['ncos', '0.0'], ['neuc', '0.0']]]\n['_español_I265 [presente__1_sing - presente__1_plur].txt', [['3CosAdd', '0.0'], ['3CosMul', '0.0'], ['PairDir', '0.0'], ['cos', '0.0'], ['euc', '0.0'], ['ncos', '0.0'], ['neuc', '0.0']]]\n['_español_I269 [presente__1_sing - presente__3_sing].txt', [['3CosAdd', '0.0'], ['3CosMul', '0.0'], ['PairDir', '0.0'], ['cos', '0.0'], ['euc', '0.0'], ['ncos', '0.0'], ['neuc', '0.0']]]\n['_español_I466 [sustantivo - plural(s)].txt', [['3CosAdd', '0.035510204081632656'], ['3CosMul', '0.0'], ['PairDir', '0.0'], ['cos', '0.0'], ['euc', '0.0'], ['ncos', '0.0'], ['neuc', '0.0']]]\n['_español_I467 [sustantivo - plural(es)].txt', [['3CosAdd', '0.018367346938775512'], ['3CosMul', '0.0'], ['PairDir', '0.0'], ['cos', '0.0'], ['euc', '0.0'], ['ncos', '0.0'], ['neuc', '0.0']]]\n['_español_L07 [sinonimos - intensidad].txt', [['3CosAdd', '0.0'], ['3CosMul', '0.0'], ['PairDir', '0.0'], ['cos', '0.0'], ['euc', '0.0'], ['ncos', '0.0'], ['neuc', '0.0']]]\n['_español_L08 [sinonimos - exacto].txt', [['3CosAdd', '0.0012244897959183673'], ['3CosMul', '0.0'], ['PairDir', '0.0'], ['cos', '0.0'], ['euc', '0.0'], ['ncos', '0.0'], ['neuc', '0.0']]]\n['_español_L09 [antonimos - grado].txt', [['3CosAdd', '0.0'], ['3CosMul', '0.0'], ['PairDir', '0.0'], ['cos', '0.0'], ['euc', '0.0'], ['ncos', '0.0'], ['neuc', '0.0']]]\n['_español_L10 [antonimos - binario].txt', [['3CosAdd', '0.01020408163265306'], ['3CosMul', '0.0'], ['PairDir', '0.0'], ['cos', '0.0'], ['euc', '0.0'], ['ncos', '0.0'], ['neuc', '0.0']]]\n\n   End of test\n#################################################\n=> Cargando _fasttext_suc.vec\n",
      "\n=> Testing _fasttext_suc.vec\n_español_D01 [prefijo_anti-].txt\n_español_D02 [prefijo_des-].txt\n_español_D03 [prefijo_in-].txt\n_español_D04 [sufijo_-able].txt\n_español_D05 [sufijo_-ción].txt\n_español_D06 [sufijo_-ísimo].txt\n_español_D07 [sufijo_-ita].txt\n_español_D08 [sufijo_-ito].txt\n_español_D09 [sufijo_-mente].txt\n_español_D10 [sufijo_-miento].txt\n_español_E01 [pais - capital].txt\n_español_E02 [pais - idioma].txt\n_español_E04 [nombre - nacionalidad].txt\n_español_E05 [nombre - ocupacion].txt\n_español_E10 [hombre - mujer].txt\n_español_E11 [pais - gentilicio].txt\n_español_I067 [gerund - parti].txt\n_español_I096 [inf - gerund].txt\n_español_I097 [inf - parti].txt\n_español_I162 [pret_perf__1_sing - futuro_simp__1_sing].txt\n_español_I254 [presente__1_sing - futuro_simp__1_sing].txt\n_español_I260 [presente__1_sing - pret_perf__1_sing].txt\n_español_I265 [presente__1_sing - presente__1_plur].txt\n_español_I269 [presente__1_sing - presente__3_sing].txt\n_español_I466 [sustantivo - plural(s)].txt\n_español_I467 [sustantivo - plural(es)].txt\n_español_L07 [sinonimos - intensidad].txt\n_español_L08 [sinonimos - exacto].txt\n_español_L09 [antonimos - grado].txt\n_español_L10 [antonimos - binario].txt\nTesting: _español_D01 [prefijo_anti-].txt\nTesting: _español_D02 [prefijo_des-].txt\nTesting: _español_D03 [prefijo_in-].txt\nTesting: _español_D04 [sufijo_-able].txt\nTesting: _español_D05 [sufijo_-ción].txt\nTesting: _español_D06 [sufijo_-ísimo].txt\nTesting: _español_D07 [sufijo_-ita].txt\nTesting: _español_D08 [sufijo_-ito].txt\nTesting: _español_D09 [sufijo_-mente].txt\n",
      "Testing: _español_D10 [sufijo_-miento].txt\nTesting: _español_E01 [pais - capital].txt\nTesting: _español_E02 [pais - idioma].txt\nTesting: _español_E04 [nombre - nacionalidad].txt\nTesting: _español_E05 [nombre - ocupacion].txt\nTesting: _español_E10 [hombre - mujer].txt\n",
      "Testing: _español_E11 [pais - gentilicio].txt\nTesting: _español_I067 [gerund - parti].txt\nTesting: _español_I096 [inf - gerund].txt\nTesting: _español_I097 [inf - parti].txt\nTesting: _español_I162 [pret_perf__1_sing - futuro_simp__1_sing].txt\nTesting: _español_I254 [presente__1_sing - futuro_simp__1_sing].txt\nTesting: _español_I260 [presente__1_sing - pret_perf__1_sing].txt\nTesting: ",
      "_español_I265 [presente__1_sing - presente__1_plur].txt\nTesting: _español_I269 [presente__1_sing - presente__3_sing].txt\nTesting: _español_I466 [sustantivo - plural(s)].txt\nTesting: _español_I467 [sustantivo - plural(es)].txt\nTesting: _español_L07 [sinonimos - intensidad].txt\n",
      "Testing: _español_L08 [sinonimos - exacto].txt\nTesting: _español_L09 [antonimos - grado].txt\n",
      "Testing: _español_L10 [antonimos - binario].txt\n['_español_D01 [prefijo_anti-].txt', [['3CosAdd', '0.0'], ['3CosMul', '0.0'], ['PairDir', '0.0'], ['cos', '0.0'], ['euc', '0.0'], ['ncos', '0.0'], ['neuc', '0.0']]]\n['_español_D02 [prefijo_des-].txt', [['3CosAdd', '0.0'], ['3CosMul', '0.0'], ['PairDir', '0.0'], ['cos', '0.0'], ['euc', '0.0'], ['ncos', '0.0'], ['neuc', '0.0']]]\n['_español_D03 [prefijo_in-].txt', [['3CosAdd', '0.0'], ['3CosMul', '0.0'], ['PairDir', '0.0'], ['cos', '0.0'], ['euc', '0.0'], ['ncos', '0.0'], ['neuc', '0.0']]]\n['_español_D04 [sufijo_-able].txt', [['3CosAdd', '0.0'], ['3CosMul', '0.0'], ['PairDir', '0.0'], ['cos', '0.0'], ['euc', '0.0'], ['ncos', '0.0'], ['neuc', '0.0']]]\n['_español_D05 [sufijo_-ción].txt', [['3CosAdd', '0.0'], ['3CosMul', '0.0'], ['PairDir', '0.0'], ['cos', '0.0'], ['euc', '0.0'], ['ncos', '0.0'], ['neuc', '0.0']]]\n['_español_D06 [sufijo_-ísimo].txt', [['3CosAdd', '0.0'], ['3CosMul', '0.0'], ['PairDir', '0.0'], ['cos', '0.0'], ['euc', '0.0'], ['ncos', '0.0'], ['neuc', '0.0']]]\n['_español_D07 [sufijo_-ita].txt', [['3CosAdd', '0.0'], ['3CosMul', '0.0'], ['PairDir', '0.0'], ['cos', '0.0'], ['euc', '0.0'], ['ncos', '0.0'], ['neuc', '0.0']]]\n['_español_D08 [sufijo_-ito].txt', [['3CosAdd', '0.0'], ['3CosMul', '0.0'], ['PairDir', '0.0'], ['cos', '0.0'], ['euc', '0.0'], ['ncos', '0.0'], ['neuc', '0.0']]]\n['_español_D09 [sufijo_-mente].txt', [['3CosAdd', '0.0'], ['3CosMul', '0.0'], ['PairDir', '0.0'], ['cos', '0.0'], ['euc', '0.0'], ['ncos', '0.0'], ['neuc', '0.0']]]\n['_español_D10 [sufijo_-miento].txt', [['3CosAdd', '0.0'], ['3CosMul', '0.0'], ['PairDir', '0.0'], ['cos', '0.0'], ['euc', '0.0'], ['ncos', '0.0'], ['neuc', '0.0']]]\n['_español_E01 [pais - capital].txt', [['3CosAdd', '0.0'], ['3CosMul', '0.0'], ['PairDir', '0.0'], ['cos', '0.0'], ['euc', '0.0'], ['ncos', '0.0'], ['neuc', '0.0']]]\n['_español_E02 [pais - idioma].txt', [['3CosAdd', '0.0'], ['3CosMul', '0.0'], ['PairDir', '0.0'], ['cos', '0.0'], ['euc', '0.0'], ['ncos', '0.0'], ['neuc', '0.0']]]\n['_español_E04 [nombre - nacionalidad].txt', [['3CosAdd', '0.0'], ['3CosMul', '0.0'], ['PairDir', '0.0'], ['cos', '0.0'], ['euc', '0.0'], ['ncos', '0.0'], ['neuc', '0.0']]]\n['_español_E05 [nombre - ocupacion].txt', [['3CosAdd', '0.04'], ['3CosMul', '0.0'], ['PairDir', '0.0'], ['cos', '0.0'], ['euc', '0.0'], ['ncos', '0.0'], ['neuc', '0.0']]]\n['_español_E10 [hombre - mujer].txt', [['3CosAdd', '0.011428571428571429'], ['3CosMul', '0.0'], ['PairDir', '0.0'], ['cos', '0.0'], ['euc', '0.0'], ['ncos', '0.0'], ['neuc', '0.0']]]\n['_español_E11 [pais - gentilicio].txt', [['3CosAdd', '0.0'], ['3CosMul', '0.0'], ['PairDir', '0.0'], ['cos', '0.0'], ['euc', '0.0'], ['ncos', '0.0'], ['neuc', '0.0']]]\n['_español_I067 [gerund - parti].txt', [['3CosAdd', '0.0'], ['3CosMul', '0.0'], ['PairDir', '0.0'], ['cos', '0.0'], ['euc', '0.0'], ['ncos', '0.0'], ['neuc', '0.0']]]\n['_español_I096 [inf - gerund].txt', [['3CosAdd', '0.0'], ['3CosMul', '0.0'], ['PairDir', '0.0'], ['cos', '0.0'], ['euc', '0.0'], ['ncos', '0.0'], ['neuc', '0.0']]]\n['_español_I097 [inf - parti].txt', [['3CosAdd', '0.0008163265306122449'], ['3CosMul', '0.0'], ['PairDir', '0.0'], ['cos', '0.0'], ['euc', '0.0'], ['ncos', '0.0'], ['neuc', '0.0']]]\n['_español_I162 [pret_perf__1_sing - futuro_simp__1_sing].txt', [['3CosAdd', '0.0'], ['3CosMul', '0.0'], ['PairDir', '0.0'], ['cos', '0.0'], ['euc', '0.0'], ['ncos', '0.0'], ['neuc', '0.0']]]\n['_español_I254 [presente__1_sing - futuro_simp__1_sing].txt', [['3CosAdd', '0.0'], ['3CosMul', '0.0'], ['PairDir', '0.0'], ['cos', '0.0'], ['euc', '0.0'], ['ncos', '0.0'], ['neuc', '0.0']]]\n['_español_I260 [presente__1_sing - pret_perf__1_sing].txt', [['3CosAdd', '0.0'], ['3CosMul', '0.0'], ['PairDir', '0.0'], ['cos', '0.0'], ['euc', '0.0'], ['ncos', '0.0'], ['neuc', '0.0']]]\n['_español_I265 [presente__1_sing - presente__1_plur].txt', [['3CosAdd', '0.00040816326530612246'], ['3CosMul', '0.0'], ['PairDir', '0.0'], ['cos', '0.0'], ['euc', '0.0'], ['ncos', '0.0'], ['neuc', '0.0']]]\n['_español_I269 [presente__1_sing - presente__3_sing].txt', [['3CosAdd', '0.0'], ['3CosMul', '0.0'], ['PairDir', '0.0'], ['cos', '0.0'], ['euc', '0.0'], ['ncos', '0.0'], ['neuc', '0.0']]]\n['_español_I466 [sustantivo - plural(s)].txt', [['3CosAdd', '0.02163265306122449'], ['3CosMul', '0.0'], ['PairDir', '0.0'], ['cos', '0.0'], ['euc', '0.0'], ['ncos', '0.0'], ['neuc', '0.0']]]\n['_español_I467 [sustantivo - plural(es)].txt', [['3CosAdd', '0.004081632653061225'], ['3CosMul', '0.0'], ['PairDir', '0.0'], ['cos', '0.0'], ['euc', '0.0'], ['ncos', '0.0'], ['neuc', '0.0']]]\n['_español_L07 [sinonimos - intensidad].txt', [['3CosAdd', '0.0008163265306122449'], ['3CosMul', '0.0'], ['PairDir', '0.0'], ['cos', '0.0'], ['euc', '0.0'], ['ncos', '0.0'], ['neuc', '0.0']]]\n['_español_L08 [sinonimos - exacto].txt', [['3CosAdd', '0.0069387755102040816'], ['3CosMul', '0.0'], ['PairDir', '0.0'], ['cos', '0.0'], ['euc', '0.0'], ['ncos', '0.0'], ['neuc', '0.0']]]\n['_español_L09 [antonimos - grado].txt', [['3CosAdd', '0.0012244897959183673'], ['3CosMul', '0.0'], ['PairDir', '0.0'], ['cos', '0.0'], ['euc', '0.0'], ['ncos', '0.0'], ['neuc', '0.0']]]\n['_español_L10 [antonimos - binario].txt', [['3CosAdd', '0.031020408163265307'], ['3CosMul', '0.0'], ['PairDir', '0.0'], ['cos', '0.0'], ['euc', '0.0'], ['ncos', '0.0'], ['neuc', '0.0']]]\n\n   End of test\n#################################################\n=> Cargando _fasttext_wiki.vec\n",
      "\n=> Testing _fasttext_wiki.vec\n_español_D01 [prefijo_anti-].txt\n_español_D02 [prefijo_des-].txt\n_español_D03 [prefijo_in-].txt\n_español_D04 [sufijo_-able].txt\n_español_D05 [sufijo_-ción].txt\n_español_D06 [sufijo_-ísimo].txt\n_español_D07 [sufijo_-ita].txt\n_español_D08 [sufijo_-ito].txt\n_español_D09 [sufijo_-mente].txt\n_español_D10 [sufijo_-miento].txt\n_español_E01 [pais - capital].txt\n_español_E02 [pais - idioma].txt\n_español_E04 [nombre - nacionalidad].txt\n_español_E05 [nombre - ocupacion].txt\n_español_E10 [hombre - mujer].txt\n_español_E11 [pais - gentilicio].txt\n_español_I067 [gerund - parti].txt\n_español_I096 [inf - gerund].txt\n_español_I097 [inf - parti].txt\n_español_I162 [pret_perf__1_sing - futuro_simp__1_sing].txt\n_español_I254 [presente__1_sing - futuro_simp__1_sing].txt\n_español_I260 [presente__1_sing - pret_perf__1_sing].txt\n_español_I265 [presente__1_sing - presente__1_plur].txt\n_español_I269 [presente__1_sing - presente__3_sing].txt\n_español_I466 [sustantivo - plural(s)].txt\n_español_I467 [sustantivo - plural(es)].txt\n_español_L07 [sinonimos - intensidad].txt\n_español_L08 [sinonimos - exacto].txt\n_español_L09 [antonimos - grado].txt\n_español_L10 [antonimos - binario].txt\nTesting: _español_D01 [prefijo_anti-].txt\nTesting: _español_D02 [prefijo_des-].txt\nTesting: _español_D03 [prefijo_in-].txt\nTesting: _español_D04 [sufijo_-able].txt\nTesting: _español_D05 [sufijo_-ción].txt\nTesting: _español_D06 [sufijo_-ísimo].txt\nTesting: _español_D07 [sufijo_-ita].txt\nTesting: _español_D08 [sufijo_-ito].txt\nTesting: _español_D09 [sufijo_-mente].txt\nTesting: ",
      "_español_D10 [sufijo_-miento].txt\nTesting: _español_E01 [pais - capital].txt\nTesting: _español_E02 [pais - idioma].txt\nTesting: _español_E04 [nombre - nacionalidad].txt\nTesting: _español_E05 [nombre - ocupacion].txt\nTesting: _español_E10 [hombre - mujer].txt\n",
      "Testing: _español_E11 [pais - gentilicio].txt\nTesting: _español_I067 [gerund - parti].txt\nTesting: _español_I096 [inf - gerund].txt\nTesting: _español_I097 [inf - parti].txt\nTesting: _español_I162 [pret_perf__1_sing - futuro_simp__1_sing].txt\nTesting: _español_I254 [presente__1_sing - futuro_simp__1_sing].txt\nTesting: _español_I260 [presente__1_sing - pret_perf__1_sing].txt\nTesting: _español_I265 [presente__1_sing - presente__1_plur].txt\nTesting: ",
      "_español_I269 [presente__1_sing - presente__3_sing].txt\nTesting: _español_I466 [sustantivo - plural(s)].txt\nTesting: _español_I467 [sustantivo - plural(es)].txt\nTesting: _español_L07 [sinonimos - intensidad].txt\n",
      "Testing: _español_L08 [sinonimos - exacto].txt\nTesting: _español_L09 [antonimos - grado].txt\n",
      "Testing: _español_L10 [antonimos - binario].txt\n['_español_D01 [prefijo_anti-].txt', [['3CosAdd', '0.0'], ['3CosMul', '0.0'], ['PairDir', '0.0'], ['cos', '0.0'], ['euc', '0.0'], ['ncos', '0.0'], ['neuc', '0.0']]]\n['_español_D02 [prefijo_des-].txt', [['3CosAdd', '0.0'], ['3CosMul', '0.0'], ['PairDir', '0.0'], ['cos', '0.0'], ['euc', '0.0'], ['ncos', '0.0'], ['neuc', '0.0']]]\n['_español_D03 [prefijo_in-].txt', [['3CosAdd', '0.0'], ['3CosMul', '0.0'], ['PairDir', '0.0'], ['cos', '0.0'], ['euc', '0.0'], ['ncos', '0.0'], ['neuc', '0.0']]]\n['_español_D04 [sufijo_-able].txt', [['3CosAdd', '0.0'], ['3CosMul', '0.0'], ['PairDir', '0.0'], ['cos', '0.0'], ['euc', '0.0'], ['ncos', '0.0'], ['neuc', '0.0']]]\n['_español_D05 [sufijo_-ción].txt', [['3CosAdd', '0.0'], ['3CosMul', '0.0'], ['PairDir', '0.0'], ['cos', '0.0'], ['euc', '0.0'], ['ncos', '0.0'], ['neuc', '0.0']]]\n['_español_D06 [sufijo_-ísimo].txt', [['3CosAdd', '0.0'], ['3CosMul', '0.0'], ['PairDir', '0.0'], ['cos', '0.0'], ['euc', '0.0'], ['ncos', '0.0'], ['neuc', '0.0']]]\n['_español_D07 [sufijo_-ita].txt', [['3CosAdd', '0.0'], ['3CosMul', '0.0'], ['PairDir', '0.0'], ['cos', '0.0'], ['euc', '0.0'], ['ncos', '0.0'], ['neuc', '0.0']]]\n['_español_D08 [sufijo_-ito].txt', [['3CosAdd', '0.0'], ['3CosMul', '0.0'], ['PairDir', '0.0'], ['cos', '0.0'], ['euc', '0.0'], ['ncos', '0.0'], ['neuc', '0.0']]]\n['_español_D09 [sufijo_-mente].txt', [['3CosAdd', '0.0'], ['3CosMul', '0.0'], ['PairDir', '0.0'], ['cos', '0.0'], ['euc', '0.0'], ['ncos', '0.0'], ['neuc', '0.0']]]\n['_español_D10 [sufijo_-miento].txt', [['3CosAdd', '0.0'], ['3CosMul', '0.0'], ['PairDir', '0.0'], ['cos', '0.0'], ['euc', '0.0'], ['ncos', '0.0'], ['neuc', '0.0']]]\n['_español_E01 [pais - capital].txt', [['3CosAdd', '0.00816326530612245'], ['3CosMul', '0.0'], ['PairDir', '0.0'], ['cos', '0.0'], ['euc', '0.0'], ['ncos', '0.0'], ['neuc', '0.0']]]\n['_español_E02 [pais - idioma].txt', [['3CosAdd', '0.007346938775510204'], ['3CosMul', '0.0'], ['PairDir', '0.0'], ['cos', '0.0'], ['euc', '0.0'], ['ncos', '0.0'], ['neuc', '0.0']]]\n['_español_E04 [nombre - nacionalidad].txt', [['3CosAdd', '0.0'], ['3CosMul', '0.0'], ['PairDir', '0.0'], ['cos', '0.0'], ['euc', '0.0'], ['ncos', '0.0'], ['neuc', '0.0']]]\n['_español_E05 [nombre - ocupacion].txt', [['3CosAdd', '0.04'], ['3CosMul', '0.0'], ['PairDir', '0.0'], ['cos', '0.0'], ['euc', '0.0'], ['ncos', '0.0'], ['neuc', '0.0']]]\n['_español_E10 [hombre - mujer].txt', [['3CosAdd', '0.004897959183673469'], ['3CosMul', '0.0'], ['PairDir', '0.0'], ['cos', '0.0'], ['euc', '0.0'], ['ncos', '0.0'], ['neuc', '0.0']]]\n['_español_E11 [pais - gentilicio].txt', [['3CosAdd', '0.0'], ['3CosMul', '0.0'], ['PairDir', '0.0'], ['cos', '0.0'], ['euc', '0.0'], ['ncos', '0.0'], ['neuc', '0.0']]]\n['_español_I067 [gerund - parti].txt', [['3CosAdd', '0.0'], ['3CosMul', '0.0'], ['PairDir', '0.0'], ['cos', '0.0'], ['euc', '0.0'], ['ncos', '0.0'], ['neuc', '0.0']]]\n['_español_I096 [inf - gerund].txt', [['3CosAdd', '0.0'], ['3CosMul', '0.0'], ['PairDir', '0.0'], ['cos', '0.0'], ['euc', '0.0'], ['ncos', '0.0'], ['neuc', '0.0']]]\n['_español_I097 [inf - parti].txt', [['3CosAdd', '0.0'], ['3CosMul', '0.0'], ['PairDir', '0.0'], ['cos', '0.0'], ['euc', '0.0'], ['ncos', '0.0'], ['neuc', '0.0']]]\n['_español_I162 [pret_perf__1_sing - futuro_simp__1_sing].txt', [['3CosAdd', '0.0'], ['3CosMul', '0.0'], ['PairDir', '0.0'], ['cos', '0.0'], ['euc', '0.0'], ['ncos', '0.0'], ['neuc', '0.0']]]\n['_español_I254 [presente__1_sing - futuro_simp__1_sing].txt', [['3CosAdd', '0.0'], ['3CosMul', '0.0'], ['PairDir', '0.0'], ['cos', '0.0'], ['euc', '0.0'], ['ncos', '0.0'], ['neuc', '0.0']]]\n['_español_I260 [presente__1_sing - pret_perf__1_sing].txt', [['3CosAdd', '0.0'], ['3CosMul', '0.0'], ['PairDir', '0.0'], ['cos', '0.0'], ['euc', '0.0'], ['ncos', '0.0'], ['neuc', '0.0']]]\n['_español_I265 [presente__1_sing - presente__1_plur].txt', [['3CosAdd', '0.0'], ['3CosMul', '0.0'], ['PairDir', '0.0'], ['cos', '0.0'], ['euc', '0.0'], ['ncos', '0.0'], ['neuc', '0.0']]]\n['_español_I269 [presente__1_sing - presente__3_sing].txt', [['3CosAdd', '0.0'], ['3CosMul', '0.0'], ['PairDir', '0.0'], ['cos', '0.0'], ['euc', '0.0'], ['ncos', '0.0'], ['neuc', '0.0']]]\n['_español_I466 [sustantivo - plural(s)].txt', [['3CosAdd', '0.013061224489795919'], ['3CosMul', '0.0'], ['PairDir', '0.0'], ['cos', '0.0'], ['euc', '0.0'], ['ncos', '0.0'], ['neuc', '0.0']]]\n['_español_I467 [sustantivo - plural(es)].txt', [['3CosAdd', '0.022857142857142857'], ['3CosMul', '0.0'], ['PairDir', '0.0'], ['cos', '0.0'], ['euc', '0.0'], ['ncos', '0.0'], ['neuc', '0.0']]]\n['_español_L07 [sinonimos - intensidad].txt', [['3CosAdd', '0.0'], ['3CosMul', '0.0'], ['PairDir', '0.0'], ['cos', '0.0'], ['euc', '0.0'], ['ncos', '0.0'], ['neuc', '0.0']]]\n['_español_L08 [sinonimos - exacto].txt', [['3CosAdd', '0.0020408163265306124'], ['3CosMul', '0.0'], ['PairDir', '0.0'], ['cos', '0.0'], ['euc', '0.0'], ['ncos', '0.0'], ['neuc', '0.0']]]\n['_español_L09 [antonimos - grado].txt', [['3CosAdd', '0.0008163265306122449'], ['3CosMul', '0.0'], ['PairDir', '0.0'], ['cos', '0.0'], ['euc', '0.0'], ['ncos', '0.0'], ['neuc', '0.0']]]\n['_español_L10 [antonimos - binario].txt', [['3CosAdd', '0.012653061224489797'], ['3CosMul', '0.0'], ['PairDir', '0.0'], ['cos', '0.0'], ['euc', '0.0'], ['ncos', '0.0'], ['neuc', '0.0']]]\n\n   End of test\n#################################################\n=> Cargando _glove_sbwc.vec\n",
      "\n=> Testing _glove_sbwc.vec\n_español_D01 [prefijo_anti-].txt\n_español_D02 [prefijo_des-].txt\n_español_D03 [prefijo_in-].txt\n_español_D04 [sufijo_-able].txt\n_español_D05 [sufijo_-ción].txt\n_español_D06 [sufijo_-ísimo].txt\n_español_D07 [sufijo_-ita].txt\n_español_D08 [sufijo_-ito].txt\n_español_D09 [sufijo_-mente].txt\n_español_D10 [sufijo_-miento].txt\n_español_E01 [pais - capital].txt\n_español_E02 [pais - idioma].txt\n_español_E04 [nombre - nacionalidad].txt\n_español_E05 [nombre - ocupacion].txt\n_español_E10 [hombre - mujer].txt\n_español_E11 [pais - gentilicio].txt\n_español_I067 [gerund - parti].txt\n_español_I096 [inf - gerund].txt\n_español_I097 [inf - parti].txt\n_español_I162 [pret_perf__1_sing - futuro_simp__1_sing].txt\n_español_I254 [presente__1_sing - futuro_simp__1_sing].txt\n_español_I260 [presente__1_sing - pret_perf__1_sing].txt\n_español_I265 [presente__1_sing - presente__1_plur].txt\n_español_I269 [presente__1_sing - presente__3_sing].txt\n_español_I466 [sustantivo - plural(s)].txt\n_español_I467 [sustantivo - plural(es)].txt\n_español_L07 [sinonimos - intensidad].txt\n_español_L08 [sinonimos - exacto].txt\n_español_L09 [antonimos - grado].txt\n_español_L10 [antonimos - binario].txt\nTesting: _español_D01 [prefijo_anti-].txt\nTesting: _español_D02 [prefijo_des-].txt\nTesting: _español_D03 [prefijo_in-].txt\nTesting: _español_D04 [sufijo_-able].txt\nTesting: _español_D05 [sufijo_-ción].txt\nTesting: _español_D06 [sufijo_-ísimo].txt\nTesting: _español_D07 [sufijo_-ita].txt\nTesting: ",
      "_español_D08 [sufijo_-ito].txt\nTesting: _español_D09 [sufijo_-mente].txt\nTesting: _español_D10 [sufijo_-miento].txt\nTesting: _español_E01 [pais - capital].txt\nTesting: _español_E02 [pais - idioma].txt\nTesting: _español_E04 [nombre - nacionalidad].txt\nTesting: _español_E05 [nombre - ocupacion].txt\n",
      "Testing: _español_E10 [hombre - mujer].txt\nTesting: _español_E11 [pais - gentilicio].txt\nTesting: _español_I067 [gerund - parti].txt\nTesting: _español_I096 [inf - gerund].txt\nTesting: _español_I097 [inf - parti].txt\nTesting: _español_I162 [pret_perf__1_sing - futuro_simp__1_sing].txt\nTesting: ",
      "_español_I254 [presente__1_sing - futuro_simp__1_sing].txt\nTesting: _español_I260 [presente__1_sing - pret_perf__1_sing].txt\nTesting: _español_I265 [presente__1_sing - presente__1_plur].txt\nTesting: _español_I269 [presente__1_sing - presente__3_sing].txt\nTesting: _español_I466 [sustantivo - plural(s)].txt\nTesting: _español_I467 [sustantivo - plural(es)].txt\n",
      "Testing: _español_L07 [sinonimos - intensidad].txt\nTesting: _español_L08 [sinonimos - exacto].txt\n",
      "Testing: _español_L09 [antonimos - grado].txt\nTesting: _español_L10 [antonimos - binario].txt\n['_español_D01 [prefijo_anti-].txt', [['3CosAdd', '0.0'], ['3CosMul', '0.0'], ['PairDir', '0.0'], ['cos', '0.0'], ['euc', '0.0'], ['ncos', '0.0'], ['neuc', '0.0']]]\n['_español_D02 [prefijo_des-].txt', [['3CosAdd', '0.0'], ['3CosMul', '0.0'], ['PairDir', '0.0'], ['cos', '0.0'], ['euc', '0.0'], ['ncos', '0.0'], ['neuc', '0.0']]]\n['_español_D03 [prefijo_in-].txt', [['3CosAdd', '0.0'], ['3CosMul', '0.0'], ['PairDir', '0.0'], ['cos', '0.0'], ['euc', '0.0'], ['ncos', '0.0'], ['neuc', '0.0']]]\n['_español_D04 [sufijo_-able].txt', [['3CosAdd', '0.0'], ['3CosMul', '0.0'], ['PairDir', '0.0'], ['cos', '0.0'], ['euc', '0.0'], ['ncos', '0.0'], ['neuc', '0.0']]]\n['_español_D05 [sufijo_-ción].txt', [['3CosAdd', '0.0'], ['3CosMul', '0.0'], ['PairDir', '0.0'], ['cos', '0.0'], ['euc', '0.0'], ['ncos', '0.0'], ['neuc', '0.0']]]\n['_español_D06 [sufijo_-ísimo].txt', [['3CosAdd', '0.0'], ['3CosMul', '0.0'], ['PairDir', '0.0'], ['cos', '0.0'], ['euc', '0.0'], ['ncos', '0.0'], ['neuc', '0.0']]]\n['_español_D07 [sufijo_-ita].txt', [['3CosAdd', '0.0'], ['3CosMul', '0.0'], ['PairDir', '0.0'], ['cos', '0.0'], ['euc', '0.0'], ['ncos', '0.0'], ['neuc', '0.0']]]\n['_español_D08 [sufijo_-ito].txt', [['3CosAdd', '0.0'], ['3CosMul', '0.0'], ['PairDir', '0.0'], ['cos', '0.0'], ['euc', '0.0'], ['ncos', '0.0'], ['neuc', '0.0']]]\n['_español_D09 [sufijo_-mente].txt', [['3CosAdd', '0.0'], ['3CosMul', '0.0'], ['PairDir', '0.0'], ['cos', '0.0'], ['euc', '0.0'], ['ncos', '0.0'], ['neuc', '0.0']]]\n['_español_D10 [sufijo_-miento].txt', [['3CosAdd', '0.0'], ['3CosMul', '0.0'], ['PairDir', '0.0'], ['cos', '0.0'], ['euc', '0.0'], ['ncos', '0.0'], ['neuc', '0.0']]]\n['_español_E01 [pais - capital].txt', [['3CosAdd', '0.0'], ['3CosMul', '0.0'], ['PairDir', '0.0'], ['cos', '0.0'], ['euc', '0.0'], ['ncos', '0.0'], ['neuc', '0.0']]]\n['_español_E02 [pais - idioma].txt', [['3CosAdd', '0.0'], ['3CosMul', '0.0'], ['PairDir', '0.0'], ['cos', '0.0'], ['euc', '0.0'], ['ncos', '0.0'], ['neuc', '0.0']]]\n['_español_E04 [nombre - nacionalidad].txt', [['3CosAdd', '0.0'], ['3CosMul', '0.0'], ['PairDir', '0.0'], ['cos', '0.0'], ['euc', '0.0'], ['ncos', '0.0'], ['neuc', '0.0']]]\n['_español_E05 [nombre - ocupacion].txt', [['3CosAdd', '0.04'], ['3CosMul', '0.0'], ['PairDir', '0.0'], ['cos', '0.0'], ['euc', '0.0'], ['ncos', '0.0'], ['neuc', '0.0']]]\n['_español_E10 [hombre - mujer].txt', [['3CosAdd', '0.0008163265306122449'], ['3CosMul', '0.0'], ['PairDir', '0.0'], ['cos', '0.0'], ['euc', '0.0'], ['ncos', '0.0'], ['neuc', '0.0']]]\n['_español_E11 [pais - gentilicio].txt', [['3CosAdd', '0.0'], ['3CosMul', '0.0'], ['PairDir', '0.0'], ['cos', '0.0'], ['euc', '0.0'], ['ncos', '0.0'], ['neuc', '0.0']]]\n['_español_I067 [gerund - parti].txt', [['3CosAdd', '0.0'], ['3CosMul', '0.0'], ['PairDir', '0.0'], ['cos', '0.0'], ['euc', '0.0'], ['ncos', '0.0'], ['neuc', '0.0']]]\n['_español_I096 [inf - gerund].txt', [['3CosAdd', '0.0'], ['3CosMul', '0.0'], ['PairDir', '0.0'], ['cos', '0.0'], ['euc', '0.0'], ['ncos', '0.0'], ['neuc', '0.0']]]\n['_español_I097 [inf - parti].txt', [['3CosAdd', '0.0008163265306122449'], ['3CosMul', '0.0'], ['PairDir', '0.0'], ['cos', '0.0'], ['euc', '0.0'], ['ncos', '0.0'], ['neuc', '0.0']]]\n['_español_I162 [pret_perf__1_sing - futuro_simp__1_sing].txt', [['3CosAdd', '0.0'], ['3CosMul', '0.0'], ['PairDir', '0.0'], ['cos', '0.0'], ['euc', '0.0'], ['ncos', '0.0'], ['neuc', '0.0']]]\n['_español_I254 [presente__1_sing - futuro_simp__1_sing].txt', [['3CosAdd', '0.0'], ['3CosMul', '0.0'], ['PairDir', '0.0'], ['cos', '0.0'], ['euc', '0.0'], ['ncos', '0.0'], ['neuc', '0.0']]]\n['_español_I260 [presente__1_sing - pret_perf__1_sing].txt', [['3CosAdd', '0.0'], ['3CosMul', '0.0'], ['PairDir', '0.0'], ['cos', '0.0'], ['euc', '0.0'], ['ncos', '0.0'], ['neuc', '0.0']]]\n['_español_I265 [presente__1_sing - presente__1_plur].txt', [['3CosAdd', '0.0'], ['3CosMul', '0.0'], ['PairDir', '0.0'], ['cos', '0.0'], ['euc', '0.0'], ['ncos', '0.0'], ['neuc', '0.0']]]\n['_español_I269 [presente__1_sing - presente__3_sing].txt', [['3CosAdd', '0.0'], ['3CosMul', '0.0'], ['PairDir', '0.0'], ['cos', '0.0'], ['euc', '0.0'], ['ncos', '0.0'], ['neuc', '0.0']]]\n['_español_I466 [sustantivo - plural(s)].txt', [['3CosAdd', '0.03428571428571429'], ['3CosMul', '0.0'], ['PairDir', '0.0'], ['cos', '0.0'], ['euc', '0.0'], ['ncos', '0.0'], ['neuc', '0.0']]]\n['_español_I467 [sustantivo - plural(es)].txt', [['3CosAdd', '0.015510204081632653'], ['3CosMul', '0.0'], ['PairDir', '0.0'], ['cos', '0.0'], ['euc', '0.0'], ['ncos', '0.0'], ['neuc', '0.0']]]\n['_español_L07 [sinonimos - intensidad].txt', [['3CosAdd', '0.0'], ['3CosMul', '0.0'], ['PairDir', '0.0'], ['cos', '0.0'], ['euc', '0.0'], ['ncos', '0.0'], ['neuc', '0.0']]]\n['_español_L08 [sinonimos - exacto].txt', [['3CosAdd', '0.0016326530612244899'], ['3CosMul', '0.0'], ['PairDir', '0.0'], ['cos', '0.0'], ['euc', '0.0'], ['ncos', '0.0'], ['neuc', '0.0']]]\n['_español_L09 [antonimos - grado].txt', [['3CosAdd', '0.0'], ['3CosMul', '0.0'], ['PairDir', '0.0'], ['cos', '0.0'], ['euc', '0.0'], ['ncos', '0.0'], ['neuc', '0.0']]]\n['_español_L10 [antonimos - binario].txt', [['3CosAdd', '0.005714285714285714'], ['3CosMul', '0.0'], ['PairDir', '0.0'], ['cos', '0.0'], ['euc', '0.0'], ['ncos', '0.0'], ['neuc', '0.0']]]\n\n   End of test\n#################################################\n=> Cargando _w2v_sbwc.txt\n",
      "\n=> Testing _w2v_sbwc.txt\n_español_D01 [prefijo_anti-].txt\n_español_D02 [prefijo_des-].txt\n_español_D03 [prefijo_in-].txt\n_español_D04 [sufijo_-able].txt\n_español_D05 [sufijo_-ción].txt\n_español_D06 [sufijo_-ísimo].txt\n_español_D07 [sufijo_-ita].txt\n_español_D08 [sufijo_-ito].txt\n_español_D09 [sufijo_-mente].txt\n_español_D10 [sufijo_-miento].txt\n_español_E01 [pais - capital].txt\n_español_E02 [pais - idioma].txt\n_español_E04 [nombre - nacionalidad].txt\n_español_E05 [nombre - ocupacion].txt\n_español_E10 [hombre - mujer].txt\n_español_E11 [pais - gentilicio].txt\n_español_I067 [gerund - parti].txt\n_español_I096 [inf - gerund].txt\n_español_I097 [inf - parti].txt\n_español_I162 [pret_perf__1_sing - futuro_simp__1_sing].txt\n_español_I254 [presente__1_sing - futuro_simp__1_sing].txt\n_español_I260 [presente__1_sing - pret_perf__1_sing].txt\n_español_I265 [presente__1_sing - presente__1_plur].txt\n_español_I269 [presente__1_sing - presente__3_sing].txt\n_español_I466 [sustantivo - plural(s)].txt\n_español_I467 [sustantivo - plural(es)].txt\n_español_L07 [sinonimos - intensidad].txt\n_español_L08 [sinonimos - exacto].txt\n_español_L09 [antonimos - grado].txt\n_español_L10 [antonimos - binario].txt\nTesting: _español_D01 [prefijo_anti-].txt\nTesting: _español_D02 [prefijo_des-].txt\nTesting: _español_D03 [prefijo_in-].txt\nTesting: _español_D04 [sufijo_-able].txt\nTesting: _español_D05 [sufijo_-ción].txt\nTesting: _español_D06 [sufijo_-ísimo].txt\nTesting: _español_D07 [sufijo_-ita].txt\nTesting: _español_D08 [sufijo_-ito].txt\nTesting: ",
      "_español_D09 [sufijo_-mente].txt\nTesting: _español_D10 [sufijo_-miento].txt\nTesting: _español_E01 [pais - capital].txt\nTesting: _español_E02 [pais - idioma].txt\nTesting: _español_E04 [nombre - nacionalidad].txt\nTesting: _español_E05 [nombre - ocupacion].txt\nTesting: _español_E10 [hombre - mujer].txt\n",
      "Testing: _español_E11 [pais - gentilicio].txt\nTesting: _español_I067 [gerund - parti].txt\nTesting: _español_I096 [inf - gerund].txt\nTesting: _español_I097 [inf - parti].txt\nTesting: _español_I162 [pret_perf__1_sing - futuro_simp__1_sing].txt\nTesting: _español_I254 [presente__1_sing - futuro_simp__1_sing].txt\nTesting: _español_I260 [presente__1_sing - pret_perf__1_sing].txt\nTesting: ",
      "_español_I265 [presente__1_sing - presente__1_plur].txt\nTesting: _español_I269 [presente__1_sing - presente__3_sing].txt\nTesting: _español_I466 [sustantivo - plural(s)].txt\nTesting: _español_I467 [sustantivo - plural(es)].txt\nTesting: ",
      "_español_L07 [sinonimos - intensidad].txt\nTesting: _español_L08 [sinonimos - exacto].txt\n",
      "Testing: _español_L09 [antonimos - grado].txt\nTesting: _español_L10 [antonimos - binario].txt\n['_español_D01 [prefijo_anti-].txt', [['3CosAdd', '0.0'], ['3CosMul', '0.0'], ['PairDir', '0.0'], ['cos', '0.0'], ['euc', '0.0'], ['ncos', '0.0'], ['neuc', '0.0']]]\n['_español_D02 [prefijo_des-].txt', [['3CosAdd', '0.0'], ['3CosMul', '0.0'], ['PairDir', '0.0'], ['cos', '0.0'], ['euc', '0.0'], ['ncos', '0.0'], ['neuc', '0.0']]]\n['_español_D03 [prefijo_in-].txt', [['3CosAdd', '0.0'], ['3CosMul', '0.0'], ['PairDir', '0.0'], ['cos', '0.0'], ['euc', '0.0'], ['ncos', '0.0'], ['neuc', '0.0']]]\n['_español_D04 [sufijo_-able].txt', [['3CosAdd', '0.0'], ['3CosMul', '0.0'], ['PairDir', '0.0'], ['cos', '0.0'], ['euc', '0.0'], ['ncos', '0.0'], ['neuc', '0.0']]]\n['_español_D05 [sufijo_-ción].txt', [['3CosAdd', '0.0'], ['3CosMul', '0.0'], ['PairDir', '0.0'], ['cos', '0.0'], ['euc', '0.0'], ['ncos', '0.0'], ['neuc', '0.0']]]\n['_español_D06 [sufijo_-ísimo].txt', [['3CosAdd', '0.0'], ['3CosMul', '0.0'], ['PairDir', '0.0'], ['cos', '0.0'], ['euc', '0.0'], ['ncos', '0.0'], ['neuc', '0.0']]]\n['_español_D07 [sufijo_-ita].txt', [['3CosAdd', '0.0'], ['3CosMul', '0.0'], ['PairDir', '0.0'], ['cos', '0.0'], ['euc', '0.0'], ['ncos', '0.0'], ['neuc', '0.0']]]\n['_español_D08 [sufijo_-ito].txt', [['3CosAdd', '0.0'], ['3CosMul', '0.0'], ['PairDir', '0.0'], ['cos', '0.0'], ['euc', '0.0'], ['ncos', '0.0'], ['neuc', '0.0']]]\n['_español_D09 [sufijo_-mente].txt', [['3CosAdd', '0.0'], ['3CosMul', '0.0'], ['PairDir', '0.0'], ['cos', '0.0'], ['euc', '0.0'], ['ncos', '0.0'], ['neuc', '0.0']]]\n['_español_D10 [sufijo_-miento].txt', [['3CosAdd', '0.0'], ['3CosMul', '0.0'], ['PairDir', '0.0'], ['cos', '0.0'], ['euc', '0.0'], ['ncos', '0.0'], ['neuc', '0.0']]]\n['_español_E01 [pais - capital].txt', [['3CosAdd', '0.0'], ['3CosMul', '0.0'], ['PairDir', '0.0'], ['cos', '0.0'], ['euc', '0.0'], ['ncos', '0.0'], ['neuc', '0.0']]]\n['_español_E02 [pais - idioma].txt', [['3CosAdd', '0.0'], ['3CosMul', '0.0'], ['PairDir', '0.0'], ['cos', '0.0'], ['euc', '0.0'], ['ncos', '0.0'], ['neuc', '0.0']]]\n['_español_E04 [nombre - nacionalidad].txt', [['3CosAdd', '0.0'], ['3CosMul', '0.0'], ['PairDir', '0.0'], ['cos', '0.0'], ['euc', '0.0'], ['ncos', '0.0'], ['neuc', '0.0']]]\n['_español_E05 [nombre - ocupacion].txt', [['3CosAdd', '0.04'], ['3CosMul', '0.0'], ['PairDir', '0.0'], ['cos', '0.0'], ['euc', '0.0'], ['ncos', '0.0'], ['neuc', '0.0']]]\n['_español_E10 [hombre - mujer].txt', [['3CosAdd', '0.0008163265306122449'], ['3CosMul', '0.0'], ['PairDir', '0.0'], ['cos', '0.0'], ['euc', '0.0'], ['ncos', '0.0'], ['neuc', '0.0']]]\n['_español_E11 [pais - gentilicio].txt', [['3CosAdd', '0.0'], ['3CosMul', '0.0'], ['PairDir', '0.0'], ['cos', '0.0'], ['euc', '0.0'], ['ncos', '0.0'], ['neuc', '0.0']]]\n['_español_I067 [gerund - parti].txt', [['3CosAdd', '0.0'], ['3CosMul', '0.0'], ['PairDir', '0.0'], ['cos', '0.0'], ['euc', '0.0'], ['ncos', '0.0'], ['neuc', '0.0']]]\n['_español_I096 [inf - gerund].txt', [['3CosAdd', '0.0'], ['3CosMul', '0.0'], ['PairDir', '0.0'], ['cos', '0.0'], ['euc', '0.0'], ['ncos', '0.0'], ['neuc', '0.0']]]\n['_español_I097 [inf - parti].txt', [['3CosAdd', '0.0008163265306122449'], ['3CosMul', '0.0'], ['PairDir', '0.0'], ['cos', '0.0'], ['euc', '0.0'], ['ncos', '0.0'], ['neuc', '0.0']]]\n['_español_I162 [pret_perf__1_sing - futuro_simp__1_sing].txt', [['3CosAdd', '0.0'], ['3CosMul', '0.0'], ['PairDir', '0.0'], ['cos', '0.0'], ['euc', '0.0'], ['ncos', '0.0'], ['neuc', '0.0']]]\n['_español_I254 [presente__1_sing - futuro_simp__1_sing].txt', [['3CosAdd', '0.0'], ['3CosMul', '0.0'], ['PairDir', '0.0'], ['cos', '0.0'], ['euc', '0.0'], ['ncos', '0.0'], ['neuc', '0.0']]]\n['_español_I260 [presente__1_sing - pret_perf__1_sing].txt', [['3CosAdd', '0.0'], ['3CosMul', '0.0'], ['PairDir', '0.0'], ['cos', '0.0'], ['euc', '0.0'], ['ncos', '0.0'], ['neuc', '0.0']]]\n['_español_I265 [presente__1_sing - presente__1_plur].txt', [['3CosAdd', '0.0'], ['3CosMul', '0.0'], ['PairDir', '0.0'], ['cos', '0.0'], ['euc', '0.0'], ['ncos', '0.0'], ['neuc', '0.0']]]\n['_español_I269 [presente__1_sing - presente__3_sing].txt', [['3CosAdd', '0.0'], ['3CosMul', '0.0'], ['PairDir', '0.0'], ['cos', '0.0'], ['euc', '0.0'], ['ncos', '0.0'], ['neuc', '0.0']]]\n['_español_I466 [sustantivo - plural(s)].txt', [['3CosAdd', '0.027755102040816326'], ['3CosMul', '0.0'], ['PairDir', '0.0'], ['cos', '0.0'], ['euc', '0.0'], ['ncos', '0.0'], ['neuc', '0.0']]]\n['_español_I467 [sustantivo - plural(es)].txt', [['3CosAdd', '0.008571428571428572'], ['3CosMul', '0.0'], ['PairDir', '0.0'], ['cos', '0.0'], ['euc', '0.0'], ['ncos', '0.0'], ['neuc', '0.0']]]\n['_español_L07 [sinonimos - intensidad].txt', [['3CosAdd', '0.00040816326530612246'], ['3CosMul', '0.0'], ['PairDir', '0.0'], ['cos', '0.0'], ['euc', '0.0'], ['ncos', '0.0'], ['neuc', '0.0']]]\n['_español_L08 [sinonimos - exacto].txt', [['3CosAdd', '0.0008163265306122449'], ['3CosMul', '0.0'], ['PairDir', '0.0'], ['cos', '0.0'], ['euc', '0.0'], ['ncos', '0.0'], ['neuc', '0.0']]]\n['_español_L09 [antonimos - grado].txt', [['3CosAdd', '0.0'], ['3CosMul', '0.0'], ['PairDir', '0.0'], ['cos', '0.0'], ['euc', '0.0'], ['ncos', '0.0'], ['neuc', '0.0']]]\n['_español_L10 [antonimos - binario].txt', [['3CosAdd', '0.01183673469387755'], ['3CosMul', '0.0'], ['PairDir', '0.0'], ['cos', '0.0'], ['euc', '0.0'], ['ncos', '0.0'], ['neuc', '0.0']]]\n\n   End of test\n"
     ],
     "output_type": "stream"
    }
   ],
   "source": [
    "def analogy():\n",
    "    results = {}\n",
    "    for name in embeddings:\n",
    "        real_name = name.split('.')[0]\n",
    "        results[name] = {}\n",
    "        print(\"#################################################\")\n",
    "        print(\"=> Cargando \" + name)\n",
    "        #wordvector = get_wordvector(name, 1000)\n",
    "        wordvector = get_wordvector(name)\n",
    "    \n",
    "        print(\"\\n=> Testing \" + name)\n",
    "        analogyTest(wordvector, name)\n",
    "        \n",
    "        print(\"\\n   End of test\")\n",
    "        #print(\"\\n=> Embeddings \" + name + \" score:\" + str(json.dumps(score, sort_keys=True, indent=4)))\n",
    "    \n",
    "        del wordvector\n",
    "            \n",
    "\n",
    "# Test de analogias\n",
    "analogy()\n"
   ],
   "metadata": {
    "collapsed": false,
    "pycharm": {
     "name": "#%%\n",
     "is_executing": false
    }
   }
  }
 ],
 "metadata": {
  "kernelspec": {
   "display_name": "Python 3",
   "language": "python",
   "name": "python3"
  },
  "language_info": {
   "codemirror_mode": {
    "name": "ipython",
    "version": 2
   },
   "file_extension": ".py",
   "mimetype": "text/x-python",
   "name": "python",
   "nbconvert_exporter": "python",
   "pygments_lexer": "ipython2",
   "version": "2.7.6"
  },
  "pycharm": {
   "stem_cell": {
    "cell_type": "raw",
    "source": [],
    "metadata": {
     "collapsed": false
    }
   }
  }
 },
 "nbformat": 4,
 "nbformat_minor": 0
}