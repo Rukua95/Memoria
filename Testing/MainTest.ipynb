{
 "cells": [
  {
   "cell_type": "code",
   "execution_count": 4,
   "metadata": {
    "collapsed": true,
    "pycharm": {
     "is_executing": false
    }
   },
   "outputs": [],
   "source": [
    "import os\n",
    "import io\n",
    "import json\n",
    "\n",
    "import numpy as np\n",
    "\n",
    "from scipy.stats import spearmanr\n",
    "from gensim.models.keyedvectors import KeyedVectors\n",
    "\n",
    "from SimilarityTest import *\n",
    "from AnalogyTest import *"
   ]
  },
  {
   "cell_type": "code",
   "execution_count": 5,
   "outputs": [
    {
     "name": "stdout",
     "text": [
      "Embeddings a usar:\n > _fasttext_sbwc.vec\n > _fasttext_suc.vec\n > _fasttext_wiki.vec\n > _glove_sbwc.vec\n > _w2v_sbwc.txt\n"
     ],
     "output_type": "stream"
    }
   ],
   "source": [
    "# Path a carpeta principal\n",
    "PATH = 'D:\\Documents\\Memoria - Eval. Word Embeddings\\\\'\n",
    "\n",
    "# Path a carpeta con los embeddings\n",
    "embeddings_path = PATH + 'Embeddings\\\\'\n",
    "\n",
    "# Lista con los nombres de los archivos de los embeddings\n",
    "embeddings = os.listdir(embeddings_path)\n",
    "\n",
    "# Path a carpeta contenedora de dataset de similaridad (semeval17 y rg65)\n",
    "similarity_dataset = PATH + 'Data\\Similarity\\\\'\n",
    "\n",
    "print(\"Embeddings a usar:\")\n",
    "for s in embeddings:\n",
    "    print(\" > \" + s)\n",
    "\n",
    "def get_wordvector(file, cant=None):\n",
    "    wordvector_file = embeddings_path + file\n",
    "\n",
    "    return KeyedVectors.load_word2vec_format(wordvector_file, limit=cant)"
   ],
   "metadata": {
    "collapsed": false,
    "pycharm": {
     "name": "#%%\n",
     "is_executing": false
    }
   }
  },
  {
   "cell_type": "code",
   "execution_count": 3,
   "outputs": [
    {
     "name": "stdout",
     "text": [
      "Carga completa\n"
     ],
     "output_type": "stream"
    }
   ],
   "source": [
    "# Testing \n",
    "wordvectors_file_vec = embeddings_path + embeddings[1]\n",
    "#cantidad = 1000\n",
    "cantidad = None\n",
    "wordvectors = get_wordvector(embeddings[1], cantidad)\n",
    "\n",
    "print('Carga completa')\n"
   ],
   "metadata": {
    "collapsed": false,
    "pycharm": {
     "name": "#%%\n",
     "is_executing": false
    }
   }
  },
  {
   "cell_type": "code",
   "execution_count": 1,
   "outputs": [
    {
     "traceback": [
      "\u001b[1;31m---------------------------------------------------------------------------\u001b[0m",
      "\u001b[1;31mNameError\u001b[0m                                 Traceback (most recent call last)",
      "\u001b[1;32m<ipython-input-1-0b6ec7d8b90f>\u001b[0m in \u001b[0;36m<module>\u001b[1;34m\u001b[0m\n\u001b[0;32m     20\u001b[0m \u001b[1;33m\u001b[0m\u001b[0m\n\u001b[0;32m     21\u001b[0m \u001b[1;31m# Test de similaridad\u001b[0m\u001b[1;33m\u001b[0m\u001b[1;33m\u001b[0m\u001b[1;33m\u001b[0m\u001b[0m\n\u001b[1;32m---> 22\u001b[1;33m \u001b[0msimilarityTest\u001b[0m\u001b[1;33m(\u001b[0m\u001b[1;33m)\u001b[0m\u001b[1;33m\u001b[0m\u001b[1;33m\u001b[0m\u001b[0m\n\u001b[0m\u001b[0;32m     23\u001b[0m \u001b[1;33m\u001b[0m\u001b[0m\n\u001b[0;32m     24\u001b[0m \u001b[1;33m\u001b[0m\u001b[0m\n",
      "\u001b[1;32m<ipython-input-1-0b6ec7d8b90f>\u001b[0m in \u001b[0;36msimilarityTest\u001b[1;34m()\u001b[0m\n\u001b[0;32m      1\u001b[0m \u001b[1;32mdef\u001b[0m \u001b[0msimilarityTest\u001b[0m\u001b[1;33m(\u001b[0m\u001b[1;33m)\u001b[0m\u001b[1;33m:\u001b[0m\u001b[1;33m\u001b[0m\u001b[1;33m\u001b[0m\u001b[0m\n\u001b[0;32m      2\u001b[0m     \u001b[0mresults\u001b[0m \u001b[1;33m=\u001b[0m \u001b[1;33m{\u001b[0m\u001b[1;33m}\u001b[0m\u001b[1;33m\u001b[0m\u001b[1;33m\u001b[0m\u001b[0m\n\u001b[1;32m----> 3\u001b[1;33m     \u001b[1;32mfor\u001b[0m \u001b[0mname\u001b[0m \u001b[1;32min\u001b[0m \u001b[0membeddings\u001b[0m\u001b[1;33m:\u001b[0m\u001b[1;33m\u001b[0m\u001b[1;33m\u001b[0m\u001b[0m\n\u001b[0m\u001b[0;32m      4\u001b[0m         \u001b[0mresults\u001b[0m\u001b[1;33m[\u001b[0m\u001b[0mname\u001b[0m\u001b[1;33m]\u001b[0m \u001b[1;33m=\u001b[0m \u001b[1;33m{\u001b[0m\u001b[1;33m}\u001b[0m\u001b[1;33m\u001b[0m\u001b[1;33m\u001b[0m\u001b[0m\n\u001b[0;32m      5\u001b[0m         \u001b[0mprint\u001b[0m\u001b[1;33m(\u001b[0m\u001b[1;34m\"#################################################\"\u001b[0m\u001b[1;33m)\u001b[0m\u001b[1;33m\u001b[0m\u001b[1;33m\u001b[0m\u001b[0m\n",
      "\u001b[1;31mNameError\u001b[0m: name 'embeddings' is not defined"
     ],
     "ename": "NameError",
     "evalue": "name 'embeddings' is not defined",
     "output_type": "error"
    }
   ],
   "source": [
    "def similarityTest():\n",
    "    results = {}\n",
    "    for name in embeddings:\n",
    "        results[name] = {}\n",
    "        print(\"#################################################\")\n",
    "        print(\"=> Cargando \" + name)\n",
    "        wordvector = get_wordvector(name)\n",
    "    \n",
    "        print(\"=> Testing \" + name)\n",
    "        score = get_wordsim_scores(similarity_dataset, wordvector)\n",
    "        print(\"=> Embeddings \" + name + \" score:\" + str(score))\n",
    "    \n",
    "        results[name] = score\n",
    "    \n",
    "        del wordvector\n",
    "        \n",
    "    \n",
    "    with open(PATH + \"Data\\\\Similarity_results.txt\", 'w') as file:\n",
    "        file.write(json.dumps(results, sort_keys=True, indent=4))\n",
    "\n",
    "# Test de similaridad\n",
    "similarityTest()\n"
   ],
   "metadata": {
    "collapsed": false,
    "pycharm": {
     "name": "#%%\n",
     "is_executing": false
    }
   }
  },
  {
   "cell_type": "code",
   "execution_count": 6,
   "outputs": [
    {
     "name": "stdout",
     "text": [
      "#################################################\n=> Cargando _fasttext_sbwc.vec\n",
      "\n=> Testing _fasttext_sbwc.vec\n_español_D01 [prefijo_anti-].txt\n_español_D02 [prefijo_des-].txt\n_español_D03 [prefijo_in-].txt\n_español_D04 [sufijo_-able].txt\n_español_D05 [sufijo_-ción].txt\n_español_D06 [sufijo_-ísimo].txt\n_español_D07 [sufijo_-ita].txt\n_español_D08 [sufijo_-ito].txt\n_español_D09 [sufijo_-mente].txt\n_español_D10 [sufijo_-miento].txt\n_español_E01 [pais - capital].txt\n_español_E02 [pais - idioma].txt\n_español_E04 [nombre - nacionalidad].txt\n_español_E05 [nombre - ocupacion].txt\n_español_E10 [hombre - mujer].txt\n_español_E11 [pais - gentilicio].txt\n_español_I067 [gerund - parti].txt\n_español_I096 [inf - gerund].txt\n_español_I097 [inf - parti].txt\n_español_I162 [pret_perf__1_sing - futuro_simp__1_sing].txt\n_español_I254 [presente__1_sing - futuro_simp__1_sing].txt\n_español_I260 [presente__1_sing - pret_perf__1_sing].txt\n_español_I265 [presente__1_sing - presente__1_plur].txt\n_español_I269 [presente__1_sing - presente__3_sing].txt\n_español_I466 [sustantivo - plural(s)].txt\n_español_I467 [sustantivo - plural(es)].txt\n_español_L07 [sinonimos - intensidad].txt\n_español_L08 [sinonimos - exacto].txt\n_español_L09 [antonimos - grado].txt\n_español_L10 [antonimos - binario].txt\nTesting: _español_D01 [prefijo_anti-].txt\n",
      "Testing: _español_D02 [prefijo_des-].txt\n",
      "Testing: _español_D03 [prefijo_in-].txt\n",
      "Testing: _español_D04 [sufijo_-able].txt\n",
      "Testing: _español_D05 [sufijo_-ción].txt\n",
      "Testing: _español_D06 [sufijo_-ísimo].txt\n",
      "Testing: _español_D07 [sufijo_-ita].txt\n",
      "Testing: _español_D08 [sufijo_-ito].txt\n",
      "Testing: _español_D09 [sufijo_-mente].txt\n",
      "Testing: _español_D10 [sufijo_-miento].txt\n",
      "Testing: _español_E01 [pais - capital].txt\n",
      "Testing: _español_E02 [pais - idioma].txt\n",
      "Testing: _español_E04 [nombre - nacionalidad].txt\n",
      "Testing: _español_E05 [nombre - ocupacion].txt\n",
      "Testing: _español_E10 [hombre - mujer].txt\n",
      "Testing: _español_E11 [pais - gentilicio].txt\n",
      "Testing: _español_I067 [gerund - parti].txt\n",
      "Testing: _español_I096 [inf - gerund].txt\n",
      "Testing: _español_I097 [inf - parti].txt\n",
      "Testing: _español_I162 [pret_perf__1_sing - futuro_simp__1_sing].txt\n",
      "Testing: _español_I254 [presente__1_sing - futuro_simp__1_sing].txt\n",
      "Testing: _español_I260 [presente__1_sing - pret_perf__1_sing].txt\n",
      "Testing: _español_I265 [presente__1_sing - presente__1_plur].txt\n",
      "Testing: _español_I269 [presente__1_sing - presente__3_sing].txt\n",
      "Testing: _español_I466 [sustantivo - plural(s)].txt\n",
      "Testing: _español_I467 [sustantivo - plural(es)].txt\n",
      "Testing: _español_L07 [sinonimos - intensidad].txt\n",
      "Testing: _español_L08 [sinonimos - exacto].txt\n",
      "Testing: _español_L09 [antonimos - grado].txt\n",
      "Testing: _español_L10 [antonimos - binario].txt\n",
      "['_español_D01 [prefijo_anti-].txt', [['3CosAdd', '0.0020408163265306124'], ['3CosMul', '0.0024489795918367346'], ['PairDir', '0.0'], ['cos', '-0.9865224534516431'], ['euc', '0.004030362683899549'], ['ncos', '-1.0'], ['neuc', '0.0']]]\n['_español_D02 [prefijo_des-].txt', [['3CosAdd', '0.01673469387755102'], ['3CosMul', '0.0163265306122449'], ['PairDir', '0.0'], ['cos', '-0.8786913628715128'], ['euc', '0.035532062540248946'], ['ncos', '-1.0'], ['neuc', '0.0']]]\n['_español_D03 [prefijo_in-].txt', [['3CosAdd', '0.035510204081632656'], ['3CosMul', '0.037959183673469385'], ['PairDir', '0.0'], ['cos', '-0.8757721610855649'], ['euc', '0.036757763697176565'], ['ncos', '-1.0'], ['neuc', '0.0']]]\n['_español_D04 [sufijo_-able].txt', [['3CosAdd', '0.00040816326530612246'], ['3CosMul', '0.00040816326530612246'], ['PairDir', '0.0'], ['cos', '-0.9805036253607546'], ['euc', '0.005856487605036521'], ['ncos', '-1.0'], ['neuc', '0.0']]]\n['_español_D05 [sufijo_-ción].txt', [['3CosAdd', '0.10612244897959183'], ['3CosMul', '0.10612244897959183'], ['PairDir', '0.0'], ['cos', '-0.8068698846457564'], ['euc', '0.059602740054227867'], ['ncos', '-1.0'], ['neuc', '0.0']]]\n['_español_D06 [sufijo_-ísimo].txt', [['3CosAdd', '0.005306122448979592'], ['3CosMul', '0.005306122448979592'], ['PairDir', '0.0'], ['cos', '-0.9909588599984287'], ['euc', '0.002500400737840302'], ['ncos', '-1.0'], ['neuc', '0.0']]]\n['_español_D07 [sufijo_-ita].txt', [['3CosAdd', '0.0008163265306122449'], ['3CosMul', '0.0008163265306122449'], ['PairDir', '0.0'], ['cos', '-0.9973339189969155'], ['euc', '0.0007879821135073292'], ['ncos', '-1.0'], ['neuc', '0.0']]]\n['_español_D08 [sufijo_-ito].txt', [['3CosAdd', '0.0012244897959183673'], ['3CosMul', '0.0012244897959183673'], ['PairDir', '0.0'], ['cos', '-0.9914520296488641'], ['euc', '0.0024534822970020526'], ['ncos', '-1.0'], ['neuc', '0.0']]]\n['_español_D09 [sufijo_-mente].txt', [['3CosAdd', '0.05551020408163265'], ['3CosMul', '0.05918367346938776'], ['PairDir', '0.0'], ['cos', '-0.8056544775458775'], ['euc', '0.05757144767410901'], ['ncos', '-1.0'], ['neuc', '0.0']]]\n['_español_D10 [sufijo_-miento].txt', [['3CosAdd', '0.022857142857142857'], ['3CosMul', '0.026530612244897958'], ['PairDir', '0.0'], ['cos', '-0.8859599662202705'], ['euc', '0.03411559051396895'], ['ncos', '-1.0'], ['neuc', '0.0']]]\n['_español_E01 [pais - capital].txt', [['3CosAdd', '0.5391836734693878'], ['3CosMul', '0.5265306122448979'], ['PairDir', '0.0'], ['cos', '0.09769875315379123'], ['euc', '0.355541330235345'], ['ncos', '-1.0'], ['neuc', '0.0']]]\n['_español_E02 [pais - idioma].txt', [['3CosAdd', '0.28653061224489795'], ['3CosMul', '0.32448979591836735'], ['PairDir', '0.0'], ['cos', '0.34813050486603564'], ['euc', '0.4360064847372016'], ['ncos', '-1.0'], ['neuc', '0.0']]]\n['_español_E04 [nombre - nacionalidad].txt', [['3CosAdd', '0.2436734693877551'], ['3CosMul', '0.2869387755102041'], ['PairDir', '0.0'], ['cos', '0.03946831936401562'], ['euc', '0.3251797172974567'], ['ncos', '-1.0'], ['neuc', '0.0']]]\n['_español_E05 [nombre - ocupacion].txt', [['3CosAdd', '0.3510204081632653'], ['3CosMul', '0.36857142857142855'], ['PairDir', '0.0'], ['cos', '-0.002078373813431482'], ['euc', '0.3131798353000563'], ['ncos', '-1.0'], ['neuc', '0.0']]]\n['_español_E10 [hombre - mujer].txt', [['3CosAdd', '0.5355102040816326'], ['3CosMul', '0.5489795918367347'], ['PairDir', '0.0'], ['cos', '0.11149036507830214'], ['euc', '0.3378494865310435'], ['ncos', '-1.0'], ['neuc', '0.0']]]\n['_español_E11 [pais - gentilicio].txt', [['3CosAdd', '0.3330612244897959'], ['3CosMul', '0.336734693877551'], ['PairDir', '0.0'], ['cos', '-0.44684509217739105'], ['euc', '0.18143686243465967'], ['ncos', '-1.0'], ['neuc', '0.0']]]\n['_español_I067 [gerund - parti].txt', [['3CosAdd', '0.5759183673469388'], ['3CosMul', '0.6240816326530613'], ['PairDir', '0.0'], ['cos', '0.2352783888988957'], ['euc', '0.39820985648096824'], ['ncos', '-1.0'], ['neuc', '0.0']]]\n['_español_I096 [inf - gerund].txt', [['3CosAdd', '0.7775510204081633'], ['3CosMul', '0.7848979591836734'], ['PairDir', '0.0'], ['cos', '0.28050165583892744'], ['euc', '0.4214169855507053'], ['ncos', '-1.0'], ['neuc', '0.0']]]\n['_español_I097 [inf - parti].txt', [['3CosAdd', '0.4995918367346939'], ['3CosMul', '0.5746938775510204'], ['PairDir', '0.0'], ['cos', '0.2212321976257241'], ['euc', '0.38528758044145545'], ['ncos', '-1.0'], ['neuc', '0.0']]]\n['_español_I162 [pret_perf__1_sing - futuro_simp__1_sing].txt', [['3CosAdd', '0.009795918367346938'], ['3CosMul', '0.010612244897959184'], ['PairDir', '0.0'], ['cos', '-0.9817945546519999'], ['euc', '0.006004887284064779'], ['ncos', '-1.0'], ['neuc', '0.0']]]\n['_español_I254 [presente__1_sing - futuro_simp__1_sing].txt', [['3CosAdd', '0.0024489795918367346'], ['3CosMul', '0.0016326530612244899'], ['PairDir', '0.0'], ['cos', '-0.9906826955657833'], ['euc', '0.0026647906887287995'], ['ncos', '-1.0'], ['neuc', '0.0']]]\n['_español_I260 [presente__1_sing - pret_perf__1_sing].txt', [['3CosAdd', '0.01183673469387755'], ['3CosMul', '0.012653061224489797'], ['PairDir', '0.0'], ['cos', '-0.9651666594494362'], ['euc', '0.0104520126751491'], ['ncos', '-1.0'], ['neuc', '0.0']]]\n['_español_I265 [presente__1_sing - presente__1_plur].txt', [['3CosAdd', '0.12775510204081633'], ['3CosMul', '0.13224489795918368'], ['PairDir', '0.0'], ['cos', '-0.682368323912426'], ['euc', '0.09824726528050948'], ['ncos', '-1.0'], ['neuc', '0.0']]]\n['_español_I269 [presente__1_sing - presente__3_sing].txt', [['3CosAdd', '0.05959183673469388'], ['3CosMul', '0.061224489795918366'], ['PairDir', '0.0'], ['cos', '-0.7372776816849007'], ['euc', '0.07933536758228224'], ['ncos', '-1.0'], ['neuc', '0.0']]]\n['_español_I466 [sustantivo - plural(s)].txt', [['3CosAdd', '0.5436734693877551'], ['3CosMul', '0.5514285714285714'], ['PairDir', '0.0'], ['cos', '0.07900528486960624'], ['euc', '0.32385257122467975'], ['ncos', '-1.0'], ['neuc', '0.0']]]\n['_español_I467 [sustantivo - plural(es)].txt', [['3CosAdd', '0.45183673469387753'], ['3CosMul', '0.4583673469387755'], ['PairDir', '0.0'], ['cos', '0.02517851686592176'], ['euc', '0.3070277179990496'], ['ncos', '-1.0'], ['neuc', '0.0']]]\n['_español_L07 [sinonimos - intensidad].txt', [['3CosAdd', '0.18326530612244898'], ['3CosMul', '0.18448979591836734'], ['PairDir', '0.0'], ['cos', '-0.17086691715716557'], ['euc', '0.24526773564669552'], ['ncos', '-1.0'], ['neuc', '0.0']]]\n['_español_L08 [sinonimos - exacto].txt', [['3CosAdd', '0.2273469387755102'], ['3CosMul', '0.23918367346938776'], ['PairDir', '0.0'], ['cos', '-0.09005750050415298'], ['euc', '0.26967131371400793'], ['ncos', '-1.0'], ['neuc', '0.0']]]\n['_español_L09 [antonimos - grado].txt', [['3CosAdd', '0.11755102040816326'], ['3CosMul', '0.11387755102040817'], ['PairDir', '0.0'], ['cos', '-0.27678982169474287'], ['euc', '0.2121840944338818'], ['ncos', '-1.0'], ['neuc', '0.0']]]\n['_español_L10 [antonimos - binario].txt', [['3CosAdd', '0.24040816326530612'], ['3CosMul', '0.22979591836734695'], ['PairDir', '0.0'], ['cos', '-0.1179421827413156'], ['euc', '0.2516700630528586'], ['ncos', '-1.0'], ['neuc', '0.0']]]\n\n   End of test\n#################################################\n=> Cargando _fasttext_suc.vec\n",
      "\n=> Testing _fasttext_suc.vec\n_español_D01 [prefijo_anti-].txt\n_español_D02 [prefijo_des-].txt\n_español_D03 [prefijo_in-].txt\n_español_D04 [sufijo_-able].txt\n_español_D05 [sufijo_-ción].txt\n_español_D06 [sufijo_-ísimo].txt\n_español_D07 [sufijo_-ita].txt\n_español_D08 [sufijo_-ito].txt\n_español_D09 [sufijo_-mente].txt\n_español_D10 [sufijo_-miento].txt\n_español_E01 [pais - capital].txt\n_español_E02 [pais - idioma].txt\n_español_E04 [nombre - nacionalidad].txt\n_español_E05 [nombre - ocupacion].txt\n_español_E10 [hombre - mujer].txt\n_español_E11 [pais - gentilicio].txt\n_español_I067 [gerund - parti].txt\n_español_I096 [inf - gerund].txt\n_español_I097 [inf - parti].txt\n_español_I162 [pret_perf__1_sing - futuro_simp__1_sing].txt\n_español_I254 [presente__1_sing - futuro_simp__1_sing].txt\n_español_I260 [presente__1_sing - pret_perf__1_sing].txt\n_español_I265 [presente__1_sing - presente__1_plur].txt\n_español_I269 [presente__1_sing - presente__3_sing].txt\n_español_I466 [sustantivo - plural(s)].txt\n_español_I467 [sustantivo - plural(es)].txt\n_español_L07 [sinonimos - intensidad].txt\n_español_L08 [sinonimos - exacto].txt\n_español_L09 [antonimos - grado].txt\n_español_L10 [antonimos - binario].txt\nTesting: _español_D01 [prefijo_anti-].txt\n",
      "Testing: _español_D02 [prefijo_des-].txt\n",
      "Testing: _español_D03 [prefijo_in-].txt\n",
      "Testing: _español_D04 [sufijo_-able].txt\n",
      "Testing: _español_D05 [sufijo_-ción].txt\n",
      "Testing: _español_D06 [sufijo_-ísimo].txt\n",
      "Testing: _español_D07 [sufijo_-ita].txt\n",
      "Testing: _español_D08 [sufijo_-ito].txt\n",
      "Testing: _español_D09 [sufijo_-mente].txt\n",
      "Testing: _español_D10 [sufijo_-miento].txt\n",
      "Testing: _español_E01 [pais - capital].txt\n",
      "Testing: _español_E02 [pais - idioma].txt\n",
      "Testing: _español_E04 [nombre - nacionalidad].txt\n",
      "Testing: _español_E05 [nombre - ocupacion].txt\n",
      "Testing: _español_E10 [hombre - mujer].txt\n",
      "Testing: _español_E11 [pais - gentilicio].txt\n",
      "Testing: _español_I067 [gerund - parti].txt\n",
      "Testing: _español_I096 [inf - gerund].txt\n",
      "Testing: _español_I097 [inf - parti].txt\n",
      "Testing: _español_I162 [pret_perf__1_sing - futuro_simp__1_sing].txt\n",
      "Testing: _español_I254 [presente__1_sing - futuro_simp__1_sing].txt\n",
      "Testing: _español_I260 [presente__1_sing - pret_perf__1_sing].txt\n",
      "Testing: _español_I265 [presente__1_sing - presente__1_plur].txt\n",
      "Testing: _español_I269 [presente__1_sing - presente__3_sing].txt\n",
      "Testing: _español_I466 [sustantivo - plural(s)].txt\n",
      "Testing: _español_I467 [sustantivo - plural(es)].txt\n",
      "Testing: _español_L07 [sinonimos - intensidad].txt\n",
      "Testing: _español_L08 [sinonimos - exacto].txt\n",
      "Testing: _español_L09 [antonimos - grado].txt\n",
      "Testing: _español_L10 [antonimos - binario].txt\n",
      "['_español_D01 [prefijo_anti-].txt', [['3CosAdd', '0.003673469387755102'], ['3CosMul', '0.004081632653061225'], ['PairDir', '0.0'], ['cos', '-0.9865840730715391'], ['euc', '0.004010282779226498'], ['ncos', '-1.0'], ['neuc', '0.0']]]\n['_español_D02 [prefijo_des-].txt', [['3CosAdd', '0.015510204081632653'], ['3CosMul', '0.014285714285714285'], ['PairDir', '0.0'], ['cos', '-0.9076070187060277'], ['euc', '0.026810022130304454'], ['ncos', '-1.0'], ['neuc', '0.0']]]\n['_español_D03 [prefijo_in-].txt', [['3CosAdd', '0.02857142857142857'], ['3CosMul', '0.02816326530612245'], ['PairDir', '0.0'], ['cos', '-0.917148468317464'], ['euc', '0.024544647421155658'], ['ncos', '-1.0'], ['neuc', '0.0']]]\n['_español_D04 [sufijo_-able].txt', [['3CosAdd', '0.0'], ['3CosMul', '0.00040816326530612246'], ['PairDir', '0.0'], ['cos', '-0.9856895313670441'], ['euc', '0.004315590907116326'], ['ncos', '-1.0'], ['neuc', '0.0']]]\n['_español_D05 [sufijo_-ción].txt', [['3CosAdd', '0.0636734693877551'], ['3CosMul', '0.06285714285714286'], ['PairDir', '0.0'], ['cos', '-0.878769139365046'], ['euc', '0.037352217338523085'], ['ncos', '-1.0'], ['neuc', '0.0']]]\n['_español_D06 [sufijo_-ísimo].txt', [['3CosAdd', '0.005306122448979592'], ['3CosMul', '0.005714285714285714'], ['PairDir', '0.0'], ['cos', '-0.9807720770513905'], ['euc', '0.005550888606480189'], ['ncos', '-1.0'], ['neuc', '0.0']]]\n['_español_D07 [sufijo_-ita].txt', [['3CosAdd', '0.008979591836734694'], ['3CosMul', '0.011020408163265306'], ['PairDir', '0.0'], ['cos', '-0.9597875060479879'], ['euc', '0.01184479791290906'], ['ncos', '-1.0'], ['neuc', '0.0']]]\n['_español_D08 [sufijo_-ito].txt', [['3CosAdd', '0.037959183673469385'], ['3CosMul', '0.03510204081632653'], ['PairDir', '0.0'], ['cos', '-0.9035326475407738'], ['euc', '0.02837446762590992'], ['ncos', '-1.0'], ['neuc', '0.0']]]\n['_español_D09 [sufijo_-mente].txt', [['3CosAdd', '0.06'], ['3CosMul', '0.07102040816326531'], ['PairDir', '0.0'], ['cos', '-0.7825857408926347'], ['euc', '0.06480643106966602'], ['ncos', '-1.0'], ['neuc', '0.0']]]\n['_español_D10 [sufijo_-miento].txt', [['3CosAdd', '0.015510204081632653'], ['3CosMul', '0.013877551020408163'], ['PairDir', '0.0'], ['cos', '-0.9476040463803374'], ['euc', '0.01568397463584433'], ['ncos', '-1.0'], ['neuc', '0.0']]]\n['_español_E01 [pais - capital].txt', [['3CosAdd', '0.4820408163265306'], ['3CosMul', '0.4722448979591837'], ['PairDir', '0.0'], ['cos', '0.010550125265608029'], ['euc', '0.3294429867121638'], ['ncos', '-1.0'], ['neuc', '0.0']]]\n['_español_E02 [pais - idioma].txt', [['3CosAdd', '0.3457142857142857'], ['3CosMul', '0.3730612244897959'], ['PairDir', '0.0'], ['cos', '0.33017597111512204'], ['euc', '0.4360222283431462'], ['ncos', '-1.0'], ['neuc', '0.0']]]\n['_español_E04 [nombre - nacionalidad].txt', [['3CosAdd', '0.2542857142857143'], ['3CosMul', '0.2746938775510204'], ['PairDir', '0.0'], ['cos', '-0.02492640974418241'], ['euc', '0.30787733056107347'], ['ncos', '-1.0'], ['neuc', '0.0']]]\n['_español_E05 [nombre - ocupacion].txt', [['3CosAdd', '0.32326530612244897'], ['3CosMul', '0.3526530612244898'], ['PairDir', '0.0'], ['cos', '-0.03251216671543614'], ['euc', '0.30508556237026135'], ['ncos', '-1.0'], ['neuc', '0.0']]]\n['_español_E10 [hombre - mujer].txt', [['3CosAdd', '0.5963265306122449'], ['3CosMul', '0.5979591836734693'], ['PairDir', '0.0'], ['cos', '0.11194649007836623'], ['euc', '0.34087333251018914'], ['ncos', '-1.0'], ['neuc', '0.0']]]\n['_español_E11 [pais - gentilicio].txt', [['3CosAdd', '0.23469387755102042'], ['3CosMul', '0.23591836734693877'], ['PairDir', '0.0'], ['cos', '-0.6004321903020752'], ['euc', '0.13365395409720285'], ['ncos', '-1.0'], ['neuc', '0.0']]]\n['_español_I067 [gerund - parti].txt', [['3CosAdd', '0.6412244897959184'], ['3CosMul', '0.6824489795918367'], ['PairDir', '0.0'], ['cos', '0.2923396469622242'], ['euc', '0.4170912404449619'], ['ncos', '-1.0'], ['neuc', '0.0']]]\n['_español_I096 [inf - gerund].txt', [['3CosAdd', '0.856326530612245'], ['3CosMul', '0.8648979591836735'], ['PairDir', '0.0'], ['cos', '0.33719511014466386'], ['euc', '0.43961755587130175'], ['ncos', '-1.0'], ['neuc', '0.0']]]\n['_español_I097 [inf - parti].txt', [['3CosAdd', '0.64'], ['3CosMul', '0.7159183673469388'], ['PairDir', '0.0'], ['cos', '0.3517363267893694'], ['euc', '0.42951658993351216'], ['ncos', '-1.0'], ['neuc', '0.0']]]\n['_español_I162 [pret_perf__1_sing - futuro_simp__1_sing].txt', [['3CosAdd', '0.22653061224489796'], ['3CosMul', '0.22938775510204082'], ['PairDir', '0.0'], ['cos', '-0.6147301972885522'], ['euc', '0.12591830506616708'], ['ncos', '-1.0'], ['neuc', '0.0']]]\n['_español_I254 [presente__1_sing - futuro_simp__1_sing].txt', [['3CosAdd', '0.13714285714285715'], ['3CosMul', '0.14'], ['PairDir', '0.0'], ['cos', '-0.675265927386223'], ['euc', '0.09813922288466473'], ['ncos', '-1.0'], ['neuc', '0.0']]]\n['_español_I260 [presente__1_sing - pret_perf__1_sing].txt', [['3CosAdd', '0.09877551020408164'], ['3CosMul', '0.10244897959183673'], ['PairDir', '0.0'], ['cos', '-0.7822908913135073'], ['euc', '0.0670214128737547'], ['ncos', '-1.0'], ['neuc', '0.0']]]\n['_español_I265 [presente__1_sing - presente__1_plur].txt', [['3CosAdd', '0.2938775510204082'], ['3CosMul', '0.3016326530612245'], ['PairDir', '0.0'], ['cos', '-0.40431668306035656'], ['euc', '0.1852567020970948'], ['ncos', '-1.0'], ['neuc', '0.0']]]\n['_español_I269 [presente__1_sing - presente__3_sing].txt', [['3CosAdd', '0.14530612244897959'], ['3CosMul', '0.16040816326530613'], ['PairDir', '0.0'], ['cos', '-0.5204788930959315'], ['euc', '0.14618101633324915'], ['ncos', '-1.0'], ['neuc', '0.0']]]\n['_español_I466 [sustantivo - plural(s)].txt', [['3CosAdd', '0.5359183673469388'], ['3CosMul', '0.5542857142857143'], ['PairDir', '0.0'], ['cos', '0.09505374522089759'], ['euc', '0.3299595443813168'], ['ncos', '-1.0'], ['neuc', '0.0']]]\n['_español_I467 [sustantivo - plural(es)].txt', [['3CosAdd', '0.4685714285714286'], ['3CosMul', '0.49795918367346936'], ['PairDir', '0.0'], ['cos', '0.08563574518207152'], ['euc', '0.32682197213172914'], ['ncos', '-1.0'], ['neuc', '0.0']]]\n['_español_L07 [sinonimos - intensidad].txt', [['3CosAdd', '0.19224489795918367'], ['3CosMul', '0.1983673469387755'], ['PairDir', '0.0'], ['cos', '-0.08342096570408808'], ['euc', '0.27313257107929306'], ['ncos', '-1.0'], ['neuc', '0.0']]]\n['_español_L08 [sinonimos - exacto].txt', [['3CosAdd', '0.28816326530612246'], ['3CosMul', '0.3020408163265306'], ['PairDir', '0.0'], ['cos', '-0.03946440768195316'], ['euc', '0.2860957780906132'], ['ncos', '-1.0'], ['neuc', '0.0']]]\n['_español_L09 [antonimos - grado].txt', [['3CosAdd', '0.1089795918367347'], ['3CosMul', '0.10448979591836735'], ['PairDir', '0.0'], ['cos', '-0.16905314710149208'], ['euc', '0.24485362123469917'], ['ncos', '-1.0'], ['neuc', '0.0']]]\n['_español_L10 [antonimos - binario].txt', [['3CosAdd', '0.22938775510204082'], ['3CosMul', '0.21755102040816326'], ['PairDir', '0.0'], ['cos', '-0.11926350205495825'], ['euc', '0.2513243039530151'], ['ncos', '-1.0'], ['neuc', '0.0']]]\n\n   End of test\n#################################################\n=> Cargando _fasttext_wiki.vec\n",
      "\n=> Testing _fasttext_wiki.vec\n_español_D01 [prefijo_anti-].txt\n_español_D02 [prefijo_des-].txt\n_español_D03 [prefijo_in-].txt\n_español_D04 [sufijo_-able].txt\n_español_D05 [sufijo_-ción].txt\n_español_D06 [sufijo_-ísimo].txt\n_español_D07 [sufijo_-ita].txt\n_español_D08 [sufijo_-ito].txt\n_español_D09 [sufijo_-mente].txt\n_español_D10 [sufijo_-miento].txt\n_español_E01 [pais - capital].txt\n_español_E02 [pais - idioma].txt\n_español_E04 [nombre - nacionalidad].txt\n_español_E05 [nombre - ocupacion].txt\n_español_E10 [hombre - mujer].txt\n_español_E11 [pais - gentilicio].txt\n_español_I067 [gerund - parti].txt\n_español_I096 [inf - gerund].txt\n_español_I097 [inf - parti].txt\n_español_I162 [pret_perf__1_sing - futuro_simp__1_sing].txt\n_español_I254 [presente__1_sing - futuro_simp__1_sing].txt\n_español_I260 [presente__1_sing - pret_perf__1_sing].txt\n_español_I265 [presente__1_sing - presente__1_plur].txt\n_español_I269 [presente__1_sing - presente__3_sing].txt\n_español_I466 [sustantivo - plural(s)].txt\n_español_I467 [sustantivo - plural(es)].txt\n_español_L07 [sinonimos - intensidad].txt\n_español_L08 [sinonimos - exacto].txt\n_español_L09 [antonimos - grado].txt\n_español_L10 [antonimos - binario].txt\nTesting: _español_D01 [prefijo_anti-].txt\n",
      "Testing: _español_D02 [prefijo_des-].txt\n",
      "Testing: _español_D03 [prefijo_in-].txt\n",
      "Testing: _español_D04 [sufijo_-able].txt\n",
      "Testing: _español_D05 [sufijo_-ción].txt\n",
      "Testing: _español_D06 [sufijo_-ísimo].txt\n",
      "Testing: _español_D07 [sufijo_-ita].txt\n",
      "Testing: _español_D08 [sufijo_-ito].txt\n",
      "Testing: _español_D09 [sufijo_-mente].txt\n",
      "Testing: _español_D10 [sufijo_-miento].txt\n",
      "Testing: _español_E01 [pais - capital].txt\n",
      "Testing: _español_E02 [pais - idioma].txt\n",
      "Testing: _español_E04 [nombre - nacionalidad].txt\n",
      "Testing: _español_E05 [nombre - ocupacion].txt\n",
      "Testing: _español_E10 [hombre - mujer].txt\n",
      "Testing: _español_E11 [pais - gentilicio].txt\n",
      "Testing: _español_I067 [gerund - parti].txt\n",
      "Testing: _español_I096 [inf - gerund].txt\n",
      "Testing: _español_I097 [inf - parti].txt\n",
      "Testing: _español_I162 [pret_perf__1_sing - futuro_simp__1_sing].txt\n",
      "Testing: _español_I254 [presente__1_sing - futuro_simp__1_sing].txt\n",
      "Testing: _español_I260 [presente__1_sing - pret_perf__1_sing].txt\n",
      "Testing: _español_I265 [presente__1_sing - presente__1_plur].txt\n",
      "Testing: _español_I269 [presente__1_sing - presente__3_sing].txt\n",
      "Testing: _español_I466 [sustantivo - plural(s)].txt\n",
      "Testing: _español_I467 [sustantivo - plural(es)].txt\n",
      "Testing: _español_L07 [sinonimos - intensidad].txt\n",
      "Testing: _español_L08 [sinonimos - exacto].txt\n",
      "Testing: _español_L09 [antonimos - grado].txt\n",
      "Testing: _español_L10 [antonimos - binario].txt\n",
      "['_español_D01 [prefijo_anti-].txt', [['3CosAdd', '0.0016326530612244899'], ['3CosMul', '0.0020408163265306124'], ['PairDir', '0.0'], ['cos', '-0.9971081942441512'], ['euc', '0.0008634336140691018'], ['ncos', '-1.0'], ['neuc', '0.0']]]\n['_español_D02 [prefijo_des-].txt', [['3CosAdd', '0.00816326530612245'], ['3CosMul', '0.007755102040816327'], ['PairDir', '0.0'], ['cos', '-0.9754013539603626'], ['euc', '0.007070333227819326'], ['ncos', '-1.0'], ['neuc', '0.0']]]\n['_español_D03 [prefijo_in-].txt', [['3CosAdd', '0.005714285714285714'], ['3CosMul', '0.0069387755102040816'], ['PairDir', '0.0'], ['cos', '-0.9759894834390405'], ['euc', '0.007021093125246009'], ['ncos', '-1.0'], ['neuc', '0.0']]]\n['_español_D04 [sufijo_-able].txt', [['3CosAdd', '0.0'], ['3CosMul', '0.00040816326530612246'], ['PairDir', '0.0'], ['cos', '-0.9855919933075807'], ['euc', '0.004326715177419234'], ['ncos', '-1.0'], ['neuc', '0.0']]]\n['_español_D05 [sufijo_-ción].txt', [['3CosAdd', '0.05183673469387755'], ['3CosMul', '0.053469387755102044'], ['PairDir', '0.0'], ['cos', '-0.9028606307746044'], ['euc', '0.030217209129917377'], ['ncos', '-1.0'], ['neuc', '0.0']]]\n['_español_D06 [sufijo_-ísimo].txt', [['3CosAdd', '0.0020408163265306124'], ['3CosMul', '0.0024489795918367346'], ['PairDir', '0.0'], ['cos', '-0.9943907551741114'], ['euc', '0.0015501787711162957'], ['ncos', '-1.0'], ['neuc', '0.0']]]\n['_español_D07 [sufijo_-ita].txt', [['3CosAdd', '0.00040816326530612246'], ['3CosMul', '0.00040816326530612246'], ['PairDir', '0.0'], ['cos', '-0.9990246187302531'], ['euc', '0.00029711178370884486'], ['ncos', '-1.0'], ['neuc', '0.0']]]\n['_español_D08 [sufijo_-ito].txt', [['3CosAdd', '0.00040816326530612246'], ['3CosMul', '0.00040816326530612246'], ['PairDir', '0.0'], ['cos', '-0.9871440295316279'], ['euc', '0.0037211834167947574'], ['ncos', '-1.0'], ['neuc', '0.0']]]\n['_español_D09 [sufijo_-mente].txt', [['3CosAdd', '0.05795918367346939'], ['3CosMul', '0.06693877551020408'], ['PairDir', '0.0'], ['cos', '-0.8210469095346551'], ['euc', '0.053102803814167876'], ['ncos', '-1.0'], ['neuc', '0.0']]]\n['_español_D10 [sufijo_-miento].txt', [['3CosAdd', '0.003673469387755102'], ['3CosMul', '0.004897959183673469'], ['PairDir', '0.0'], ['cos', '-0.9851082191236165'], ['euc', '0.004544184061945701'], ['ncos', '-1.0'], ['neuc', '0.0']]]\n['_español_E01 [pais - capital].txt', [['3CosAdd', '0.546530612244898'], ['3CosMul', '0.5461224489795918'], ['PairDir', '0.0'], ['cos', '0.20924510700666174'], ['euc', '0.38715559236857355'], ['ncos', '-1.0'], ['neuc', '0.0']]]\n['_español_E02 [pais - idioma].txt', [['3CosAdd', '0.3089795918367347'], ['3CosMul', '0.3546938775510204'], ['PairDir', '0.0'], ['cos', '0.33467668202458595'], ['euc', '0.42848858208072427'], ['ncos', '-1.0'], ['neuc', '0.0']]]\n['_español_E04 [nombre - nacionalidad].txt', [['3CosAdd', '0.2416326530612245'], ['3CosMul', '0.27714285714285714'], ['PairDir', '0.0'], ['cos', '0.12988637741370013'], ['euc', '0.3528886492884889'], ['ncos', '-1.0'], ['neuc', '0.0']]]\n['_español_E05 [nombre - ocupacion].txt', [['3CosAdd', '0.3346938775510204'], ['3CosMul', '0.36081632653061224'], ['PairDir', '0.0'], ['cos', '0.11271443007247789'], ['euc', '0.35103306193741'], ['ncos', '-1.0'], ['neuc', '0.0']]]\n['_español_E10 [hombre - mujer].txt', [['3CosAdd', '0.5938775510204082'], ['3CosMul', '0.6216326530612245'], ['PairDir', '0.0'], ['cos', '0.12997994774448857'], ['euc', '0.34683868904503024'], ['ncos', '-1.0'], ['neuc', '0.0']]]\n['_español_E11 [pais - gentilicio].txt', [['3CosAdd', '0.27755102040816326'], ['3CosMul', '0.2820408163265306'], ['PairDir', '0.0'], ['cos', '-0.5514283861311114'], ['euc', '0.14747753498505572'], ['ncos', '-1.0'], ['neuc', '0.0']]]\n['_español_I067 [gerund - parti].txt', [['3CosAdd', '0.4685714285714286'], ['3CosMul', '0.5244897959183673'], ['PairDir', '0.0'], ['cos', '0.05446090791526498'], ['euc', '0.33367737529229147'], ['ncos', '-1.0'], ['neuc', '0.0']]]\n['_español_I096 [inf - gerund].txt', [['3CosAdd', '0.726530612244898'], ['3CosMul', '0.7285714285714285'], ['PairDir', '0.0'], ['cos', '0.13191965373803158'], ['euc', '0.3718754375467495'], ['ncos', '-1.0'], ['neuc', '0.0']]]\n['_español_I097 [inf - parti].txt', [['3CosAdd', '0.48775510204081635'], ['3CosMul', '0.5648979591836735'], ['PairDir', '0.0'], ['cos', '0.196268668822488'], ['euc', '0.3785127480662599'], ['ncos', '-1.0'], ['neuc', '0.0']]]\n['_español_I162 [pret_perf__1_sing - futuro_simp__1_sing].txt', [['3CosAdd', '0.0008163265306122449'], ['3CosMul', '0.0012244897959183673'], ['PairDir', '0.0'], ['cos', '-0.9967512620103602'], ['euc', '0.001029474686603157'], ['ncos', '-1.0'], ['neuc', '0.0']]]\n['_español_I254 [presente__1_sing - futuro_simp__1_sing].txt', [['3CosAdd', '0.0'], ['3CosMul', '0.0'], ['PairDir', '0.0'], ['cos', '-1.0'], ['euc', '0.0'], ['ncos', '-1.0'], ['neuc', '0.0']]]\n['_español_I260 [presente__1_sing - pret_perf__1_sing].txt', [['3CosAdd', '0.006122448979591836'], ['3CosMul', '0.005714285714285714'], ['PairDir', '0.0'], ['cos', '-0.975423808192112'], ['euc', '0.00688756665404962'], ['ncos', '-1.0'], ['neuc', '0.0']]]\n['_español_I265 [presente__1_sing - presente__1_plur].txt', [['3CosAdd', '0.0069387755102040816'], ['3CosMul', '0.00816326530612245'], ['PairDir', '0.0'], ['cos', '-0.9705631506747129'], ['euc', '0.009109983541527573'], ['ncos', '-1.0'], ['neuc', '0.0']]]\n['_español_I269 [presente__1_sing - presente__3_sing].txt', [['3CosAdd', '0.03428571428571429'], ['3CosMul', '0.036326530612244896'], ['PairDir', '0.0'], ['cos', '-0.8203972294118863'], ['euc', '0.054118558800950345'], ['ncos', '-1.0'], ['neuc', '0.0']]]\n['_español_I466 [sustantivo - plural(s)].txt', [['3CosAdd', '0.5751020408163265'], ['3CosMul', '0.5820408163265306'], ['PairDir', '0.0'], ['cos', '0.04242903655921156'], ['euc', '0.3110957913009488'], ['ncos', '-1.0'], ['neuc', '0.0']]]\n['_español_I467 [sustantivo - plural(es)].txt', [['3CosAdd', '0.5804081632653061'], ['3CosMul', '0.5453061224489796'], ['PairDir', '0.0'], ['cos', '0.03974042311265683'], ['euc', '0.31078592935386967'], ['ncos', '-1.0'], ['neuc', '0.0']]]\n['_español_L07 [sinonimos - intensidad].txt', [['3CosAdd', '0.060408163265306125'], ['3CosMul', '0.06653061224489797'], ['PairDir', '0.0'], ['cos', '-0.3518827681303068'], ['euc', '0.19240096527702955'], ['ncos', '-1.0'], ['neuc', '0.0']]]\n['_español_L08 [sinonimos - exacto].txt', [['3CosAdd', '0.17224489795918368'], ['3CosMul', '0.18897959183673468'], ['PairDir', '0.0'], ['cos', '-0.011907402655176286'], ['euc', '0.2928951924431081'], ['ncos', '-1.0'], ['neuc', '0.0']]]\n['_español_L09 [antonimos - grado].txt', [['3CosAdd', '0.1110204081632653'], ['3CosMul', '0.10612244897959183'], ['PairDir', '0.0'], ['cos', '-0.28496590528203586'], ['euc', '0.2084930969257744'], ['ncos', '-1.0'], ['neuc', '0.0']]]\n['_español_L10 [antonimos - binario].txt', [['3CosAdd', '0.23714285714285716'], ['3CosMul', '0.22040816326530613'], ['PairDir', '0.0'], ['cos', '-0.15430726779900414'], ['euc', '0.24012308947894037'], ['ncos', '-1.0'], ['neuc', '0.0']]]\n\n   End of test\n#################################################\n=> Cargando _glove_sbwc.vec\n",
      "\n=> Testing _glove_sbwc.vec\n_español_D01 [prefijo_anti-].txt\n_español_D02 [prefijo_des-].txt\n_español_D03 [prefijo_in-].txt\n_español_D04 [sufijo_-able].txt\n_español_D05 [sufijo_-ción].txt\n_español_D06 [sufijo_-ísimo].txt\n_español_D07 [sufijo_-ita].txt\n_español_D08 [sufijo_-ito].txt\n_español_D09 [sufijo_-mente].txt\n_español_D10 [sufijo_-miento].txt\n_español_E01 [pais - capital].txt\n_español_E02 [pais - idioma].txt\n_español_E04 [nombre - nacionalidad].txt\n_español_E05 [nombre - ocupacion].txt\n_español_E10 [hombre - mujer].txt\n_español_E11 [pais - gentilicio].txt\n_español_I067 [gerund - parti].txt\n_español_I096 [inf - gerund].txt\n_español_I097 [inf - parti].txt\n_español_I162 [pret_perf__1_sing - futuro_simp__1_sing].txt\n_español_I254 [presente__1_sing - futuro_simp__1_sing].txt\n_español_I260 [presente__1_sing - pret_perf__1_sing].txt\n_español_I265 [presente__1_sing - presente__1_plur].txt\n_español_I269 [presente__1_sing - presente__3_sing].txt\n_español_I466 [sustantivo - plural(s)].txt\n_español_I467 [sustantivo - plural(es)].txt\n_español_L07 [sinonimos - intensidad].txt\n_español_L08 [sinonimos - exacto].txt\n_español_L09 [antonimos - grado].txt\n_español_L10 [antonimos - binario].txt\nTesting: _español_D01 [prefijo_anti-].txt\n",
      "Testing: _español_D02 [prefijo_des-].txt\n",
      "Testing: _español_D03 [prefijo_in-].txt\n",
      "Testing: _español_D04 [sufijo_-able].txt\n",
      "Testing: _español_D05 [sufijo_-ción].txt\n",
      "Testing: _español_D06 [sufijo_-ísimo].txt\n",
      "Testing: _español_D07 [sufijo_-ita].txt\n",
      "Testing: _español_D08 [sufijo_-ito].txt\n",
      "Testing: _español_D09 [sufijo_-mente].txt\n",
      "Testing: _español_D10 [sufijo_-miento].txt\n",
      "Testing: _español_E01 [pais - capital].txt\n",
      "Testing: _español_E02 [pais - idioma].txt\n",
      "Testing: _español_E04 [nombre - nacionalidad].txt\n",
      "Testing: _español_E05 [nombre - ocupacion].txt\n",
      "Testing: _español_E10 [hombre - mujer].txt\n",
      "Testing: _español_E11 [pais - gentilicio].txt\n",
      "Testing: _español_I067 [gerund - parti].txt\n",
      "Testing: _español_I096 [inf - gerund].txt\n",
      "Testing: _español_I097 [inf - parti].txt\n",
      "Testing: _español_I162 [pret_perf__1_sing - futuro_simp__1_sing].txt\n",
      "Testing: _español_I254 [presente__1_sing - futuro_simp__1_sing].txt\n",
      "Testing: _español_I260 [presente__1_sing - pret_perf__1_sing].txt\n",
      "Testing: _español_I265 [presente__1_sing - presente__1_plur].txt\n",
      "Testing: _español_I269 [presente__1_sing - presente__3_sing].txt\n",
      "Testing: _español_I466 [sustantivo - plural(s)].txt\n",
      "Testing: _español_I467 [sustantivo - plural(es)].txt\n",
      "Testing: _español_L07 [sinonimos - intensidad].txt\n",
      "Testing: _español_L08 [sinonimos - exacto].txt\n",
      "Testing: _español_L09 [antonimos - grado].txt\n",
      "Testing: _español_L10 [antonimos - binario].txt\n",
      "['_español_D01 [prefijo_anti-].txt', [['3CosAdd', '0.0012244897959183673'], ['3CosMul', '0.0016326530612244899'], ['PairDir', '0.0'], ['cos', '-0.985870815800712'], ['euc', '0.004277761420425103'], ['ncos', '-1.0'], ['neuc', '0.0']]]\n['_español_D02 [prefijo_des-].txt', [['3CosAdd', '0.008571428571428572'], ['3CosMul', '0.006530612244897959'], ['PairDir', '0.0'], ['cos', '-0.8763666591866355'], ['euc', '0.03661916917684127'], ['ncos', '-1.0'], ['neuc', '0.0']]]\n['_español_D03 [prefijo_in-].txt', [['3CosAdd', '0.020816326530612245'], ['3CosMul', '0.02040816326530612'], ['PairDir', '0.0'], ['cos', '-0.8741574669500091'], ['euc', '0.03751211154217623'], ['ncos', '-1.0'], ['neuc', '0.0']]]\n['_español_D04 [sufijo_-able].txt', [['3CosAdd', '0.0'], ['3CosMul', '0.0'], ['PairDir', '0.0'], ['cos', '-0.9811386434171273'], ['euc', '0.005634613572334757'], ['ncos', '-1.0'], ['neuc', '0.0']]]\n['_español_D05 [sufijo_-ción].txt', [['3CosAdd', '0.07510204081632653'], ['3CosMul', '0.0763265306122449'], ['PairDir', '0.0'], ['cos', '-0.8226199006396631'], ['euc', '0.05336064747401646'], ['ncos', '-1.0'], ['neuc', '0.0']]]\n['_español_D06 [sufijo_-ísimo].txt', [['3CosAdd', '0.0032653061224489797'], ['3CosMul', '0.0032653061224489797'], ['PairDir', '0.0'], ['cos', '-0.9895616068037189'], ['euc', '0.0030952518326895577'], ['ncos', '-1.0'], ['neuc', '0.0']]]\n['_español_D07 [sufijo_-ita].txt', [['3CosAdd', '0.0'], ['3CosMul', '0.0'], ['PairDir', '0.0'], ['cos', '-0.9970097163380409'], ['euc', '0.0009051424143265705'], ['ncos', '-1.0'], ['neuc', '0.0']]]\n['_español_D08 [sufijo_-ito].txt', [['3CosAdd', '0.0'], ['3CosMul', '0.00040816326530612246'], ['PairDir', '0.0'], ['cos', '-0.990841595129471'], ['euc', '0.002737224053363411'], ['ncos', '-1.0'], ['neuc', '0.0']]]\n['_español_D09 [sufijo_-mente].txt', [['3CosAdd', '0.017959183673469388'], ['3CosMul', '0.017142857142857144'], ['PairDir', '0.0'], ['cos', '-0.8078587691211712'], ['euc', '0.057404674315939146'], ['ncos', '-1.0'], ['neuc', '0.0']]]\n['_español_D10 [sufijo_-miento].txt', [['3CosAdd', '0.008979591836734694'], ['3CosMul', '0.007755102040816327'], ['PairDir', '0.0'], ['cos', '-0.8939129441497581'], ['euc', '0.03127221088020169'], ['ncos', '-1.0'], ['neuc', '0.0']]]\n['_español_E01 [pais - capital].txt', [['3CosAdd', '0.5555102040816327'], ['3CosMul', '0.5314285714285715'], ['PairDir', '0.0'], ['cos', '0.11962132017831413'], ['euc', '0.36692860634959473'], ['ncos', '-1.0'], ['neuc', '0.0']]]\n['_español_E02 [pais - idioma].txt', [['3CosAdd', '0.2946938775510204'], ['3CosMul', '0.3404081632653061'], ['PairDir', '0.0'], ['cos', '0.36376401742654185'], ['euc', '0.44574488855138117'], ['ncos', '-1.0'], ['neuc', '0.0']]]\n['_español_E04 [nombre - nacionalidad].txt', [['3CosAdd', '0.23918367346938776'], ['3CosMul', '0.2342857142857143'], ['PairDir', '0.0'], ['cos', '0.08107159645733784'], ['euc', '0.34283523257897824'], ['ncos', '-1.0'], ['neuc', '0.0']]]\n['_español_E05 [nombre - ocupacion].txt', [['3CosAdd', '0.3379591836734694'], ['3CosMul', '0.34938775510204084'], ['PairDir', '0.0'], ['cos', '0.011460082732064992'], ['euc', '0.3196291024344308'], ['ncos', '-1.0'], ['neuc', '0.0']]]\n['_español_E10 [hombre - mujer].txt', [['3CosAdd', '0.4448979591836735'], ['3CosMul', '0.4669387755102041'], ['PairDir', '0.0'], ['cos', '0.11097008906556674'], ['euc', '0.3407131586269457'], ['ncos', '-1.0'], ['neuc', '0.0']]]\n['_español_E11 [pais - gentilicio].txt', [['3CosAdd', '0.2730612244897959'], ['3CosMul', '0.2922448979591837'], ['PairDir', '0.0'], ['cos', '-0.4469273765841309'], ['euc', '0.18131731549087834'], ['ncos', '-1.0'], ['neuc', '0.0']]]\n['_español_I067 [gerund - parti].txt', [['3CosAdd', '0.4146938775510204'], ['3CosMul', '0.4763265306122449'], ['PairDir', '0.0'], ['cos', '0.15852455799268292'], ['euc', '0.36369386069628656'], ['ncos', '-1.0'], ['neuc', '0.0']]]\n['_español_I096 [inf - gerund].txt', [['3CosAdd', '0.6208163265306123'], ['3CosMul', '0.6530612244897959'], ['PairDir', '0.0'], ['cos', '0.22658757425920695'], ['euc', '0.39590764814493606'], ['ncos', '-1.0'], ['neuc', '0.0']]]\n['_español_I097 [inf - parti].txt', [['3CosAdd', '0.356734693877551'], ['3CosMul', '0.4016326530612245'], ['PairDir', '0.0'], ['cos', '0.16327696053969332'], ['euc', '0.3593227246829442'], ['ncos', '-1.0'], ['neuc', '0.0']]]\n['_español_I162 [pret_perf__1_sing - futuro_simp__1_sing].txt', [['3CosAdd', '0.007346938775510204'], ['3CosMul', '0.007755102040816327'], ['PairDir', '0.0'], ['cos', '-0.983631466396001'], ['euc', '0.005191181630504375'], ['ncos', '-1.0'], ['neuc', '0.0']]]\n['_español_I254 [presente__1_sing - futuro_simp__1_sing].txt', [['3CosAdd', '0.0008163265306122449'], ['3CosMul', '0.00040816326530612246'], ['PairDir', '0.0'], ['cos', '-0.990653869968896'], ['euc', '0.002639986009013896'], ['ncos', '-1.0'], ['neuc', '0.0']]]\n['_español_I260 [presente__1_sing - pret_perf__1_sing].txt', [['3CosAdd', '0.007755102040816327'], ['3CosMul', '0.00816326530612245'], ['PairDir', '0.0'], ['cos', '-0.9656232267831053'], ['euc', '0.010293131701800289'], ['ncos', '-1.0'], ['neuc', '0.0']]]\n['_español_I265 [presente__1_sing - presente__1_plur].txt', [['3CosAdd', '0.10816326530612246'], ['3CosMul', '0.1073469387755102'], ['PairDir', '0.0'], ['cos', '-0.7012121469938976'], ['euc', '0.09056046984633621'], ['ncos', '-1.0'], ['neuc', '0.0']]]\n['_español_I269 [presente__1_sing - presente__3_sing].txt', [['3CosAdd', '0.035510204081632656'], ['3CosMul', '0.03918367346938775'], ['PairDir', '0.0'], ['cos', '-0.7434678348016982'], ['euc', '0.07737354658087905'], ['ncos', '-1.0'], ['neuc', '0.0']]]\n['_español_I466 [sustantivo - plural(s)].txt', [['3CosAdd', '0.4595918367346939'], ['3CosMul', '0.44571428571428573'], ['PairDir', '0.0'], ['cos', '0.06259581732024362'], ['euc', '0.3164959281561326'], ['ncos', '-1.0'], ['neuc', '0.0']]]\n['_español_I467 [sustantivo - plural(es)].txt', [['3CosAdd', '0.40244897959183673'], ['3CosMul', '0.3942857142857143'], ['PairDir', '0.0'], ['cos', '0.013318667043976329'], ['euc', '0.30241420886954484'], ['ncos', '-1.0'], ['neuc', '0.0']]]\n['_español_L07 [sinonimos - intensidad].txt', [['3CosAdd', '0.1893877551020408'], ['3CosMul', '0.16448979591836735'], ['PairDir', '0.0'], ['cos', '-0.16090578234291217'], ['euc', '0.2499754754134587'], ['ncos', '-1.0'], ['neuc', '0.0']]]\n['_español_L08 [sinonimos - exacto].txt', [['3CosAdd', '0.2926530612244898'], ['3CosMul', '0.26816326530612244'], ['PairDir', '0.0'], ['cos', '-0.06646795934054298'], ['euc', '0.27971253991127015'], ['ncos', '-1.0'], ['neuc', '0.0']]]\n['_español_L09 [antonimos - grado].txt', [['3CosAdd', '0.12653061224489795'], ['3CosMul', '0.10653061224489796'], ['PairDir', '0.0'], ['cos', '-0.2676115327764763'], ['euc', '0.2172485086625936'], ['ncos', '-1.0'], ['neuc', '0.0']]]\n['_español_L10 [antonimos - binario].txt', [['3CosAdd', '0.2310204081632653'], ['3CosMul', '0.19959183673469388'], ['PairDir', '0.0'], ['cos', '-0.10759409674117817'], ['euc', '0.2562256079303975'], ['ncos', '-1.0'], ['neuc', '0.0']]]\n\n   End of test\n#################################################\n=> Cargando _w2v_sbwc.txt\n",
      "\n=> Testing _w2v_sbwc.txt\n_español_D01 [prefijo_anti-].txt\n_español_D02 [prefijo_des-].txt\n_español_D03 [prefijo_in-].txt\n_español_D04 [sufijo_-able].txt\n_español_D05 [sufijo_-ción].txt\n_español_D06 [sufijo_-ísimo].txt\n_español_D07 [sufijo_-ita].txt\n_español_D08 [sufijo_-ito].txt\n_español_D09 [sufijo_-mente].txt\n_español_D10 [sufijo_-miento].txt\n_español_E01 [pais - capital].txt\n_español_E02 [pais - idioma].txt\n_español_E04 [nombre - nacionalidad].txt\n_español_E05 [nombre - ocupacion].txt\n_español_E10 [hombre - mujer].txt\n_español_E11 [pais - gentilicio].txt\n_español_I067 [gerund - parti].txt\n_español_I096 [inf - gerund].txt\n_español_I097 [inf - parti].txt\n_español_I162 [pret_perf__1_sing - futuro_simp__1_sing].txt\n_español_I254 [presente__1_sing - futuro_simp__1_sing].txt\n_español_I260 [presente__1_sing - pret_perf__1_sing].txt\n_español_I265 [presente__1_sing - presente__1_plur].txt\n_español_I269 [presente__1_sing - presente__3_sing].txt\n_español_I466 [sustantivo - plural(s)].txt\n_español_I467 [sustantivo - plural(es)].txt\n_español_L07 [sinonimos - intensidad].txt\n_español_L08 [sinonimos - exacto].txt\n_español_L09 [antonimos - grado].txt\n_español_L10 [antonimos - binario].txt\nTesting: _español_D01 [prefijo_anti-].txt\n",
      "Testing: _español_D02 [prefijo_des-].txt\n",
      "Testing: _español_D03 [prefijo_in-].txt\n",
      "Testing: _español_D04 [sufijo_-able].txt\n",
      "Testing: _español_D05 [sufijo_-ción].txt\n",
      "Testing: _español_D06 [sufijo_-ísimo].txt\n",
      "Testing: _español_D07 [sufijo_-ita].txt\n",
      "Testing: _español_D08 [sufijo_-ito].txt\n",
      "Testing: _español_D09 [sufijo_-mente].txt\n",
      "Testing: _español_D10 [sufijo_-miento].txt\n",
      "Testing: _español_E01 [pais - capital].txt\nTesting: _español_E02 [pais - idioma].txt\n",
      "Testing: _español_E04 [nombre - nacionalidad].txt\n",
      "Testing: _español_E05 [nombre - ocupacion].txt\nTesting: ",
      "_español_E10 [hombre - mujer].txt\n",
      "Testing: _español_E11 [pais - gentilicio].txt\n",
      "Testing: _español_I067 [gerund - parti].txt\n",
      "Testing: _español_I096 [inf - gerund].txt\n",
      "Testing: _español_I097 [inf - parti].txt\n",
      "Testing: _español_I162 [pret_perf__1_sing - futuro_simp__1_sing].txt\n",
      "Testing: _español_I254 [presente__1_sing - futuro_simp__1_sing].txt\n",
      "Testing: _español_I260 [presente__1_sing - pret_perf__1_sing].txt\n",
      "Testing: _español_I265 [presente__1_sing - presente__1_plur].txt\n",
      "Testing: _español_I269 [presente__1_sing - presente__3_sing].txt\n",
      "Testing: _español_I466 [sustantivo - plural(s)].txt\n",
      "Testing: _español_I467 [sustantivo - plural(es)].txt\n",
      "Testing: _español_L07 [sinonimos - intensidad].txt\n",
      "Testing: _español_L08 [sinonimos - exacto].txt\n",
      "Testing: _español_L09 [antonimos - grado].txt\n",
      "Testing: _español_L10 [antonimos - binario].txt\n",
      "['_español_D01 [prefijo_anti-].txt', [['3CosAdd', '0.0016326530612244899'], ['3CosMul', '0.0016326530612244899'], ['PairDir', '0.0'], ['cos', '-0.9864869628306858'], ['euc', '0.00405366800269302'], ['ncos', '-1.0'], ['neuc', '0.0']]]\n['_español_D02 [prefijo_des-].txt', [['3CosAdd', '0.007755102040816327'], ['3CosMul', '0.00816326530612245'], ['PairDir', '0.0'], ['cos', '-0.9319065677583436'], ['euc', '0.01994218938204707'], ['ncos', '-1.0'], ['neuc', '0.0']]]\n['_español_D03 [prefijo_in-].txt', [['3CosAdd', '0.015918367346938776'], ['3CosMul', '0.01673469387755102'], ['PairDir', '0.0'], ['cos', '-0.919554460376943'], ['euc', '0.023661118672818553'], ['ncos', '-1.0'], ['neuc', '0.0']]]\n['_español_D04 [sufijo_-able].txt', [['3CosAdd', '0.0'], ['3CosMul', '0.0'], ['PairDir', '0.0'], ['cos', '-0.9810312086746705'], ['euc', '0.005681213116159245'], ['ncos', '-1.0'], ['neuc', '0.0']]]\n['_español_D05 [sufijo_-ción].txt', [['3CosAdd', '0.07959183673469387'], ['3CosMul', '0.08244897959183674'], ['PairDir', '0.0'], ['cos', '-0.8378169401273208'], ['euc', '0.04879399752130314'], ['ncos', '-1.0'], ['neuc', '0.0']]]\n['_español_D06 [sufijo_-ísimo].txt', [['3CosAdd', '0.0008163265306122449'], ['3CosMul', '0.0008163265306122449'], ['PairDir', '0.0'], ['cos', '-0.9988818363024264'], ['euc', '0.00033889931075426995'], ['ncos', '-1.0'], ['neuc', '0.0']]]\n['_español_D07 [sufijo_-ita].txt', [['3CosAdd', '0.0'], ['3CosMul', '0.0'], ['PairDir', '0.0'], ['cos', '-1.0'], ['euc', '0.0'], ['ncos', '-1.0'], ['neuc', '0.0']]]\n['_español_D08 [sufijo_-ito].txt', [['3CosAdd', '0.0'], ['3CosMul', '0.0'], ['PairDir', '0.0'], ['cos', '-0.9974665401906383'], ['euc', '0.0007337119141403509'], ['ncos', '-1.0'], ['neuc', '0.0']]]\n['_español_D09 [sufijo_-mente].txt', [['3CosAdd', '0.0473469387755102'], ['3CosMul', '0.0473469387755102'], ['PairDir', '0.0'], ['cos', '-0.8104785805867453'], ['euc', '0.05603134447214555'], ['ncos', '-1.0'], ['neuc', '0.0']]]\n['_español_D10 [sufijo_-miento].txt', [['3CosAdd', '0.013061224489795919'], ['3CosMul', '0.013877551020408163'], ['PairDir', '0.0'], ['cos', '-0.9284067857900292'], ['euc', '0.021128905160086496'], ['ncos', '-1.0'], ['neuc', '0.0']]]\n['_español_E01 [pais - capital].txt', [['3CosAdd', '0.0'], ['3CosMul', '0.0'], ['PairDir', '0.0'], ['cos', '-1.0'], ['euc', '0.0'], ['ncos', '-1.0'], ['neuc', '0.0']]]\n['_español_E02 [pais - idioma].txt', [['3CosAdd', '0.002857142857142857'], ['3CosMul', '0.002857142857142857'], ['PairDir', '0.0'], ['cos', '-0.9632374544456905'], ['euc', '0.011268482037952969'], ['ncos', '-1.0'], ['neuc', '0.0']]]\n['_español_E04 [nombre - nacionalidad].txt', [['3CosAdd', '0.0'], ['3CosMul', '0.0'], ['PairDir', '0.0'], ['cos', '-0.9948277364336714'], ['euc', '0.0015356384491433902'], ['ncos', '-1.0'], ['neuc', '0.0']]]\n['_español_E05 [nombre - ocupacion].txt', [['3CosAdd', '0.04'], ['3CosMul', '0.04'], ['PairDir', '0.0'], ['cos', '-0.9990720956666129'], ['euc', '0.0002788085353617765'], ['ncos', '-1.0'], ['neuc', '0.0']]]\n['_español_E10 [hombre - mujer].txt', [['3CosAdd', '0.4906122448979592'], ['3CosMul', '0.516734693877551'], ['PairDir', '0.0'], ['cos', '-0.0059802100356022014'], ['euc', '0.30526002166222554'], ['ncos', '-1.0'], ['neuc', '0.0']]]\n['_español_E11 [pais - gentilicio].txt', [['3CosAdd', '0.014693877551020407'], ['3CosMul', '0.014693877551020407'], ['PairDir', '0.0'], ['cos', '-0.9713096904389712'], ['euc', '0.008671147871990593'], ['ncos', '-1.0'], ['neuc', '0.0']]]\n['_español_I067 [gerund - parti].txt', [['3CosAdd', '0.5077551020408163'], ['3CosMul', '0.5681632653061225'], ['PairDir', '0.0'], ['cos', '0.18960656741443946'], ['euc', '0.3780361176996815'], ['ncos', '-1.0'], ['neuc', '0.0']]]\n['_español_I096 [inf - gerund].txt', [['3CosAdd', '0.7330612244897959'], ['3CosMul', '0.7534693877551021'], ['PairDir', '0.0'], ['cos', '0.17234262529988678'], ['euc', '0.37699927750898865'], ['ncos', '-1.0'], ['neuc', '0.0']]]\n['_español_I097 [inf - parti].txt', [['3CosAdd', '0.41061224489795917'], ['3CosMul', '0.4897959183673469'], ['PairDir', '0.0'], ['cos', '0.19543110659127408'], ['euc', '0.37528381882881634'], ['ncos', '-1.0'], ['neuc', '0.0']]]\n['_español_I162 [pret_perf__1_sing - futuro_simp__1_sing].txt', [['3CosAdd', '0.0020408163265306124'], ['3CosMul', '0.0020408163265306124'], ['PairDir', '0.0'], ['cos', '-0.9963691575429877'], ['euc', '0.0012014627699949304'], ['ncos', '-1.0'], ['neuc', '0.0']]]\n['_español_I254 [presente__1_sing - futuro_simp__1_sing].txt', [['3CosAdd', '0.0008163265306122449'], ['3CosMul', '0.0008163265306122449'], ['PairDir', '0.0'], ['cos', '-0.997235352509484'], ['euc', '0.0007855046038724938'], ['ncos', '-1.0'], ['neuc', '0.0']]]\n['_español_I260 [presente__1_sing - pret_perf__1_sing].txt', [['3CosAdd', '0.011428571428571429'], ['3CosMul', '0.012244897959183673'], ['PairDir', '0.0'], ['cos', '-0.973202109579377'], ['euc', '0.007903268726504578'], ['ncos', '-1.0'], ['neuc', '0.0']]]\n['_español_I265 [presente__1_sing - presente__1_plur].txt', [['3CosAdd', '0.07306122448979592'], ['3CosMul', '0.07755102040816327'], ['PairDir', '0.0'], ['cos', '-0.7983576426242611'], ['euc', '0.06291877712522234'], ['ncos', '-1.0'], ['neuc', '0.0']]]\n['_español_I269 [presente__1_sing - presente__3_sing].txt', [['3CosAdd', '0.024489795918367346'], ['3CosMul', '0.025714285714285714'], ['PairDir', '0.0'], ['cos', '-0.8707603652197488'], ['euc', '0.038965238867973796'], ['ncos', '-1.0'], ['neuc', '0.0']]]\n['_español_I466 [sustantivo - plural(s)].txt', [['3CosAdd', '0.4506122448979592'], ['3CosMul', '0.47877551020408166'], ['PairDir', '0.0'], ['cos', '0.03864299536611391'], ['euc', '0.31263410733670605'], ['ncos', '-1.0'], ['neuc', '0.0']]]\n['_español_I467 [sustantivo - plural(es)].txt', [['3CosAdd', '0.4126530612244898'], ['3CosMul', '0.4273469387755102'], ['PairDir', '0.0'], ['cos', '0.024738891676266687'], ['euc', '0.3055411192105741'], ['ncos', '-1.0'], ['neuc', '0.0']]]\n['_español_L07 [sinonimos - intensidad].txt', [['3CosAdd', '0.17673469387755103'], ['3CosMul', '0.17591836734693878'], ['PairDir', '0.0'], ['cos', '-0.31270606385401395'], ['euc', '0.20497129420844876'], ['ncos', '-1.0'], ['neuc', '0.0']]]\n['_español_L08 [sinonimos - exacto].txt', [['3CosAdd', '0.2710204081632653'], ['3CosMul', '0.27387755102040817'], ['PairDir', '0.0'], ['cos', '-0.08927207202104168'], ['euc', '0.2700872824386675'], ['ncos', '-1.0'], ['neuc', '0.0']]]\n['_español_L09 [antonimos - grado].txt', [['3CosAdd', '0.13183673469387755'], ['3CosMul', '0.1293877551020408'], ['PairDir', '0.0'], ['cos', '-0.2790683694071153'], ['euc', '0.21260351859793372'], ['ncos', '-1.0'], ['neuc', '0.0']]]\n['_español_L10 [antonimos - binario].txt', [['3CosAdd', '0.25918367346938775'], ['3CosMul', '0.2420408163265306'], ['PairDir', '0.0'], ['cos', '-0.11832095098149563'], ['euc', '0.2515498755659376'], ['ncos', '-1.0'], ['neuc', '0.0']]]\n\n   End of test\n"
     ],
     "output_type": "stream"
    }
   ],
   "source": [
    "def analogy():\n",
    "    results = {}\n",
    "    for name in embeddings:\n",
    "        real_name = name.split('.')[0]\n",
    "        results[name] = {}\n",
    "        print(\"#################################################\")\n",
    "        print(\"=> Cargando \" + name)\n",
    "        wordvector = get_wordvector(name, 50000)\n",
    "        #wordvector = get_wordvector(name)\n",
    "    \n",
    "        print(\"\\n=> Testing \" + name)\n",
    "        analogyTest(wordvector, name, all_score=True)\n",
    "        \n",
    "        print(\"\\n   End of test\")\n",
    "        #print(\"\\n=> Embeddings \" + name + \" score:\" + str(json.dumps(score, sort_keys=True, indent=4)))\n",
    "    \n",
    "        del wordvector\n",
    "            \n",
    "\n",
    "# Test de analogias\n",
    "analogy()\n"
   ],
   "metadata": {
    "collapsed": false,
    "pycharm": {
     "name": "#%%\n",
     "is_executing": false
    }
   }
  }
 ],
 "metadata": {
  "kernelspec": {
   "display_name": "Python 3",
   "language": "python",
   "name": "python3"
  },
  "language_info": {
   "codemirror_mode": {
    "name": "ipython",
    "version": 2
   },
   "file_extension": ".py",
   "mimetype": "text/x-python",
   "name": "python",
   "nbconvert_exporter": "python",
   "pygments_lexer": "ipython2",
   "version": "2.7.6"
  },
  "pycharm": {
   "stem_cell": {
    "cell_type": "raw",
    "source": [],
    "metadata": {
     "collapsed": false
    }
   }
  }
 },
 "nbformat": 4,
 "nbformat_minor": 0
}