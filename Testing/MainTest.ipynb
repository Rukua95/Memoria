{
 "cells": [
  {
   "cell_type": "code",
   "execution_count": 1,
   "metadata": {
    "collapsed": true,
    "pycharm": {
     "is_executing": false
    }
   },
   "outputs": [
    {
     "name": "stdout",
     "text": [
      "D:\\Documents\\Memoria - Eval. Word Embeddings\\Testing\nD:\\Documents\\Memoria - Eval. Word Embeddings\nD:\\Documents\\Memoria - Eval. Word Embeddings\\Embeddings\nD:\\Documents\\Memoria - Eval. Word Embeddings\\Datasets\nD:\\Documents\\Memoria - Eval. Word Embeddings\\Resultados\nD:\\Documents\\Memoria - Eval. Word Embeddings\\TempResultados\n>>> Embeddings a evaluar:\n     > _fasttext_sbwc.vec\n     > _fasttext_suc.vec\n     > _fasttext_wiki.vec\n     > _glove_sbwc.vec\n     > _w2v_sbwc.txt\n"
     ],
     "output_type": "stream"
    }
   ],
   "source": [
    "import os\n",
    "import io\n",
    "import json\n",
    "\n",
    "import numpy as np\n",
    "\n",
    "from scipy.stats import spearmanr\n",
    "from gensim.models.keyedvectors import KeyedVectors\n",
    "\n",
    "import Constant\n",
    "\n",
    "# Path a carpeta principal\n",
    "MAIN_FOLDER = Constant.MAIN_FOLDER\n",
    "\n",
    "# Path a carpeta con los embeddings\n",
    "EMBEDDING_FOLDER = Constant.EMBEDDING_FOLDER\n",
    "\n",
    "# Lista con los nombres de los archivos de los embeddings\n",
    "embedding_name_list = os.listdir(EMBEDDING_FOLDER)\n",
    "\n",
    "print(\">>> Embeddings a evaluar:\")\n",
    "for embedding in embedding_name_list:\n",
    "    print(\"     > \" + embedding)\n",
    "\n",
    "def get_wordvector(file, cant=None):\n",
    "    wordvector_file = EMBEDDING_FOLDER / file\n",
    "\n",
    "    return KeyedVectors.load_word2vec_format(wordvector_file, limit=cant)\n"
   ]
  },
  {
   "cell_type": "code",
   "execution_count": 7,
   "outputs": [
    {
     "name": "stdout",
     "text": [
      ">>> Test de similaridad\n\n>>> Cargando vectores...",
      "listo\n\n>>> Testing _fasttext_sbwc.vec\n\n>>> Test individuales\n>>> Archivo test: rg65_es.txt\n     > Opening file: rg65_es.txt\n>>> Not found words:0\n    []\n     > Cantidad de pares no procesados: 0\n\n\n>>> Archivo test: semeval17_es.txt\n     > Opening file: semeval17_es.txt\n>>> Not found words:4\n    ['spider-man', 'u2', 'brexit', \"mcdonald's\"]\n     > Cantidad de pares no procesados: 4\n\n\n>>> Empezando test en conjunto\n>>> Not found words:4\n    ['spider-man', 'u2', 'brexit', \"mcdonald's\"]\n     > Cantidad de pares no procesados: 4\n\n\n>>> Resultados\n    rg65_es.txt: 0.8204467520617068\n    semeval17_es.txt: 0.704972763305767\n    all_data: 0.7223296706995783\n\n\n>>> Saving in _fasttext_sbwc\n[['rg65_es.txt', 0.8204467520617068], ['semeval17_es.txt', 0.704972763305767], ['all_data', 0.7223296706995783]]\n\n>>> Cargando vectores...",
      "listo\n\n>>> Testing _fasttext_suc.vec\n\n>>> Test individuales\n>>> Archivo test: rg65_es.txt\n     > Opening file: rg65_es.txt\n>>> Not found words:0\n    []\n     > Cantidad de pares no procesados: 0\n\n\n>>> Archivo test: semeval17_es.txt\n     > Opening file: semeval17_es.txt\n>>> Not found words:2\n    ['spider-man', \"mcdonald's\"]\n     > Cantidad de pares no procesados: 2\n\n\n>>> Empezando test en conjunto\n>>> Not found words:2\n    ['spider-man', \"mcdonald's\"]\n     > Cantidad de pares no procesados: 2\n\n\n>>> Resultados\n    rg65_es.txt: 0.889236362449453\n    semeval17_es.txt: 0.7467351168810569\n    all_data: 0.7664237878600609\n\n\n>>> Saving in _fasttext_suc\n[['rg65_es.txt', 0.889236362449453], ['semeval17_es.txt', 0.7467351168810569], ['all_data', 0.7664237878600609]]\n\n>>> Cargando vectores...",
      "listo\n\n>>> Testing _fasttext_wiki.vec\n\n>>> Test individuales\n>>> Archivo test: rg65_es.txt\n     > Opening file: rg65_es.txt\n>>> Not found words:0\n    []\n     > Cantidad de pares no procesados: 0\n\n\n>>> Archivo test: semeval17_es.txt\n     > Opening file: semeval17_es.txt\n>>> Not found words:3\n    ['spider-man', 'u2', \"mcdonald's\"]\n     > Cantidad de pares no procesados: 3\n\n\n>>> Empezando test en conjunto\n>>> Not found words:3\n    ['spider-man', 'u2', \"mcdonald's\"]\n     > Cantidad de pares no procesados: 3\n\n\n>>> Resultados\n    rg65_es.txt: 0.8793905361995941\n    semeval17_es.txt: 0.7315237518508493\n    all_data: 0.7547812427724895\n\n\n>>> Saving in _fasttext_wiki\n[['rg65_es.txt', 0.8793905361995941], ['semeval17_es.txt', 0.7315237518508493], ['all_data', 0.7547812427724895]]\n\n>>> Cargando vectores...",
      "listo\n\n>>> Testing _glove_sbwc.vec\n\n>>> Test individuales\n>>> Archivo test: rg65_es.txt\n     > Opening file: rg65_es.txt\n>>> Not found words:0\n    []\n     > Cantidad de pares no procesados: 0\n\n\n>>> Archivo test: semeval17_es.txt\n     > Opening file: semeval17_es.txt\n>>> Not found words:4\n    ['spider-man', 'u2', 'brexit', \"mcdonald's\"]\n     > Cantidad de pares no procesados: 4\n\n\n>>> Empezando test en conjunto\n>>> Not found words:4\n    ['spider-man', 'u2', 'brexit', \"mcdonald's\"]\n     > Cantidad de pares no procesados: 4\n\n\n>>> Resultados\n    rg65_es.txt: 0.7643889395507487\n    semeval17_es.txt: 0.6783921999909276\n    all_data: 0.690634179167917\n\n\n>>> Saving in _glove_sbwc\n[['rg65_es.txt', 0.7643889395507487], ['semeval17_es.txt', 0.6783921999909276], ['all_data', 0.690634179167917]]\n\n>>> Cargando vectores...",
      "listo\n\n>>> Testing _w2v_sbwc.txt\n\n>>> Test individuales\n>>> Archivo test: rg65_es.txt\n     > Opening file: rg65_es.txt\n>>> Not found words:0\n    []\n     > Cantidad de pares no procesados: 0\n\n\n>>> Archivo test: semeval17_es.txt\n     > Opening file: semeval17_es.txt\n>>> Not found words:15\n    ['spider-man', 'u2', 'ronaldo', 'jerusalén', 'dickens', 'bolzano', 'brexit', 'aristóteles', 'dingle', 'pfizer', 'nietzsche', 'federer', 'hamedan', 'kfc', \"mcdonald's\"]\n     > Cantidad de pares no procesados: 13\n\n\n>>> Empezando test en conjunto\n>>> Not found words:15\n    ['spider-man', 'u2', 'ronaldo', 'jerusalén', 'dickens', 'bolzano', 'brexit', 'aristóteles', 'dingle', 'pfizer', 'nietzsche', 'federer', 'hamedan', 'kfc', \"mcdonald's\"]\n     > Cantidad de pares no procesados: 13\n\n\n>>> Resultados\n    rg65_es.txt: 0.8535916989285603\n    semeval17_es.txt: 0.7241491800532829\n    all_data: 0.7470013837716134\n\n\n>>> Saving in _w2v_sbwc\n[['rg65_es.txt', 0.8535916989285603], ['semeval17_es.txt', 0.7241491800532829], ['all_data', 0.7470013837716134]]\n\n"
     ],
     "output_type": "stream"
    }
   ],
   "source": [
    "# Realizacion de test\n",
    "\n",
    "import SimilarityTest\n",
    "\n",
    "# Test de similaridad\n",
    "print(\">>> Test de similaridad\\n\")\n",
    "for embedding in embedding_name_list:\n",
    "    print(\">>> Testing \" + embedding + \"\\n\")\n",
    "    \n",
    "    print(\">>> Cargando vectores...\", end='')\n",
    "    wordvector = get_wordvector(embedding)\n",
    "    print(\"listo\\n\")\n",
    "    \n",
    "    result = SimilarityTest.similarityTest(wordvector, embedding.split('.')[0])\n"
   ],
   "metadata": {
    "collapsed": false,
    "pycharm": {
     "name": "#%%\n",
     "is_executing": false
    }
   }
  },
  {
   "cell_type": "code",
   "execution_count": 3,
   "outputs": [
    {
     "name": "stdout",
     "text": [
      ">>> Test de analogias\n\n>>> Testing _fasttext_sbwc.vec\n\n>>> Cargando vectores...",
      "listo\n\n>>> Testing : _español_D01 [prefijo_anti-].txt\n>>> Testing : _español_D02 [prefijo_des-].txt\n>>> Testing : _español_D03 [prefijo_in-].txt\n>>> Testing : _español_D04 [sufijo_-able].txt\n>>> Testing : _español_D05 [sufijo_-ción].txt\n>>> Testing : ",
      "_español_D06 [sufijo_-ísimo].txt\n>>> Testing : _español_D07 [sufijo_-ita].txt\n>>> Testing : _español_D08 [sufijo_-ito].txt\n>>> Testing : _español_D09 [sufijo_-mente].txt\n>>> Testing : _español_D10 [sufijo_-miento].txt\n>>> Testing : _español_E01 [pais - capital].txt\n",
      ">>> Testing : _español_E02 [pais - idioma].txt\n",
      ">>> Testing : _español_E04 [nombre - nacionalidad].txt\n",
      ">>> Testing : _español_E05 [nombre - ocupacion].txt\n>>> Testing : _español_E10 [hombre - mujer].txt\n",
      ">>> Testing : _español_E11 [pais - gentilicio].txt\n",
      ">>> Testing : _español_I067 [gerund - parti].txt\n",
      ">>> Testing : _español_I096 [inf - gerund].txt\n",
      ">>> Testing : _español_I097 [inf - parti].txt\n",
      ">>> Testing : _español_I162 [pret_perf__1_sing - futuro_simp__1_sing].txt\n>>> Testing : _español_I254 [presente__1_sing - futuro_simp__1_sing].txt\n>>> Testing : _español_I260 [presente__1_sing - pret_perf__1_sing].txt\n>>> Testing : _español_I265 [presente__1_sing - presente__1_plur].txt\n>>> Testing : _español_I269 [presente__1_sing - presente__3_sing].txt\n>>> Testing : _español_I466 [sustantivo - plural(s)].txt\n",
      ">>> Testing : _español_I467 [sustantivo - plural(es)].txt\n",
      ">>> Testing : _español_L07 [sinonimos - intensidad].txt\n",
      ">>> Testing : _español_L08 [sinonimos - exacto].txt\n",
      ">>> Testing : _español_L09 [antonimos - grado].txt\n",
      ">>> Testing : _español_L10 [antonimos - binario].txt\n",
      ">>> Results\n    ['_español_D01 [prefijo_anti-].txt', [['3CosAdd', 'Nan'], ['3CosMul', 'Nan'], ['PairDir', 'Nan'], ['cos', 'Nan'], ['euc', 'Nan'], ['ncos', 'Nan'], ['neuc', 'Nan']]]\n    ['_español_D02 [prefijo_des-].txt', [['3CosAdd', '0.0'], ['3CosMul', '0.0'], ['PairDir', '0.0'], ['cos', '0.05547106576462587'], ['euc', '0.30948076645533246'], ['ncos', '-1.0'], ['neuc', '0.0']]]\n    ['_español_D03 [prefijo_in-].txt', [['3CosAdd', '0.3333333333333333'], ['3CosMul', '0.3333333333333333'], ['PairDir', '0.0'], ['cos', '0.02610709642855606'], ['euc', '0.28144822518030804'], ['ncos', '-1.0'], ['neuc', '0.0']]]\n    ['_español_D04 [sufijo_-able].txt', [['3CosAdd', '0.0'], ['3CosMul', '0.0'], ['PairDir', '0.0'], ['cos', '0.15788147101799646'], ['euc', '0.3505714734395345'], ['ncos', '-1.0'], ['neuc', '0.0']]]\n    ['_español_D05 [sufijo_-ción].txt', [['3CosAdd', '0.36666666666666664'], ['3CosMul', '0.4'], ['PairDir', '0.0'], ['cos', '0.17762681146462758'], ['euc', '0.3580421725908915'], ['ncos', '-1.0'], ['neuc', '0.0']]]\n    ['_español_D06 [sufijo_-ísimo].txt', [['3CosAdd', 'Nan'], ['3CosMul', 'Nan'], ['PairDir', 'Nan'], ['cos', 'Nan'], ['euc', 'Nan'], ['ncos', 'Nan'], ['neuc', 'Nan']]]\n    ['_español_D07 [sufijo_-ita].txt', [['3CosAdd', 'Nan'], ['3CosMul', 'Nan'], ['PairDir', 'Nan'], ['cos', 'Nan'], ['euc', 'Nan'], ['ncos', 'Nan'], ['neuc', 'Nan']]]\n    ['_español_D08 [sufijo_-ito].txt', [['3CosAdd', 'Nan'], ['3CosMul', 'Nan'], ['PairDir', 'Nan'], ['cos', 'Nan'], ['euc', 'Nan'], ['ncos', 'Nan'], ['neuc', 'Nan']]]\n    ['_español_D09 [sufijo_-mente].txt', [['3CosAdd', '0.08333333333333333'], ['3CosMul', '0.08333333333333333'], ['PairDir', '0.0'], ['cos', '0.07922546394790213'], ['euc', '0.31252644459406537'], ['ncos', '-1.0'], ['neuc', '0.0']]]\n    ['_español_D10 [sufijo_-miento].txt', [['3CosAdd', '0.0'], ['3CosMul', '0.0'], ['PairDir', '0.0'], ['cos', '0.15111768742402396'], ['euc', '0.3470869263013204'], ['ncos', '-1.0'], ['neuc', '0.0']]]\n    ['_español_E01 [pais - capital].txt', [['3CosAdd', '0.835'], ['3CosMul', '0.8533333333333334'], ['PairDir', '0.0'], ['cos', '0.44829892267783483'], ['euc', '0.4733714055021604'], ['ncos', '-1.0'], ['neuc', '0.0']]]\n    ['_español_E02 [pais - idioma].txt', [['3CosAdd', '0.29423076923076924'], ['3CosMul', '0.3423076923076923'], ['PairDir', '0.0'], ['cos', '0.41532312503609903'], ['euc', '0.4606546544875854'], ['ncos', '-1.0'], ['neuc', '0.0']]]\n    ['_español_E04 [nombre - nacionalidad].txt', [['3CosAdd', '0.3333333333333333'], ['3CosMul', '0.35555555555555557'], ['PairDir', '0.0'], ['cos', '0.2516637451118893'], ['euc', '0.38976340956158106'], ['ncos', '-1.0'], ['neuc', '0.0']]]\n    ['_español_E05 [nombre - ocupacion].txt', [['3CosAdd', '0.25'], ['3CosMul', '0.25'], ['PairDir', '0.0'], ['cos', '0.37670098276187974'], ['euc', '0.45007628202438354'], ['ncos', '-1.0'], ['neuc', '0.0']]]\n    ['_español_E10 [hombre - mujer].txt', [['3CosAdd', '0.8026315789473685'], ['3CosMul', '0.7868421052631579'], ['PairDir', '0.0'], ['cos', '0.3136508020045432'], ['euc', '0.40109470392528335'], ['ncos', '-1.0'], ['neuc', '0.0']]]\n    ['_español_E11 [pais - gentilicio].txt', [['3CosAdd', '0.9545454545454546'], ['3CosMul', '0.9272727272727272'], ['PairDir', '0.0'], ['cos', '0.4728167631409385'], ['euc', '0.4883725529367274'], ['ncos', '-1.0'], ['neuc', '0.0']]]\n    ['_español_I067 [gerund - parti].txt', [['3CosAdd', '0.6473684210526316'], ['3CosMul', '0.7078947368421052'], ['PairDir', '0.0'], ['cos', '0.3891717583529259'], ['euc', '0.4459925794287732'], ['ncos', '-1.0'], ['neuc', '0.0']]]\n    ['_español_I096 [inf - gerund].txt', [['3CosAdd', '0.8833333333333333'], ['3CosMul', '0.9083333333333333'], ['PairDir', '0.0'], ['cos', '0.46111255685488384'], ['euc', '0.48359337747097014'], ['ncos', '-1.0'], ['neuc', '0.0']]]\n    ['_español_I097 [inf - parti].txt', [['3CosAdd', '0.5604838709677419'], ['3CosMul', '0.6451612903225806'], ['PairDir', '0.0'], ['cos', '0.33376412329474286'], ['euc', '0.42176691755171747'], ['ncos', '-1.0'], ['neuc', '0.0']]]\n    ['_español_I162 [pret_perf__1_sing - futuro_simp__1_sing].txt', [['3CosAdd', 'Nan'], ['3CosMul', 'Nan'], ['PairDir', 'Nan'], ['cos', 'Nan'], ['euc', 'Nan'], ['ncos', 'Nan'], ['neuc', 'Nan']]]\n    ['_español_I254 [presente__1_sing - futuro_simp__1_sing].txt', [['3CosAdd', 'Nan'], ['3CosMul', 'Nan'], ['PairDir', 'Nan'], ['cos', 'Nan'], ['euc', 'Nan'], ['ncos', 'Nan'], ['neuc', 'Nan']]]\n    ['_español_I260 [presente__1_sing - pret_perf__1_sing].txt', [['3CosAdd', 'Nan'], ['3CosMul', 'Nan'], ['PairDir', 'Nan'], ['cos', 'Nan'], ['euc', 'Nan'], ['ncos', 'Nan'], ['neuc', 'Nan']]]\n    ['_español_I265 [presente__1_sing - presente__1_plur].txt', [['3CosAdd', '0.6666666666666666'], ['3CosMul', '0.6666666666666666'], ['PairDir', '0.0'], ['cos', '0.35445745289325714'], ['euc', '0.4262649317582448'], ['ncos', '-1.0'], ['neuc', '0.0']]]\n    ['_español_I269 [presente__1_sing - presente__3_sing].txt', [['3CosAdd', '0.11904761904761904'], ['3CosMul', '0.14285714285714285'], ['PairDir', '0.0'], ['cos', '0.09033947140865382'], ['euc', '0.3228231895537603'], ['ncos', '-1.0'], ['neuc', '0.0']]]\n    ['_español_I466 [sustantivo - plural(s)].txt', [['3CosAdd', '0.6226215644820295'], ['3CosMul', '0.6342494714587738'], ['PairDir', '0.0'], ['cos', '0.12336531959415141'], ['euc', '0.3375151562514315'], ['ncos', '-1.0'], ['neuc', '0.0']]]\n    ['_español_I467 [sustantivo - plural(es)].txt', [['3CosAdd', '0.581646423751687'], ['3CosMul', '0.5964912280701754'], ['PairDir', '0.0'], ['cos', '0.11653105768001344'], ['euc', '0.3343044705236489'], ['ncos', '-1.0'], ['neuc', '0.0']]]\n    ['_español_L07 [sinonimos - intensidad].txt', [['3CosAdd', '0.17647058823529413'], ['3CosMul', '0.19934640522875818'], ['PairDir', '0.0'], ['cos', '0.09223331656387636'], ['euc', '0.3210526506106059'], ['ncos', '-1.0'], ['neuc', '0.0']]]\n    ['_español_L08 [sinonimos - exacto].txt', [['3CosAdd', '0.25384615384615383'], ['3CosMul', '0.26615384615384613'], ['PairDir', '0.0'], ['cos', '0.08607903807932767'], ['euc', '0.3181817565514491'], ['ncos', '-1.0'], ['neuc', '0.0']]]\n    ['_español_L09 [antonimos - grado].txt', [['3CosAdd', '0.21212121212121213'], ['3CosMul', '0.2012987012987013'], ['PairDir', '0.0'], ['cos', '0.04368068667298013'], ['euc', '0.30156287744447785'], ['ncos', '-1.0'], ['neuc', '0.0']]]\n    ['_español_L10 [antonimos - binario].txt', [['3CosAdd', '0.3817460317460317'], ['3CosMul', '0.3634920634920635'], ['PairDir', '0.0'], ['cos', '0.018674416749623588'], ['euc', '0.28897680044174195'], ['ncos', '-1.0'], ['neuc', '0.0']]]\n>>> Testing _fasttext_suc.vec\n\n>>> Cargando vectores...",
      "listo\n\n>>> Testing : _español_D01 [prefijo_anti-].txt\n>>> Testing : _español_D02 [prefijo_des-].txt\n>>> Testing : _español_D03 [prefijo_in-].txt\n>>> Testing : _español_D04 [sufijo_-able].txt\n>>> Testing : _español_D05 [sufijo_-ción].txt\n>>> Testing : _español_D06 [sufijo_-ísimo].txt\n>>> Testing : _español_D07 [sufijo_-ita].txt\n>>> Testing : _español_D08 [sufijo_-ito].txt\n>>> Testing : _español_D09 [sufijo_-mente].txt\n",
      ">>> Testing : _español_D10 [sufijo_-miento].txt\n>>> Testing : _español_E01 [pais - capital].txt\n",
      ">>> Testing : _español_E02 [pais - idioma].txt\n",
      ">>> Testing : _español_E04 [nombre - nacionalidad].txt\n>>> Testing : _español_E05 [nombre - ocupacion].txt\n",
      ">>> Testing : _español_E10 [hombre - mujer].txt\n",
      ">>> Testing : _español_E11 [pais - gentilicio].txt\n>>> Testing : _español_I067 [gerund - parti].txt\n",
      ">>> Testing : _español_I096 [inf - gerund].txt\n",
      ">>> Testing : _español_I097 [inf - parti].txt\n",
      ">>> Testing : _español_I162 [pret_perf__1_sing - futuro_simp__1_sing].txt\n>>> Testing : _español_I254 [presente__1_sing - futuro_simp__1_sing].txt\n>>> Testing : _español_I260 [presente__1_sing - pret_perf__1_sing].txt\n>>> Testing : _español_I265 [presente__1_sing - presente__1_plur].txt\n",
      ">>> Testing : _español_I269 [presente__1_sing - presente__3_sing].txt\n",
      ">>> Testing : _español_I466 [sustantivo - plural(s)].txt\n",
      ">>> Testing : _español_I467 [sustantivo - plural(es)].txt\n",
      ">>> Testing : _español_L07 [sinonimos - intensidad].txt\n",
      ">>> Testing : _español_L08 [sinonimos - exacto].txt\n",
      ">>> Testing : _español_L09 [antonimos - grado].txt\n",
      ">>> Testing : _español_L10 [antonimos - binario].txt\n",
      ">>> Results\n    ['_español_D01 [prefijo_anti-].txt', [['3CosAdd', 'Nan'], ['3CosMul', 'Nan'], ['PairDir', 'Nan'], ['cos', 'Nan'], ['euc', 'Nan'], ['ncos', 'Nan'], ['neuc', 'Nan']]]\n    ['_español_D02 [prefijo_des-].txt', [['3CosAdd', '0.5'], ['3CosMul', '0.5'], ['PairDir', '0.0'], ['cos', '0.03671533614397049'], ['euc', '0.2965047359466553'], ['ncos', '-1.0'], ['neuc', '0.0']]]\n    ['_español_D03 [prefijo_in-].txt', [['3CosAdd', 'Nan'], ['3CosMul', 'Nan'], ['PairDir', 'Nan'], ['cos', 'Nan'], ['euc', 'Nan'], ['ncos', 'Nan'], ['neuc', 'Nan']]]\n    ['_español_D04 [sufijo_-able].txt', [['3CosAdd', '0.0'], ['3CosMul', '0.0'], ['PairDir', '0.0'], ['cos', '0.12085067294538021'], ['euc', '0.3344339430332184'], ['ncos', '-1.0'], ['neuc', '0.0']]]\n    ['_español_D05 [sufijo_-ción].txt', [['3CosAdd', '0.16666666666666666'], ['3CosMul', '0.25'], ['PairDir', '0.0'], ['cos', '0.11471402396758397'], ['euc', '0.3332315186659495'], ['ncos', '-1.0'], ['neuc', '0.0']]]\n    ['_español_D06 [sufijo_-ísimo].txt', [['3CosAdd', 'Nan'], ['3CosMul', 'Nan'], ['PairDir', 'Nan'], ['cos', 'Nan'], ['euc', 'Nan'], ['ncos', 'Nan'], ['neuc', 'Nan']]]\n    ['_español_D07 [sufijo_-ita].txt', [['3CosAdd', 'Nan'], ['3CosMul', 'Nan'], ['PairDir', 'Nan'], ['cos', 'Nan'], ['euc', 'Nan'], ['ncos', 'Nan'], ['neuc', 'Nan']]]\n    ['_español_D08 [sufijo_-ito].txt', [['3CosAdd', 'Nan'], ['3CosMul', 'Nan'], ['PairDir', 'Nan'], ['cos', 'Nan'], ['euc', 'Nan'], ['ncos', 'Nan'], ['neuc', 'Nan']]]\n    ['_español_D09 [sufijo_-mente].txt', [['3CosAdd', '0.16666666666666666'], ['3CosMul', '0.16666666666666666'], ['PairDir', '0.0'], ['cos', '0.14238187422355017'], ['euc', '0.33101385831832886'], ['ncos', '-1.0'], ['neuc', '0.0']]]\n    ['_español_D10 [sufijo_-miento].txt', [['3CosAdd', '0.16666666666666666'], ['3CosMul', '0.16666666666666666'], ['PairDir', '0.0'], ['cos', '0.1665156458814939'], ['euc', '0.353530486424764'], ['ncos', '-1.0'], ['neuc', '0.0']]]\n    ['_español_E01 [pais - capital].txt', [['3CosAdd', '0.8051470588235294'], ['3CosMul', '0.8235294117647058'], ['PairDir', '0.0'], ['cos', '0.4745610287303434'], ['euc', '0.4851888683350647'], ['ncos', '-1.0'], ['neuc', '0.0']]]\n    ['_español_E02 [pais - idioma].txt', [['3CosAdd', '0.37701612903225806'], ['3CosMul', '0.4274193548387097'], ['PairDir', '0.0'], ['cos', '0.4628595614565476'], ['euc', '0.4850464904861104'], ['ncos', '-1.0'], ['neuc', '0.0']]]\n    ['_español_E04 [nombre - nacionalidad].txt', [['3CosAdd', '0.2857142857142857'], ['3CosMul', '0.32142857142857145'], ['PairDir', '0.0'], ['cos', '0.24311000812200032'], ['euc', '0.3874692437904222'], ['ncos', '-1.0'], ['neuc', '0.0']]]\n    ['_español_E05 [nombre - ocupacion].txt', [['3CosAdd', '0.3'], ['3CosMul', '0.3'], ['PairDir', '0.0'], ['cos', '0.36813106164336207'], ['euc', '0.44489126205444335'], ['ncos', '-1.0'], ['neuc', '0.0']]]\n    ['_español_E10 [hombre - mujer].txt', [['3CosAdd', '0.7123076923076923'], ['3CosMul', '0.7215384615384616'], ['PairDir', '0.0'], ['cos', '0.33178403134242845'], ['euc', '0.405351380109787'], ['ncos', '-1.0'], ['neuc', '0.0']]]\n    ['_español_E11 [pais - gentilicio].txt', [['3CosAdd', '0.8809523809523809'], ['3CosMul', '0.8809523809523809'], ['PairDir', '0.0'], ['cos', '0.43759837604704355'], ['euc', '0.47087903533663067'], ['ncos', '-1.0'], ['neuc', '0.0']]]\n    ['_español_I067 [gerund - parti].txt', [['3CosAdd', '0.7091503267973857'], ['3CosMul', '0.7647058823529411'], ['PairDir', '0.0'], ['cos', '0.41964677979353987'], ['euc', '0.4588807447283876'], ['ncos', '-1.0'], ['neuc', '0.0']]]\n    ['_español_I096 [inf - gerund].txt', [['3CosAdd', '0.9605263157894737'], ['3CosMul', '0.9736842105263158'], ['PairDir', '0.0'], ['cos', '0.4604125732654019'], ['euc', '0.4801461411149878'], ['ncos', '-1.0'], ['neuc', '0.0']]]\n    ['_español_I097 [inf - parti].txt', [['3CosAdd', '0.6550802139037433'], ['3CosMul', '0.7254901960784313'], ['PairDir', '0.0'], ['cos', '0.3456129260932273'], ['euc', '0.42675644313375366'], ['ncos', '-1.0'], ['neuc', '0.0']]]\n    ['_español_I162 [pret_perf__1_sing - futuro_simp__1_sing].txt', [['3CosAdd', '0.8809523809523809'], ['3CosMul', '0.9285714285714286'], ['PairDir', '0.0'], ['cos', '0.5504576365152994'], ['euc', '0.5236340959866842'], ['ncos', '-1.0'], ['neuc', '0.0']]]\n    ['_español_I254 [presente__1_sing - futuro_simp__1_sing].txt', [['3CosAdd', '0.8333333333333334'], ['3CosMul', '0.8333333333333334'], ['PairDir', '0.0'], ['cos', '0.28105789919694263'], ['euc', '0.39004428188006085'], ['ncos', '-1.0'], ['neuc', '0.0']]]\n    ['_español_I260 [presente__1_sing - pret_perf__1_sing].txt', [['3CosAdd', '0.65'], ['3CosMul', '0.65'], ['PairDir', '0.0'], ['cos', '0.2806845584884286'], ['euc', '0.3948043048381805'], ['ncos', '-1.0'], ['neuc', '0.0']]]\n    ['_español_I265 [presente__1_sing - presente__1_plur].txt', [['3CosAdd', '0.6444444444444445'], ['3CosMul', '0.6333333333333333'], ['PairDir', '0.0'], ['cos', '0.3400977470808559'], ['euc', '0.4212527871131897'], ['ncos', '-1.0'], ['neuc', '0.0']]]\n    ['_español_I269 [presente__1_sing - presente__3_sing].txt', [['3CosAdd', '0.24725274725274726'], ['3CosMul', '0.24725274725274726'], ['PairDir', '0.0'], ['cos', '0.11346071828949869'], ['euc', '0.33366359786672906'], ['ncos', '-1.0'], ['neuc', '0.0']]]\n    ['_español_I466 [sustantivo - plural(s)].txt', [['3CosAdd', '0.6167247386759582'], ['3CosMul', '0.6364692218350755'], ['PairDir', '0.0'], ['cos', '0.1386697911870179'], ['euc', '0.34331786449085683'], ['ncos', '-1.0'], ['neuc', '0.0']]]\n    ['_español_I467 [sustantivo - plural(es)].txt', [['3CosAdd', '0.6102564102564103'], ['3CosMul', '0.6339743589743589'], ['PairDir', '0.0'], ['cos', '0.13212547112312817'], ['euc', '0.3412677702613366'], ['ncos', '-1.0'], ['neuc', '0.0']]]\n    ['_español_L07 [sinonimos - intensidad].txt', [['3CosAdd', '0.2'], ['3CosMul', '0.19692307692307692'], ['PairDir', '0.0'], ['cos', '0.09790483282073043'], ['euc', '0.3243009301332327'], ['ncos', '-1.0'], ['neuc', '0.0']]]\n    ['_español_L08 [sinonimos - exacto].txt', [['3CosAdd', '0.2860215053763441'], ['3CosMul', '0.2956989247311828'], ['PairDir', '0.0'], ['cos', '0.10677661645146067'], ['euc', '0.3274684936128637'], ['ncos', '-1.0'], ['neuc', '0.0']]]\n    ['_español_L09 [antonimos - grado].txt', [['3CosAdd', '0.1856060606060606'], ['3CosMul', '0.1875'], ['PairDir', '0.0'], ['cos', '0.045457798539983385'], ['euc', '0.3055366791333213'], ['ncos', '-1.0'], ['neuc', '0.0']]]\n    ['_español_L10 [antonimos - binario].txt', [['3CosAdd', '0.3468253968253968'], ['3CosMul', '0.33095238095238094'], ['PairDir', '0.0'], ['cos', '0.02168492304885553'], ['euc', '0.28913033074802824'], ['ncos', '-1.0'], ['neuc', '0.0']]]\n>>> Testing _fasttext_wiki.vec\n\n>>> Cargando vectores...",
      "listo\n\n>>> Testing : _español_D01 [prefijo_anti-].txt\n>>> Testing : _español_D02 [prefijo_des-].txt\n>>> Testing : _español_D03 [prefijo_in-].txt\n>>> Testing : _español_D04 [sufijo_-able].txt\n>>> Testing : _español_D05 [sufijo_-ción].txt\n>>> Testing : _español_D06 [sufijo_-ísimo].txt\n>>> Testing : _español_D07 [sufijo_-ita].txt\n>>> Testing : _español_D08 [sufijo_-ito].txt\n>>> Testing : _español_D09 [sufijo_-mente].txt\n>>> Testing : _español_D10 [sufijo_-miento].txt\n>>> Testing : _español_E01 [pais - capital].txt\n",
      ">>> Testing : _español_E02 [pais - idioma].txt\n",
      ">>> Testing : _español_E04 [nombre - nacionalidad].txt\n",
      ">>> Testing : _español_E05 [nombre - ocupacion].txt\n",
      ">>> Testing : _español_E10 [hombre - mujer].txt\n",
      ">>> Testing : _español_E11 [pais - gentilicio].txt\n>>> Testing : ",
      "_español_I067 [gerund - parti].txt\n",
      ">>> Testing : _español_I096 [inf - gerund].txt\n",
      ">>> Testing : _español_I097 [inf - parti].txt\n",
      ">>> Testing : _español_I162 [pret_perf__1_sing - futuro_simp__1_sing].txt\n>>> Testing : _español_I254 [presente__1_sing - futuro_simp__1_sing].txt\n>>> Testing : _español_I260 [presente__1_sing - pret_perf__1_sing].txt\n>>> Testing : _español_I265 [presente__1_sing - presente__1_plur].txt\n>>> Testing : _español_I269 [presente__1_sing - presente__3_sing].txt\n>>> Testing : _español_I466 [sustantivo - plural(s)].txt\n",
      ">>> Testing : _español_I467 [sustantivo - plural(es)].txt\n",
      ">>> Testing : _español_L07 [sinonimos - intensidad].txt\n",
      ">>> Testing : _español_L08 [sinonimos - exacto].txt\n",
      ">>> Testing : _español_L09 [antonimos - grado].txt\n",
      ">>> Testing : _español_L10 [antonimos - binario].txt\n",
      ">>> Results\n    ['_español_D01 [prefijo_anti-].txt', [['3CosAdd', 'Nan'], ['3CosMul', 'Nan'], ['PairDir', 'Nan'], ['cos', 'Nan'], ['euc', 'Nan'], ['ncos', 'Nan'], ['neuc', 'Nan']]]\n    ['_español_D02 [prefijo_des-].txt', [['3CosAdd', 'Nan'], ['3CosMul', 'Nan'], ['PairDir', 'Nan'], ['cos', 'Nan'], ['euc', 'Nan'], ['ncos', 'Nan'], ['neuc', 'Nan']]]\n    ['_español_D03 [prefijo_in-].txt', [['3CosAdd', 'Nan'], ['3CosMul', 'Nan'], ['PairDir', 'Nan'], ['cos', 'Nan'], ['euc', 'Nan'], ['ncos', 'Nan'], ['neuc', 'Nan']]]\n    ['_español_D04 [sufijo_-able].txt', [['3CosAdd', '0.0'], ['3CosMul', '0.0'], ['PairDir', '0.0'], ['cos', '0.11500778794288635'], ['euc', '0.3337220549583435'], ['ncos', '-1.0'], ['neuc', '0.0']]]\n    ['_español_D05 [sufijo_-ción].txt', [['3CosAdd', '0.3333333333333333'], ['3CosMul', '0.3333333333333333'], ['PairDir', '0.0'], ['cos', '0.07536282856017351'], ['euc', '0.311875581741333'], ['ncos', '-1.0'], ['neuc', '0.0']]]\n    ['_español_D06 [sufijo_-ísimo].txt', [['3CosAdd', 'Nan'], ['3CosMul', 'Nan'], ['PairDir', 'Nan'], ['cos', 'Nan'], ['euc', 'Nan'], ['ncos', 'Nan'], ['neuc', 'Nan']]]\n    ['_español_D07 [sufijo_-ita].txt', [['3CosAdd', 'Nan'], ['3CosMul', 'Nan'], ['PairDir', 'Nan'], ['cos', 'Nan'], ['euc', 'Nan'], ['ncos', 'Nan'], ['neuc', 'Nan']]]\n    ['_español_D08 [sufijo_-ito].txt', [['3CosAdd', 'Nan'], ['3CosMul', 'Nan'], ['PairDir', 'Nan'], ['cos', 'Nan'], ['euc', 'Nan'], ['ncos', 'Nan'], ['neuc', 'Nan']]]\n    ['_español_D09 [sufijo_-mente].txt', [['3CosAdd', '0.16666666666666666'], ['3CosMul', '0.16666666666666666'], ['PairDir', '0.0'], ['cos', '0.1117674857378006'], ['euc', '0.3144361575444539'], ['ncos', '-1.0'], ['neuc', '0.0']]]\n    ['_español_D10 [sufijo_-miento].txt', [['3CosAdd', '0.5'], ['3CosMul', '0.5'], ['PairDir', '0.0'], ['cos', '0.14247296750545502'], ['euc', '0.3400670289993286'], ['ncos', '-1.0'], ['neuc', '0.0']]]\n    ['_español_E01 [pais - capital].txt', [['3CosAdd', '0.8029100529100529'], ['3CosMul', '0.8055555555555556'], ['PairDir', '0.0'], ['cos', '0.4303886093711727'], ['euc', '0.4668115651796734'], ['ncos', '-1.0'], ['neuc', '0.0']]]\n    ['_español_E02 [pais - idioma].txt', [['3CosAdd', '0.38095238095238093'], ['3CosMul', '0.40476190476190477'], ['PairDir', '0.0'], ['cos', '0.3942771510235847'], ['euc', '0.4492514182177801'], ['ncos', '-1.0'], ['neuc', '0.0']]]\n    ['_español_E04 [nombre - nacionalidad].txt', [['3CosAdd', '0.30718954248366015'], ['3CosMul', '0.3431372549019608'], ['PairDir', '0.0'], ['cos', '0.2777501620044871'], ['euc', '0.3974393341276381'], ['ncos', '-1.0'], ['neuc', '0.0']]]\n    ['_español_E05 [nombre - ocupacion].txt', [['3CosAdd', '0.3416666666666667'], ['3CosMul', '0.38333333333333336'], ['PairDir', '0.0'], ['cos', '0.2928349501142899'], ['euc', '0.40492965703209244'], ['ncos', '-1.0'], ['neuc', '0.0']]]\n    ['_español_E10 [hombre - mujer].txt', [['3CosAdd', '0.8380952380952381'], ['3CosMul', '0.8476190476190476'], ['PairDir', '0.0'], ['cos', '0.35451167632071745'], ['euc', '0.4216728543951398'], ['ncos', '-1.0'], ['neuc', '0.0']]]\n    ['_español_E11 [pais - gentilicio].txt', [['3CosAdd', '0.9583333333333334'], ['3CosMul', '0.9583333333333334'], ['PairDir', '0.0'], ['cos', '0.5152609853280915'], ['euc', '0.5088491199745072'], ['ncos', '-1.0'], ['neuc', '0.0']]]\n    ['_español_I067 [gerund - parti].txt', [['3CosAdd', '0.5439560439560439'], ['3CosMul', '0.6153846153846154'], ['PairDir', '0.0'], ['cos', '0.3509969613105468'], ['euc', '0.42581791438899197'], ['ncos', '-1.0'], ['neuc', '0.0']]]\n    ['_español_I096 [inf - gerund].txt', [['3CosAdd', '0.9636363636363636'], ['3CosMul', '0.9818181818181818'], ['PairDir', '0.0'], ['cos', '0.5193715569647875'], ['euc', '0.5101369678974151'], ['ncos', '-1.0'], ['neuc', '0.0']]]\n    ['_español_I097 [inf - parti].txt', [['3CosAdd', '0.4584615384615385'], ['3CosMul', '0.5338461538461539'], ['PairDir', '0.0'], ['cos', '0.3435994327526826'], ['euc', '0.42424938027675335'], ['ncos', '-1.0'], ['neuc', '0.0']]]\n    ['_español_I162 [pret_perf__1_sing - futuro_simp__1_sing].txt', [['3CosAdd', 'Nan'], ['3CosMul', 'Nan'], ['PairDir', 'Nan'], ['cos', 'Nan'], ['euc', 'Nan'], ['ncos', 'Nan'], ['neuc', 'Nan']]]\n    ['_español_I254 [presente__1_sing - futuro_simp__1_sing].txt', [['3CosAdd', 'Nan'], ['3CosMul', 'Nan'], ['PairDir', 'Nan'], ['cos', 'Nan'], ['euc', 'Nan'], ['ncos', 'Nan'], ['neuc', 'Nan']]]\n    ['_español_I260 [presente__1_sing - pret_perf__1_sing].txt', [['3CosAdd', 'Nan'], ['3CosMul', 'Nan'], ['PairDir', 'Nan'], ['cos', 'Nan'], ['euc', 'Nan'], ['ncos', 'Nan'], ['neuc', 'Nan']]]\n    ['_español_I265 [presente__1_sing - presente__1_plur].txt', [['3CosAdd', '0.5'], ['3CosMul', '1.0'], ['PairDir', '0.0'], ['cos', '0.425899863243103'], ['euc', '0.44561058282852173'], ['ncos', '-1.0'], ['neuc', '0.0']]]\n    ['_español_I269 [presente__1_sing - presente__3_sing].txt', [['3CosAdd', '0.07142857142857142'], ['3CosMul', '0.09523809523809523'], ['PairDir', '0.0'], ['cos', '0.13896195814456969'], ['euc', '0.34099834305899485'], ['ncos', '-1.0'], ['neuc', '0.0']]]\n    ['_español_I466 [sustantivo - plural(s)].txt', [['3CosAdd', '0.6727574750830565'], ['3CosMul', '0.6904761904761905'], ['PairDir', '0.0'], ['cos', '0.12859118029985803'], ['euc', '0.33625009966187036'], ['ncos', '-1.0'], ['neuc', '0.0']]]\n    ['_español_I467 [sustantivo - plural(es)].txt', [['3CosAdd', '0.7354196301564723'], ['3CosMul', '0.7176386913229018'], ['PairDir', '0.0'], ['cos', '0.1271000015339476'], ['euc', '0.33820037456867874'], ['ncos', '-1.0'], ['neuc', '0.0']]]\n    ['_español_L07 [sinonimos - intensidad].txt', [['3CosAdd', '0.2222222222222222'], ['3CosMul', '0.19934640522875818'], ['PairDir', '0.0'], ['cos', '0.09482391205048675'], ['euc', '0.3195744776258282'], ['ncos', '-1.0'], ['neuc', '0.0']]]\n    ['_español_L08 [sinonimos - exacto].txt', [['3CosAdd', '0.2619047619047619'], ['3CosMul', '0.2922077922077922'], ['PairDir', '0.0'], ['cos', '0.10231043860413037'], ['euc', '0.3244161662601289'], ['ncos', '-1.0'], ['neuc', '0.0']]]\n    ['_español_L09 [antonimos - grado].txt', [['3CosAdd', '0.2628458498023715'], ['3CosMul', '0.24110671936758893'], ['PairDir', '0.0'], ['cos', '0.03903181236692826'], ['euc', '0.3006312453699677'], ['ncos', '-1.0'], ['neuc', '0.0']]]\n    ['_español_L10 [antonimos - binario].txt', [['3CosAdd', '0.3787878787878788'], ['3CosMul', '0.3511586452762923'], ['PairDir', '0.0'], ['cos', '0.023921960659545917'], ['euc', '0.2906653241996459'], ['ncos', '-1.0'], ['neuc', '0.0']]]\n>>> Testing _glove_sbwc.vec\n\n>>> Cargando vectores...",
      "listo\n\n>>> Testing : _español_D01 [prefijo_anti-].txt\n>>> Testing : _español_D02 [prefijo_des-].txt\n>>> Testing : _español_D03 [prefijo_in-].txt\n>>> Testing : _español_D04 [sufijo_-able].txt\n>>> Testing : _español_D05 [sufijo_-ción].txt\n>>> Testing : ",
      "_español_D06 [sufijo_-ísimo].txt\n>>> Testing : _español_D07 [sufijo_-ita].txt\n>>> Testing : _español_D08 [sufijo_-ito].txt\n>>> Testing : _español_D09 [sufijo_-mente].txt\n>>> Testing : _español_D10 [sufijo_-miento].txt\n>>> Testing : _español_E01 [pais - capital].txt\n",
      ">>> Testing : _español_E02 [pais - idioma].txt\n",
      ">>> Testing : _español_E04 [nombre - nacionalidad].txt\n",
      ">>> Testing : _español_E05 [nombre - ocupacion].txt\n>>> Testing : _español_E10 [hombre - mujer].txt\n",
      ">>> Testing : _español_E11 [pais - gentilicio].txt\n",
      ">>> Testing : _español_I067 [gerund - parti].txt\n",
      ">>> Testing : _español_I096 [inf - gerund].txt\n",
      ">>> Testing : _español_I097 [inf - parti].txt\n",
      ">>> Testing : _español_I162 [pret_perf__1_sing - futuro_simp__1_sing].txt\n>>> Testing : _español_I254 [presente__1_sing - futuro_simp__1_sing].txt\n>>> Testing : _español_I260 [presente__1_sing - pret_perf__1_sing].txt\n>>> Testing : _español_I265 [presente__1_sing - presente__1_plur].txt\n>>> Testing : _español_I269 [presente__1_sing - presente__3_sing].txt\n>>> Testing : _español_I466 [sustantivo - plural(s)].txt\n",
      ">>> Testing : _español_I467 [sustantivo - plural(es)].txt\n",
      ">>> Testing : _español_L07 [sinonimos - intensidad].txt\n",
      ">>> Testing : _español_L08 [sinonimos - exacto].txt\n",
      ">>> Testing : _español_L09 [antonimos - grado].txt\n",
      ">>> Testing : _español_L10 [antonimos - binario].txt\n",
      ">>> Results\n    ['_español_D01 [prefijo_anti-].txt', [['3CosAdd', 'Nan'], ['3CosMul', 'Nan'], ['PairDir', 'Nan'], ['cos', 'Nan'], ['euc', 'Nan'], ['ncos', 'Nan'], ['neuc', 'Nan']]]\n    ['_español_D02 [prefijo_des-].txt', [['3CosAdd', '0.0'], ['3CosMul', '0.0'], ['PairDir', '0.0'], ['cos', '0.03438052783409754'], ['euc', '0.3006201187769572'], ['ncos', '-1.0'], ['neuc', '0.0']]]\n    ['_español_D03 [prefijo_in-].txt', [['3CosAdd', '0.16666666666666666'], ['3CosMul', '0.16666666666666666'], ['PairDir', '0.0'], ['cos', '0.08587240427732468'], ['euc', '0.3062777916590373'], ['ncos', '-1.0'], ['neuc', '0.0']]]\n    ['_español_D04 [sufijo_-able].txt', [['3CosAdd', '0.0'], ['3CosMul', '0.0'], ['PairDir', '0.0'], ['cos', '0.09717341636617978'], ['euc', '0.32817838589350384'], ['ncos', '-1.0'], ['neuc', '0.0']]]\n    ['_español_D05 [sufijo_-ción].txt', [['3CosAdd', '0.36666666666666664'], ['3CosMul', '0.3333333333333333'], ['PairDir', '0.0'], ['cos', '0.08995332634076476'], ['euc', '0.3238248586654663'], ['ncos', '-1.0'], ['neuc', '0.0']]]\n    ['_español_D06 [sufijo_-ísimo].txt', [['3CosAdd', 'Nan'], ['3CosMul', 'Nan'], ['PairDir', 'Nan'], ['cos', 'Nan'], ['euc', 'Nan'], ['ncos', 'Nan'], ['neuc', 'Nan']]]\n    ['_español_D07 [sufijo_-ita].txt', [['3CosAdd', 'Nan'], ['3CosMul', 'Nan'], ['PairDir', 'Nan'], ['cos', 'Nan'], ['euc', 'Nan'], ['ncos', 'Nan'], ['neuc', 'Nan']]]\n    ['_español_D08 [sufijo_-ito].txt', [['3CosAdd', 'Nan'], ['3CosMul', 'Nan'], ['PairDir', 'Nan'], ['cos', 'Nan'], ['euc', 'Nan'], ['ncos', 'Nan'], ['neuc', 'Nan']]]\n    ['_español_D09 [sufijo_-mente].txt', [['3CosAdd', '0.0'], ['3CosMul', '0.0'], ['PairDir', '0.0'], ['cos', '0.10683042649179697'], ['euc', '0.3238373001416524'], ['ncos', '-1.0'], ['neuc', '0.0']]]\n    ['_español_D10 [sufijo_-miento].txt', [['3CosAdd', '0.16666666666666666'], ['3CosMul', '0.16666666666666666'], ['PairDir', '0.0'], ['cos', '0.18451284989714622'], ['euc', '0.3622557918230693'], ['ncos', '-1.0'], ['neuc', '0.0']]]\n    ['_español_E01 [pais - capital].txt', [['3CosAdd', '0.9066666666666666'], ['3CosMul', '0.8916666666666667'], ['PairDir', '0.0'], ['cos', '0.4730623995761077'], ['euc', '0.48628802051146824'], ['ncos', '-1.0'], ['neuc', '0.0']]]\n    ['_español_E02 [pais - idioma].txt', [['3CosAdd', '0.31666666666666665'], ['3CosMul', '0.366025641025641'], ['PairDir', '0.0'], ['cos', '0.450629001416457'], ['euc', '0.479492291330527'], ['ncos', '-1.0'], ['neuc', '0.0']]]\n    ['_español_E04 [nombre - nacionalidad].txt', [['3CosAdd', '0.37777777777777777'], ['3CosMul', '0.35555555555555557'], ['PairDir', '0.0'], ['cos', '0.28605845007631514'], ['euc', '0.4015874180528853'], ['ncos', '-1.0'], ['neuc', '0.0']]]\n    ['_español_E05 [nombre - ocupacion].txt', [['3CosAdd', '0.25'], ['3CosMul', '0.16666666666666666'], ['PairDir', '0.0'], ['cos', '0.43032868454853695'], ['euc', '0.47543053328990936'], ['ncos', '-1.0'], ['neuc', '0.0']]]\n    ['_español_E10 [hombre - mujer].txt', [['3CosAdd', '0.7973684210526316'], ['3CosMul', '0.8052631578947368'], ['PairDir', '0.0'], ['cos', '0.3470218585405842'], ['euc', '0.4197471628063603'], ['ncos', '-1.0'], ['neuc', '0.0']]]\n    ['_español_E11 [pais - gentilicio].txt', [['3CosAdd', '0.9454545454545454'], ['3CosMul', '0.9272727272727272'], ['PairDir', '0.0'], ['cos', '0.49875690774484116'], ['euc', '0.4990362438288602'], ['ncos', '-1.0'], ['neuc', '0.0']]]\n    ['_español_I067 [gerund - parti].txt', [['3CosAdd', '0.5052631578947369'], ['3CosMul', '0.5763157894736842'], ['PairDir', '0.0'], ['cos', '0.34141909584010904'], ['euc', '0.4234468019322345'], ['ncos', '-1.0'], ['neuc', '0.0']]]\n    ['_español_I096 [inf - gerund].txt', [['3CosAdd', '0.6833333333333333'], ['3CosMul', '0.7'], ['PairDir', '0.0'], ['cos', '0.42863092894355453'], ['euc', '0.46823735485474266'], ['ncos', '-1.0'], ['neuc', '0.0']]]\n    ['_español_I097 [inf - parti].txt', [['3CosAdd', '0.4415322580645161'], ['3CosMul', '0.48185483870967744'], ['PairDir', '0.0'], ['cos', '0.267341710095054'], ['euc', '0.39190361288286024'], ['ncos', '-1.0'], ['neuc', '0.0']]]\n    ['_español_I162 [pret_perf__1_sing - futuro_simp__1_sing].txt', [['3CosAdd', 'Nan'], ['3CosMul', 'Nan'], ['PairDir', 'Nan'], ['cos', 'Nan'], ['euc', 'Nan'], ['ncos', 'Nan'], ['neuc', 'Nan']]]\n    ['_español_I254 [presente__1_sing - futuro_simp__1_sing].txt', [['3CosAdd', 'Nan'], ['3CosMul', 'Nan'], ['PairDir', 'Nan'], ['cos', 'Nan'], ['euc', 'Nan'], ['ncos', 'Nan'], ['neuc', 'Nan']]]\n    ['_español_I260 [presente__1_sing - pret_perf__1_sing].txt', [['3CosAdd', 'Nan'], ['3CosMul', 'Nan'], ['PairDir', 'Nan'], ['cos', 'Nan'], ['euc', 'Nan'], ['ncos', 'Nan'], ['neuc', 'Nan']]]\n    ['_español_I265 [presente__1_sing - presente__1_plur].txt', [['3CosAdd', '0.5'], ['3CosMul', '0.5'], ['PairDir', '0.0'], ['cos', '0.38361795743306476'], ['euc', '0.43925029039382935'], ['ncos', '-1.0'], ['neuc', '0.0']]]\n    ['_español_I269 [presente__1_sing - presente__3_sing].txt', [['3CosAdd', '0.047619047619047616'], ['3CosMul', '0.023809523809523808'], ['PairDir', '0.0'], ['cos', '0.07249376772060281'], ['euc', '0.31285217830113005'], ['ncos', '-1.0'], ['neuc', '0.0']]]\n    ['_español_I466 [sustantivo - plural(s)].txt', [['3CosAdd', '0.5036997885835095'], ['3CosMul', '0.49365750528541225'], ['PairDir', '0.0'], ['cos', '0.11041685078638516'], ['euc', '0.33154426281976396'], ['ncos', '-1.0'], ['neuc', '0.0']]]\n    ['_español_I467 [sustantivo - plural(es)].txt', [['3CosAdd', '0.5053981106612686'], ['3CosMul', '0.4993252361673414'], ['PairDir', '0.0'], ['cos', '0.10039369548287433'], ['euc', '0.32826725871135026'], ['ncos', '-1.0'], ['neuc', '0.0']]]\n    ['_español_L07 [sinonimos - intensidad].txt', [['3CosAdd', '0.2679738562091503'], ['3CosMul', '0.24836601307189543'], ['PairDir', '0.0'], ['cos', '0.1160480940632303'], ['euc', '0.32985030085432765'], ['ncos', '-1.0'], ['neuc', '0.0']]]\n    ['_español_L08 [sinonimos - exacto].txt', [['3CosAdd', '0.3123076923076923'], ['3CosMul', '0.28615384615384615'], ['PairDir', '0.0'], ['cos', '0.11031474004014363'], ['euc', '0.32904367272670454'], ['ncos', '-1.0'], ['neuc', '0.0']]]\n    ['_español_L09 [antonimos - grado].txt', [['3CosAdd', '0.21861471861471862'], ['3CosMul', '0.18614718614718614'], ['PairDir', '0.0'], ['cos', '0.04905740534038801'], ['euc', '0.3066135094021306'], ['ncos', '-1.0'], ['neuc', '0.0']]]\n    ['_español_L10 [antonimos - binario].txt', [['3CosAdd', '0.30317460317460315'], ['3CosMul', '0.27380952380952384'], ['PairDir', '0.0'], ['cos', '0.025103098570650583'], ['euc', '0.2919056253300773'], ['ncos', '-1.0'], ['neuc', '0.0']]]\n>>> Testing _w2v_sbwc.txt\n\n>>> Cargando vectores...",
      "listo\n\n>>> Testing : _español_D01 [prefijo_anti-].txt\n>>> Testing : _español_D02 [prefijo_des-].txt\n>>> Testing : _español_D03 [prefijo_in-].txt\n>>> Testing : _español_D04 [sufijo_-able].txt\n>>> Testing : _español_D05 [sufijo_-ción].txt\n>>> Testing : _español_D06 [sufijo_-ísimo].txt\n>>> Testing : _español_D07 [sufijo_-ita].txt\n",
      ">>> Testing : _español_D08 [sufijo_-ito].txt\n>>> Testing : _español_D09 [sufijo_-mente].txt\n>>> Testing : _español_D10 [sufijo_-miento].txt\n>>> Testing : _español_E01 [pais - capital].txt\n>>> Testing : _español_E02 [pais - idioma].txt\n>>> Testing : _español_E04 [nombre - nacionalidad].txt\n>>> Testing : _español_E05 [nombre - ocupacion].txt\n>>> Testing : _español_E10 [hombre - mujer].txt\n",
      ">>> Testing : _español_E11 [pais - gentilicio].txt\n>>> Testing : _español_I067 [gerund - parti].txt\n",
      ">>> Testing : _español_I096 [inf - gerund].txt\n",
      ">>> Testing : _español_I097 [inf - parti].txt\n",
      ">>> Testing : _español_I162 [pret_perf__1_sing - futuro_simp__1_sing].txt\n>>> Testing : _español_I254 [presente__1_sing - futuro_simp__1_sing].txt\n>>> Testing : _español_I260 [presente__1_sing - pret_perf__1_sing].txt\n>>> Testing : _español_I265 [presente__1_sing - presente__1_plur].txt\n>>> Testing : _español_I269 [presente__1_sing - presente__3_sing].txt\n>>> Testing : _español_I466 [sustantivo - plural(s)].txt\n",
      ">>> Testing : _español_I467 [sustantivo - plural(es)].txt\n",
      ">>> Testing : _español_L07 [sinonimos - intensidad].txt\n",
      ">>> Testing : _español_L08 [sinonimos - exacto].txt\n",
      ">>> Testing : _español_L09 [antonimos - grado].txt\n",
      ">>> Testing : _español_L10 [antonimos - binario].txt\n",
      ">>> Results\n    ['_español_D01 [prefijo_anti-].txt', [['3CosAdd', 'Nan'], ['3CosMul', 'Nan'], ['PairDir', 'Nan'], ['cos', 'Nan'], ['euc', 'Nan'], ['ncos', 'Nan'], ['neuc', 'Nan']]]\n    ['_español_D02 [prefijo_des-].txt', [['3CosAdd', '0.0'], ['3CosMul', '0.0'], ['PairDir', '0.0'], ['cos', '0.06480084359645844'], ['euc', '0.31258314847946167'], ['ncos', '-1.0'], ['neuc', '0.0']]]\n    ['_español_D03 [prefijo_in-].txt', [['3CosAdd', '0.16666666666666666'], ['3CosMul', '0.16666666666666666'], ['PairDir', '0.0'], ['cos', '-0.01224709302186966'], ['euc', '0.273900310198466'], ['ncos', '-1.0'], ['neuc', '0.0']]]\n    ['_español_D04 [sufijo_-able].txt', [['3CosAdd', '0.0'], ['3CosMul', '0.0'], ['PairDir', '0.0'], ['cos', '0.16594050824642181'], ['euc', '0.3522183299064636'], ['ncos', '-1.0'], ['neuc', '0.0']]]\n    ['_español_D05 [sufijo_-ción].txt', [['3CosAdd', '0.45'], ['3CosMul', '0.45'], ['PairDir', '0.0'], ['cos', '0.1262299135327339'], ['euc', '0.33721410632133486'], ['ncos', '-1.0'], ['neuc', '0.0']]]\n    ['_español_D06 [sufijo_-ísimo].txt', [['3CosAdd', 'Nan'], ['3CosMul', 'Nan'], ['PairDir', 'Nan'], ['cos', 'Nan'], ['euc', 'Nan'], ['ncos', 'Nan'], ['neuc', 'Nan']]]\n    ['_español_D07 [sufijo_-ita].txt', [['3CosAdd', 'Nan'], ['3CosMul', 'Nan'], ['PairDir', 'Nan'], ['cos', 'Nan'], ['euc', 'Nan'], ['ncos', 'Nan'], ['neuc', 'Nan']]]\n    ['_español_D08 [sufijo_-ito].txt', [['3CosAdd', 'Nan'], ['3CosMul', 'Nan'], ['PairDir', 'Nan'], ['cos', 'Nan'], ['euc', 'Nan'], ['ncos', 'Nan'], ['neuc', 'Nan']]]\n    ['_español_D09 [sufijo_-mente].txt', [['3CosAdd', '0.16666666666666666'], ['3CosMul', '0.16666666666666666'], ['PairDir', '0.0'], ['cos', '0.10407323638598125'], ['euc', '0.3256973425547282'], ['ncos', '-1.0'], ['neuc', '0.0']]]\n    ['_español_D10 [sufijo_-miento].txt', [['3CosAdd', '0.0'], ['3CosMul', '0.16666666666666666'], ['PairDir', '0.0'], ['cos', '0.1352371796965599'], ['euc', '0.34183307488759357'], ['ncos', '-1.0'], ['neuc', '0.0']]]\n    ['_español_E01 [pais - capital].txt', [['3CosAdd', 'Nan'], ['3CosMul', 'Nan'], ['PairDir', 'Nan'], ['cos', 'Nan'], ['euc', 'Nan'], ['ncos', 'Nan'], ['neuc', 'Nan']]]\n    ['_español_E02 [pais - idioma].txt', [['3CosAdd', '0.0'], ['3CosMul', '0.0'], ['PairDir', '0.0'], ['cos', '0.23344646394252777'], ['euc', '0.3808025121688843'], ['ncos', '-1.0'], ['neuc', '0.0']]]\n    ['_español_E04 [nombre - nacionalidad].txt', [['3CosAdd', 'Nan'], ['3CosMul', 'Nan'], ['PairDir', 'Nan'], ['cos', 'Nan'], ['euc', 'Nan'], ['ncos', 'Nan'], ['neuc', 'Nan']]]\n    ['_español_E05 [nombre - ocupacion].txt', [['3CosAdd', 'Nan'], ['3CosMul', 'Nan'], ['PairDir', 'Nan'], ['cos', 'Nan'], ['euc', 'Nan'], ['ncos', 'Nan'], ['neuc', 'Nan']]]\n    ['_español_E10 [hombre - mujer].txt', [['3CosAdd', '0.8625'], ['3CosMul', '0.8666666666666667'], ['PairDir', '0.0'], ['cos', '0.3740070259043326'], ['euc', '0.43128046169877055'], ['ncos', '-1.0'], ['neuc', '0.0']]]\n    ['_español_E11 [pais - gentilicio].txt', [['3CosAdd', '0.0'], ['3CosMul', '0.0'], ['PairDir', '0.0'], ['cos', '0.16934746503829956'], ['euc', '0.3199548125267029'], ['ncos', '-1.0'], ['neuc', '0.0']]]\n    ['_español_I067 [gerund - parti].txt', [['3CosAdd', '0.6139705882352942'], ['3CosMul', '0.6948529411764706'], ['PairDir', '0.0'], ['cos', '0.39170134774244886'], ['euc', '0.4484138320035794'], ['ncos', '-1.0'], ['neuc', '0.0']]]\n    ['_español_I096 [inf - gerund].txt', [['3CosAdd', '0.9714285714285714'], ['3CosMul', '0.9904761904761905'], ['PairDir', '0.0'], ['cos', '0.45199645289352963'], ['euc', '0.4786303738753001'], ['ncos', '-1.0'], ['neuc', '0.0']]]\n    ['_español_I097 [inf - parti].txt', [['3CosAdd', '0.48185483870967744'], ['3CosMul', '0.5685483870967742'], ['PairDir', '0.0'], ['cos', '0.30872364231923244'], ['euc', '0.41281457593844784'], ['ncos', '-1.0'], ['neuc', '0.0']]]\n    ['_español_I162 [pret_perf__1_sing - futuro_simp__1_sing].txt', [['3CosAdd', 'Nan'], ['3CosMul', 'Nan'], ['PairDir', 'Nan'], ['cos', 'Nan'], ['euc', 'Nan'], ['ncos', 'Nan'], ['neuc', 'Nan']]]\n    ['_español_I254 [presente__1_sing - futuro_simp__1_sing].txt', [['3CosAdd', 'Nan'], ['3CosMul', 'Nan'], ['PairDir', 'Nan'], ['cos', 'Nan'], ['euc', 'Nan'], ['ncos', 'Nan'], ['neuc', 'Nan']]]\n    ['_español_I260 [presente__1_sing - pret_perf__1_sing].txt', [['3CosAdd', 'Nan'], ['3CosMul', 'Nan'], ['PairDir', 'Nan'], ['cos', 'Nan'], ['euc', 'Nan'], ['ncos', 'Nan'], ['neuc', 'Nan']]]\n    ['_español_I265 [presente__1_sing - presente__1_plur].txt', [['3CosAdd', '1.0'], ['3CosMul', '1.0'], ['PairDir', '0.0'], ['cos', '0.6725665330886841'], ['euc', '0.5829509496688843'], ['ncos', '-1.0'], ['neuc', '0.0']]]\n    ['_español_I269 [presente__1_sing - presente__3_sing].txt', [['3CosAdd', '0.03333333333333333'], ['3CosMul', '0.0'], ['PairDir', '0.0'], ['cos', '0.07958527499188979'], ['euc', '0.3198867638905843'], ['ncos', '-1.0'], ['neuc', '0.0']]]\n    ['_español_I466 [sustantivo - plural(s)].txt', [['3CosAdd', '0.5016611295681063'], ['3CosMul', '0.5415282392026578'], ['PairDir', '0.0'], ['cos', '0.12565707401758933'], ['euc', '0.33864996645801754'], ['ncos', '-1.0'], ['neuc', '0.0']]]\n    ['_español_I467 [sustantivo - plural(es)].txt', [['3CosAdd', '0.5555555555555556'], ['3CosMul', '0.5952380952380952'], ['PairDir', '0.0'], ['cos', '0.12899397873878202'], ['euc', '0.3375686658753289'], ['ncos', '-1.0'], ['neuc', '0.0']]]\n    ['_español_L07 [sinonimos - intensidad].txt', [['3CosAdd', '0.29044117647058826'], ['3CosMul', '0.27941176470588236'], ['PairDir', '0.0'], ['cos', '0.09459728824046632'], ['euc', '0.32259610602084327'], ['ncos', '-1.0'], ['neuc', '0.0']]]\n    ['_español_L08 [sinonimos - exacto].txt', [['3CosAdd', '0.28804347826086957'], ['3CosMul', '0.2898550724637681'], ['PairDir', '0.0'], ['cos', '0.08563507961482991'], ['euc', '0.3167154113019722'], ['ncos', '-1.0'], ['neuc', '0.0']]]\n    ['_español_L09 [antonimos - grado].txt', [['3CosAdd', '0.21212121212121213'], ['3CosMul', '0.22077922077922077'], ['PairDir', '0.0'], ['cos', '0.0452246375054875'], ['euc', '0.303962077929344'], ['ncos', '-1.0'], ['neuc', '0.0']]]\n    ['_español_L10 [antonimos - binario].txt', [['3CosAdd', '0.36185383244206776'], ['3CosMul', '0.3413547237076649'], ['PairDir', '0.0'], ['cos', '0.012707219175496777'], ['euc', '0.2851244294600903'], ['ncos', '-1.0'], ['neuc', '0.0']]]\n"
     ],
     "output_type": "stream"
    }
   ],
   "source": [
    "import AnalogyTest\n",
    "\n",
    "# Test de analogias\n",
    "print(\">>> Test de analogias\\n\")\n",
    "for embedding in embedding_name_list:\n",
    "    print(\">>> Testing \" + embedding + \"\\n\")\n",
    "    \n",
    "    print(\">>> Cargando vectores...\", end='')\n",
    "    wordvector = get_wordvector(embedding, 10000)\n",
    "    print(\"listo\\n\")\n",
    "    \n",
    "    AnalogyTest.analogyTest(wordvector, embedding.split('.')[0], all_score=True)\n"
   ],
   "metadata": {
    "collapsed": false,
    "pycharm": {
     "name": "#%%\n",
     "is_executing": false
    }
   }
  },
  {
   "cell_type": "code",
   "execution_count": 5,
   "outputs": [],
   "source": [
    "import CrossMatchTest\n",
    "\n",
    "# Test de cross match\n"
   ],
   "metadata": {
    "collapsed": false,
    "pycharm": {
     "name": "#%%\n",
     "is_executing": false
    }
   }
  },
  {
   "cell_type": "code",
   "execution_count": 6,
   "outputs": [],
   "source": [
    "import OutlierDetectionTest\n",
    "\n",
    "# Test de outlier detection\n",
    "print(\">>> Test de outlier detection\\n\")\n",
    "for embedding in embedding_name_list:\n",
    "    print(\">>> Testing \" + embedding + \"\\n\")\n",
    "    \n",
    "    print(\">>> Cargando vectores...\", end='')\n",
    "    wordvector = get_wordvector(embedding, 10000)\n",
    "    print(\"listo\\n\")\n",
    "    \n",
    "    OutlierDetectionTest.outlierDetectionTest(embedding, embedding.split('.')[0])"
   ],
   "metadata": {
    "collapsed": false,
    "pycharm": {
     "name": "#%%\n",
     "is_executing": false
    }
   }
  }
 ],
 "metadata": {
  "kernelspec": {
   "display_name": "Python 3",
   "language": "python",
   "name": "python3"
  },
  "language_info": {
   "codemirror_mode": {
    "name": "ipython",
    "version": 2
   },
   "file_extension": ".py",
   "mimetype": "text/x-python",
   "name": "python",
   "nbconvert_exporter": "python",
   "pygments_lexer": "ipython2",
   "version": "2.7.6"
  },
  "pycharm": {
   "stem_cell": {
    "cell_type": "raw",
    "source": [],
    "metadata": {
     "collapsed": false
    }
   }
  }
 },
 "nbformat": 4,
 "nbformat_minor": 0
}