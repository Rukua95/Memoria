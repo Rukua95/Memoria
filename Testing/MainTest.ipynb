{
 "cells": [
  {
   "cell_type": "code",
   "execution_count": 1,
   "metadata": {
    "collapsed": true,
    "pycharm": {
     "is_executing": false
    }
   },
   "outputs": [],
   "source": [
    "import os\n",
    "import io\n",
    "import json\n",
    "\n",
    "import numpy as np\n",
    "\n",
    "from scipy.stats import spearmanr\n",
    "from gensim.models.keyedvectors import KeyedVectors\n",
    "\n",
    "from SimilarityTest import *\n",
    "from AnalogyTest import *"
   ]
  },
  {
   "cell_type": "code",
   "execution_count": 2,
   "outputs": [
    {
     "name": "stdout",
     "text": [
      "Embeddings a usar:\n > _fasttext_sbwc.vec\n > _fasttext_suc.vec\n > _fasttext_wiki.vec\n > _glove_sbwc.vec\n > _w2v_sbwc.txt\n"
     ],
     "output_type": "stream"
    }
   ],
   "source": [
    "# Path a carpeta principal\n",
    "PATH = 'D:\\Documents\\Memoria - Eval. Word Embeddings\\\\'\n",
    "\n",
    "# Path a carpeta con los embeddings\n",
    "embeddings_path = PATH + 'Embeddings\\\\'\n",
    "\n",
    "# Lista con los nombres de los archivos de los embeddings\n",
    "embeddings = os.listdir(embeddings_path)\n",
    "\n",
    "# Path a carpeta contenedora de dataset de similaridad (semeval17 y rg65)\n",
    "similarity_dataset = PATH + 'Data\\Similarity\\\\'\n",
    "\n",
    "print(\"Embeddings a usar:\")\n",
    "for s in embeddings:\n",
    "    print(\" > \" + s)\n",
    "\n",
    "def get_wordvector(file, cant=None):\n",
    "    wordvector_file = embeddings_path + file\n",
    "\n",
    "    return KeyedVectors.load_word2vec_format(wordvector_file, limit=cant)"
   ],
   "metadata": {
    "collapsed": false,
    "pycharm": {
     "name": "#%%\n",
     "is_executing": false
    }
   }
  },
  {
   "cell_type": "code",
   "execution_count": 3,
   "outputs": [
    {
     "name": "stdout",
     "text": [
      "Carga completa\n"
     ],
     "output_type": "stream"
    }
   ],
   "source": [
    "# Testing \n",
    "wordvectors_file_vec = embeddings_path + embeddings[1]\n",
    "#cantidad = 1000\n",
    "cantidad = None\n",
    "wordvectors = get_wordvector(embeddings[1], cantidad)\n",
    "\n",
    "print('Carga completa')\n"
   ],
   "metadata": {
    "collapsed": false,
    "pycharm": {
     "name": "#%%\n",
     "is_executing": false
    }
   }
  },
  {
   "cell_type": "code",
   "execution_count": 1,
   "outputs": [
    {
     "traceback": [
      "\u001b[1;31m---------------------------------------------------------------------------\u001b[0m",
      "\u001b[1;31mNameError\u001b[0m                                 Traceback (most recent call last)",
      "\u001b[1;32m<ipython-input-1-0b6ec7d8b90f>\u001b[0m in \u001b[0;36m<module>\u001b[1;34m\u001b[0m\n\u001b[0;32m     20\u001b[0m \u001b[1;33m\u001b[0m\u001b[0m\n\u001b[0;32m     21\u001b[0m \u001b[1;31m# Test de similaridad\u001b[0m\u001b[1;33m\u001b[0m\u001b[1;33m\u001b[0m\u001b[1;33m\u001b[0m\u001b[0m\n\u001b[1;32m---> 22\u001b[1;33m \u001b[0msimilarityTest\u001b[0m\u001b[1;33m(\u001b[0m\u001b[1;33m)\u001b[0m\u001b[1;33m\u001b[0m\u001b[1;33m\u001b[0m\u001b[0m\n\u001b[0m\u001b[0;32m     23\u001b[0m \u001b[1;33m\u001b[0m\u001b[0m\n\u001b[0;32m     24\u001b[0m \u001b[1;33m\u001b[0m\u001b[0m\n",
      "\u001b[1;32m<ipython-input-1-0b6ec7d8b90f>\u001b[0m in \u001b[0;36msimilarityTest\u001b[1;34m()\u001b[0m\n\u001b[0;32m      1\u001b[0m \u001b[1;32mdef\u001b[0m \u001b[0msimilarityTest\u001b[0m\u001b[1;33m(\u001b[0m\u001b[1;33m)\u001b[0m\u001b[1;33m:\u001b[0m\u001b[1;33m\u001b[0m\u001b[1;33m\u001b[0m\u001b[0m\n\u001b[0;32m      2\u001b[0m     \u001b[0mresults\u001b[0m \u001b[1;33m=\u001b[0m \u001b[1;33m{\u001b[0m\u001b[1;33m}\u001b[0m\u001b[1;33m\u001b[0m\u001b[1;33m\u001b[0m\u001b[0m\n\u001b[1;32m----> 3\u001b[1;33m     \u001b[1;32mfor\u001b[0m \u001b[0mname\u001b[0m \u001b[1;32min\u001b[0m \u001b[0membeddings\u001b[0m\u001b[1;33m:\u001b[0m\u001b[1;33m\u001b[0m\u001b[1;33m\u001b[0m\u001b[0m\n\u001b[0m\u001b[0;32m      4\u001b[0m         \u001b[0mresults\u001b[0m\u001b[1;33m[\u001b[0m\u001b[0mname\u001b[0m\u001b[1;33m]\u001b[0m \u001b[1;33m=\u001b[0m \u001b[1;33m{\u001b[0m\u001b[1;33m}\u001b[0m\u001b[1;33m\u001b[0m\u001b[1;33m\u001b[0m\u001b[0m\n\u001b[0;32m      5\u001b[0m         \u001b[0mprint\u001b[0m\u001b[1;33m(\u001b[0m\u001b[1;34m\"#################################################\"\u001b[0m\u001b[1;33m)\u001b[0m\u001b[1;33m\u001b[0m\u001b[1;33m\u001b[0m\u001b[0m\n",
      "\u001b[1;31mNameError\u001b[0m: name 'embeddings' is not defined"
     ],
     "ename": "NameError",
     "evalue": "name 'embeddings' is not defined",
     "output_type": "error"
    }
   ],
   "source": [
    "def similarityTest():\n",
    "    results = {}\n",
    "    for name in embeddings:\n",
    "        results[name] = {}\n",
    "        print(\"#################################################\")\n",
    "        print(\"=> Cargando \" + name)\n",
    "        wordvector = get_wordvector(name)\n",
    "    \n",
    "        print(\"=> Testing \" + name)\n",
    "        score = get_wordsim_scores(similarity_dataset, wordvector)\n",
    "        print(\"=> Embeddings \" + name + \" score:\" + str(score))\n",
    "    \n",
    "        results[name] = score\n",
    "    \n",
    "        del wordvector\n",
    "        \n",
    "    \n",
    "    with open(PATH + \"Data\\\\Similarity_results.txt\", 'w') as file:\n",
    "        file.write(json.dumps(results, sort_keys=True, indent=4))\n",
    "\n",
    "# Test de similaridad\n",
    "similarityTest()\n"
   ],
   "metadata": {
    "collapsed": false,
    "pycharm": {
     "name": "#%%\n",
     "is_executing": false
    }
   }
  },
  {
   "cell_type": "code",
   "execution_count": 3,
   "outputs": [
    {
     "name": "stdout",
     "text": [
      "#################################################\n=> Cargando _fasttext_sbwc.vec\n",
      "\n=> Testing _fasttext_sbwc.vec\nD:\\Documents\\Memoria - Eval. Word Embeddings\\Data\\BATS_español\\Derivacion\nD:\\Documents\\Memoria - Eval. Word Embeddings\\Data\\BATS_español\\Enciclopedia\nD:\\Documents\\Memoria - Eval. Word Embeddings\\Data\\BATS_español\\Inflexion\nD:\\Documents\\Memoria - Eval. Word Embeddings\\Data\\BATS_español\\Lexicografico\nResults saved:\n['_fasttext_sbwc.vec__español_D01 [prefijo_anti-].txt', '_fasttext_sbwc.vec__español_D02 [prefijo_des-].txt', '_fasttext_sbwc.vec__español_D03 [prefijo_in-].txt', '_fasttext_sbwc.vec__español_D04 [sufijo_-able].txt', '_fasttext_sbwc.vec__español_D05 [sufijo_-ción].txt', '_fasttext_sbwc.vec__español_D06 [sufijo_-ísimo].txt', '_fasttext_sbwc.vec__español_D07 [sufijo_-ita].txt', '_fasttext_sbwc.vec__español_D08 [sufijo_-ito].txt', '_fasttext_sbwc.vec__español_D09 [sufijo_-mente].txt', '_fasttext_sbwc.vec__español_D10 [sufijo_-miento].txt', '_fasttext_sbwc.vec__español_E01 [pais - capital].txt', '_fasttext_sbwc.vec__español_E02 [pais - idioma].txt', '_fasttext_sbwc.vec__español_E04 [nombre - nacionalidad].txt', '_fasttext_sbwc.vec__español_E05 [nombre - ocupacion].txt', '_fasttext_sbwc.vec__español_E10 [hombre - mujer].txt', '_fasttext_sbwc.vec__español_E11 [pais - gentilicio].txt', '_fasttext_sbwc.vec__español_I067 [gerund - parti].txt', '_fasttext_sbwc.vec__español_I096 [inf - gerund].txt', '_fasttext_sbwc.vec__español_I097 [inf - parti].txt', '_fasttext_sbwc.vec__español_I162 [pret_perf__1_sing - futuro_simp__1_sing].txt', '_fasttext_sbwc.vec__español_I254 [presente__1_sing - futuro_simp__1_sing].txt', '_fasttext_sbwc.vec__español_I260 [presente__1_sing - pret_perf__1_sing].txt', '_fasttext_sbwc.vec__español_I265 [presente__1_sing - presente__1_plur].txt', '_fasttext_sbwc.vec__español_I269 [presente__1_sing - presente__3_sing].txt', '_fasttext_sbwc.vec__español_I466 [sustantivo - plural(s)].txt', '_fasttext_sbwc.vec__español_I467 [sustantivo - plural(es)].txt', '_fasttext_sbwc.vec__español_L07 [sinonimos - intensidad].txt', '_fasttext_sbwc.vec__español_L08 [sinonimos - exacto].txt', '_fasttext_sbwc.vec__español_L09 [antonimos - grado].txt', '_fasttext_sbwc.vec__español_L10 [antonimos - binario].txt']\nTest files: \n[]\n\n   End of test\n",
      "#################################################\n=> Cargando _fasttext_suc.vec\n",
      "\n=> Testing _fasttext_suc.vec\nD:\\Documents\\Memoria - Eval. Word Embeddings\\Data\\BATS_español\\Derivacion\nD:\\Documents\\Memoria - Eval. Word Embeddings\\Data\\BATS_español\\Enciclopedia\nD:\\Documents\\Memoria - Eval. Word Embeddings\\Data\\BATS_español\\Inflexion\nD:\\Documents\\Memoria - Eval. Word Embeddings\\Data\\BATS_español\\Lexicografico\nResults saved:\n['_fasttext_suc.vec__español_D01 [prefijo_anti-].txt', '_fasttext_suc.vec__español_D02 [prefijo_des-].txt', '_fasttext_suc.vec__español_D03 [prefijo_in-].txt', '_fasttext_suc.vec__español_D04 [sufijo_-able].txt', '_fasttext_suc.vec__español_D05 [sufijo_-ción].txt', '_fasttext_suc.vec__español_D06 [sufijo_-ísimo].txt', '_fasttext_suc.vec__español_D07 [sufijo_-ita].txt', '_fasttext_suc.vec__español_D08 [sufijo_-ito].txt', '_fasttext_suc.vec__español_D09 [sufijo_-mente].txt', '_fasttext_suc.vec__español_D10 [sufijo_-miento].txt', '_fasttext_suc.vec__español_E01 [pais - capital].txt', '_fasttext_suc.vec__español_E02 [pais - idioma].txt', '_fasttext_suc.vec__español_E04 [nombre - nacionalidad].txt', '_fasttext_suc.vec__español_E05 [nombre - ocupacion].txt', '_fasttext_suc.vec__español_E10 [hombre - mujer].txt', '_fasttext_suc.vec__español_E11 [pais - gentilicio].txt', '_fasttext_suc.vec__español_I067 [gerund - parti].txt', '_fasttext_suc.vec__español_I096 [inf - gerund].txt', '_fasttext_suc.vec__español_I097 [inf - parti].txt', '_fasttext_suc.vec__español_I162 [pret_perf__1_sing - futuro_simp__1_sing].txt', '_fasttext_suc.vec__español_I254 [presente__1_sing - futuro_simp__1_sing].txt', '_fasttext_suc.vec__español_I260 [presente__1_sing - pret_perf__1_sing].txt', '_fasttext_suc.vec__español_I265 [presente__1_sing - presente__1_plur].txt', '_fasttext_suc.vec__español_I269 [presente__1_sing - presente__3_sing].txt', '_fasttext_suc.vec__español_I466 [sustantivo - plural(s)].txt', '_fasttext_suc.vec__español_I467 [sustantivo - plural(es)].txt', '_fasttext_suc.vec__español_L07 [sinonimos - intensidad].txt', '_fasttext_suc.vec__español_L08 [sinonimos - exacto].txt', '_fasttext_suc.vec__español_L09 [antonimos - grado].txt', '_fasttext_suc.vec__español_L10 [antonimos - binario].txt']\nTest files: \n[]\n\n   End of test\n",
      "#################################################\n=> Cargando _fasttext_wiki.vec\n",
      "\n=> Testing _fasttext_wiki.vec\nD:\\Documents\\Memoria - Eval. Word Embeddings\\Data\\BATS_español\\Derivacion\nD:\\Documents\\Memoria - Eval. Word Embeddings\\Data\\BATS_español\\Enciclopedia\nD:\\Documents\\Memoria - Eval. Word Embeddings\\Data\\BATS_español\\Inflexion\nD:\\Documents\\Memoria - Eval. Word Embeddings\\Data\\BATS_español\\Lexicografico\nResults saved:\n['_fasttext_wiki.vec__español_D01 [prefijo_anti-].txt', '_fasttext_wiki.vec__español_D02 [prefijo_des-].txt', '_fasttext_wiki.vec__español_D03 [prefijo_in-].txt', '_fasttext_wiki.vec__español_D04 [sufijo_-able].txt', '_fasttext_wiki.vec__español_D05 [sufijo_-ción].txt', '_fasttext_wiki.vec__español_D06 [sufijo_-ísimo].txt', '_fasttext_wiki.vec__español_D07 [sufijo_-ita].txt', '_fasttext_wiki.vec__español_D08 [sufijo_-ito].txt', '_fasttext_wiki.vec__español_D09 [sufijo_-mente].txt', '_fasttext_wiki.vec__español_D10 [sufijo_-miento].txt', '_fasttext_wiki.vec__español_E01 [pais - capital].txt', '_fasttext_wiki.vec__español_E02 [pais - idioma].txt', '_fasttext_wiki.vec__español_E04 [nombre - nacionalidad].txt', '_fasttext_wiki.vec__español_E05 [nombre - ocupacion].txt', '_fasttext_wiki.vec__español_E10 [hombre - mujer].txt', '_fasttext_wiki.vec__español_E11 [pais - gentilicio].txt', '_fasttext_wiki.vec__español_I067 [gerund - parti].txt', '_fasttext_wiki.vec__español_I096 [inf - gerund].txt', '_fasttext_wiki.vec__español_I097 [inf - parti].txt', '_fasttext_wiki.vec__español_I162 [pret_perf__1_sing - futuro_simp__1_sing].txt', '_fasttext_wiki.vec__español_I254 [presente__1_sing - futuro_simp__1_sing].txt', '_fasttext_wiki.vec__español_I260 [presente__1_sing - pret_perf__1_sing].txt', '_fasttext_wiki.vec__español_I265 [presente__1_sing - presente__1_plur].txt', '_fasttext_wiki.vec__español_I269 [presente__1_sing - presente__3_sing].txt', '_fasttext_wiki.vec__español_I466 [sustantivo - plural(s)].txt', '_fasttext_wiki.vec__español_I467 [sustantivo - plural(es)].txt', '_fasttext_wiki.vec__español_L07 [sinonimos - intensidad].txt', '_fasttext_wiki.vec__español_L08 [sinonimos - exacto].txt', '_fasttext_wiki.vec__español_L09 [antonimos - grado].txt', '_fasttext_wiki.vec__español_L10 [antonimos - binario].txt']\nTest files: \n[]\n\n   End of test\n",
      "#################################################\n=> Cargando _glove_sbwc.vec\n",
      "\n=> Testing _glove_sbwc.vec\nD:\\Documents\\Memoria - Eval. Word Embeddings\\Data\\BATS_español\\Derivacion\nD:\\Documents\\Memoria - Eval. Word Embeddings\\Data\\BATS_español\\Enciclopedia\nD:\\Documents\\Memoria - Eval. Word Embeddings\\Data\\BATS_español\\Inflexion\nD:\\Documents\\Memoria - Eval. Word Embeddings\\Data\\BATS_español\\Lexicografico\nResults saved:\n['_glove_sbwc.vec__español_D01 [prefijo_anti-].txt', '_glove_sbwc.vec__español_D02 [prefijo_des-].txt']\nTest files: \n['D:\\\\Documents\\\\Memoria - Eval. Word Embeddings\\\\Data\\\\BATS_español\\\\Derivacion\\\\_español_D03 [prefijo_in-].txt', 'D:\\\\Documents\\\\Memoria - Eval. Word Embeddings\\\\Data\\\\BATS_español\\\\Derivacion\\\\_español_D04 [sufijo_-able].txt', 'D:\\\\Documents\\\\Memoria - Eval. Word Embeddings\\\\Data\\\\BATS_español\\\\Derivacion\\\\_español_D05 [sufijo_-ción].txt', 'D:\\\\Documents\\\\Memoria - Eval. Word Embeddings\\\\Data\\\\BATS_español\\\\Derivacion\\\\_español_D06 [sufijo_-ísimo].txt', 'D:\\\\Documents\\\\Memoria - Eval. Word Embeddings\\\\Data\\\\BATS_español\\\\Derivacion\\\\_español_D07 [sufijo_-ita].txt', 'D:\\\\Documents\\\\Memoria - Eval. Word Embeddings\\\\Data\\\\BATS_español\\\\Derivacion\\\\_español_D08 [sufijo_-ito].txt', 'D:\\\\Documents\\\\Memoria - Eval. Word Embeddings\\\\Data\\\\BATS_español\\\\Derivacion\\\\_español_D09 [sufijo_-mente].txt', 'D:\\\\Documents\\\\Memoria - Eval. Word Embeddings\\\\Data\\\\BATS_español\\\\Derivacion\\\\_español_D10 [sufijo_-miento].txt', 'D:\\\\Documents\\\\Memoria - Eval. Word Embeddings\\\\Data\\\\BATS_español\\\\Enciclopedia\\\\_español_E01 [pais - capital].txt', 'D:\\\\Documents\\\\Memoria - Eval. Word Embeddings\\\\Data\\\\BATS_español\\\\Enciclopedia\\\\_español_E02 [pais - idioma].txt', 'D:\\\\Documents\\\\Memoria - Eval. Word Embeddings\\\\Data\\\\BATS_español\\\\Enciclopedia\\\\_español_E04 [nombre - nacionalidad].txt', 'D:\\\\Documents\\\\Memoria - Eval. Word Embeddings\\\\Data\\\\BATS_español\\\\Enciclopedia\\\\_español_E05 [nombre - ocupacion].txt', 'D:\\\\Documents\\\\Memoria - Eval. Word Embeddings\\\\Data\\\\BATS_español\\\\Enciclopedia\\\\_español_E10 [hombre - mujer].txt', 'D:\\\\Documents\\\\Memoria - Eval. Word Embeddings\\\\Data\\\\BATS_español\\\\Enciclopedia\\\\_español_E11 [pais - gentilicio].txt', 'D:\\\\Documents\\\\Memoria - Eval. Word Embeddings\\\\Data\\\\BATS_español\\\\Inflexion\\\\_español_I067 [gerund - parti].txt', 'D:\\\\Documents\\\\Memoria - Eval. Word Embeddings\\\\Data\\\\BATS_español\\\\Inflexion\\\\_español_I096 [inf - gerund].txt', 'D:\\\\Documents\\\\Memoria - Eval. Word Embeddings\\\\Data\\\\BATS_español\\\\Inflexion\\\\_español_I097 [inf - parti].txt', 'D:\\\\Documents\\\\Memoria - Eval. Word Embeddings\\\\Data\\\\BATS_español\\\\Inflexion\\\\_español_I162 [pret_perf__1_sing - futuro_simp__1_sing].txt', 'D:\\\\Documents\\\\Memoria - Eval. Word Embeddings\\\\Data\\\\BATS_español\\\\Inflexion\\\\_español_I254 [presente__1_sing - futuro_simp__1_sing].txt', 'D:\\\\Documents\\\\Memoria - Eval. Word Embeddings\\\\Data\\\\BATS_español\\\\Inflexion\\\\_español_I260 [presente__1_sing - pret_perf__1_sing].txt', 'D:\\\\Documents\\\\Memoria - Eval. Word Embeddings\\\\Data\\\\BATS_español\\\\Inflexion\\\\_español_I265 [presente__1_sing - presente__1_plur].txt', 'D:\\\\Documents\\\\Memoria - Eval. Word Embeddings\\\\Data\\\\BATS_español\\\\Inflexion\\\\_español_I269 [presente__1_sing - presente__3_sing].txt', 'D:\\\\Documents\\\\Memoria - Eval. Word Embeddings\\\\Data\\\\BATS_español\\\\Inflexion\\\\_español_I466 [sustantivo - plural(s)].txt', 'D:\\\\Documents\\\\Memoria - Eval. Word Embeddings\\\\Data\\\\BATS_español\\\\Inflexion\\\\_español_I467 [sustantivo - plural(es)].txt', 'D:\\\\Documents\\\\Memoria - Eval. Word Embeddings\\\\Data\\\\BATS_español\\\\Lexicografico\\\\_español_L07 [sinonimos - intensidad].txt', 'D:\\\\Documents\\\\Memoria - Eval. Word Embeddings\\\\Data\\\\BATS_español\\\\Lexicografico\\\\_español_L08 [sinonimos - exacto].txt', 'D:\\\\Documents\\\\Memoria - Eval. Word Embeddings\\\\Data\\\\BATS_español\\\\Lexicografico\\\\_español_L09 [antonimos - grado].txt', 'D:\\\\Documents\\\\Memoria - Eval. Word Embeddings\\\\Data\\\\BATS_español\\\\Lexicografico\\\\_español_L10 [antonimos - binario].txt']\nTesting file 1/28: _español_D03 [prefijo_in-].txt\n",
      "_glove_sbwc.vec__español_D03 [prefijo_in-].txt\n...Complete with score: 0.044489795918367346\nTesting file 2/28: _español_D04 [sufijo_-able].txt\n",
      "_glove_sbwc.vec__español_D04 [sufijo_-able].txt\n...Complete with score: 0.0008163265306122449\nTesting file 3/28: _español_D05 [sufijo_-ción].txt\n",
      "_glove_sbwc.vec__español_D05 [sufijo_-ción].txt\n...Complete with score: 0.18\nTesting file 4/28: _español_D06 [sufijo_-ísimo].txt\n",
      "_glove_sbwc.vec__español_D06 [sufijo_-ísimo].txt\n...Complete with score: 0.035918367346938776\nTesting file 5/28: _español_D07 [sufijo_-ita].txt\n",
      "_glove_sbwc.vec__español_D07 [sufijo_-ita].txt\n...Complete with score: 0.0012244897959183673\nTesting file 6/28: _español_D08 [sufijo_-ito].txt\n",
      "_glove_sbwc.vec__español_D08 [sufijo_-ito].txt\n...Complete with score: 0.0016326530612244899\nTesting file 7/28: _español_D09 [sufijo_-mente].txt\n",
      "_glove_sbwc.vec__español_D09 [sufijo_-mente].txt\n...Complete with score: 0.024081632653061225\nTesting file 8/28: _español_D10 [sufijo_-miento].txt\n",
      "_glove_sbwc.vec__español_D10 [sufijo_-miento].txt\n...Complete with score: 0.03346938775510204\nTesting file 9/28: _español_E01 [pais - capital].txt\n",
      "_glove_sbwc.vec__español_E01 [pais - capital].txt\n...Complete with score: 0.5416326530612245\nTesting file 10/28: _español_E02 [pais - idioma].txt\n",
      "_glove_sbwc.vec__español_E02 [pais - idioma].txt\n...Complete with score: 0.27510204081632655\nTesting file 11/28: _español_E04 [nombre - nacionalidad].txt\n",
      "_glove_sbwc.vec__español_E04 [nombre - nacionalidad].txt\n...Complete with score: 0.18122448979591838\nTesting file 12/28: _español_E05 [nombre - ocupacion].txt\n",
      "_glove_sbwc.vec__español_E05 [nombre - ocupacion].txt\n...Complete with score: 0.22979591836734695\nTesting file 13/28: _español_E10 [hombre - mujer].txt\n",
      "_glove_sbwc.vec__español_E10 [hombre - mujer].txt\n...Complete with score: 0.49387755102040815\nTesting file 14/28: _español_E11 [pais - gentilicio].txt\n",
      "_glove_sbwc.vec__español_E11 [pais - gentilicio].txt\n...Complete with score: 0.40653061224489795\nTesting file 15/28: _español_I067 [gerund - parti].txt\n",
      "_glove_sbwc.vec__español_I067 [gerund - parti].txt\n...Complete with score: 0.4922448979591837\nTesting file 16/28: _español_I096 [inf - gerund].txt\n",
      "_glove_sbwc.vec__español_I096 [inf - gerund].txt\n...Complete with score: 0.7224489795918367\nTesting file 17/28: _español_I097 [inf - parti].txt\n",
      "_glove_sbwc.vec__español_I097 [inf - parti].txt\n...Complete with score: 0.42448979591836733\nTesting file 18/28: _español_I162 [pret_perf__1_sing - futuro_simp__1_sing].txt\n",
      "_glove_sbwc.vec__español_I162 [pret_perf__1_sing - futuro_simp__1_sing].txt\n...Complete with score: 0.017959183673469388\nTesting file 19/28: _español_I254 [presente__1_sing - futuro_simp__1_sing].txt\n",
      "_glove_sbwc.vec__español_I254 [presente__1_sing - futuro_simp__1_sing].txt\n...Complete with score: 0.006122448979591836\nTesting file 20/28: _español_I260 [presente__1_sing - pret_perf__1_sing].txt\n",
      "_glove_sbwc.vec__español_I260 [presente__1_sing - pret_perf__1_sing].txt\n...Complete with score: 0.037142857142857144\nTesting file 21/28: _español_I265 [presente__1_sing - presente__1_plur].txt\n",
      "_glove_sbwc.vec__español_I265 [presente__1_sing - presente__1_plur].txt\n...Complete with score: 0.20816326530612245\nTesting file 22/28: _español_I269 [presente__1_sing - presente__3_sing].txt\n",
      "_glove_sbwc.vec__español_I269 [presente__1_sing - presente__3_sing].txt\n...Complete with score: 0.10326530612244898\nTesting file 23/28: _español_I466 [sustantivo - plural(s)].txt\n",
      "_glove_sbwc.vec__español_I466 [sustantivo - plural(s)].txt\n...Complete with score: 0.433469387755102\nTesting file 24/28: _español_I467 [sustantivo - plural(es)].txt\n",
      "_glove_sbwc.vec__español_I467 [sustantivo - plural(es)].txt\n...Complete with score: 0.38571428571428573\nTesting file 25/28: _español_L07 [sinonimos - intensidad].txt\n",
      "_glove_sbwc.vec__español_L07 [sinonimos - intensidad].txt\n...Complete with score: 0.03877551020408163\nTesting file 26/28: _español_L08 [sinonimos - exacto].txt\n",
      "_glove_sbwc.vec__español_L08 [sinonimos - exacto].txt\n...Complete with score: 0.09346938775510204\nTesting file 27/28: _español_L09 [antonimos - grado].txt\n",
      "_glove_sbwc.vec__español_L09 [antonimos - grado].txt\n...Complete with score: 0.06612244897959184\nTesting file 28/28: _español_L10 [antonimos - binario].txt\n",
      "_glove_sbwc.vec__español_L10 [antonimos - binario].txt\n...Complete with score: 0.15020408163265306\n\n   End of test\n#################################################\n=> Cargando _w2v_sbwc.txt\n",
      "\n=> Testing _w2v_sbwc.txt\nD:\\Documents\\Memoria - Eval. Word Embeddings\\Data\\BATS_español\\Derivacion\nD:\\Documents\\Memoria - Eval. Word Embeddings\\Data\\BATS_español\\Enciclopedia\nD:\\Documents\\Memoria - Eval. Word Embeddings\\Data\\BATS_español\\Inflexion\nD:\\Documents\\Memoria - Eval. Word Embeddings\\Data\\BATS_español\\Lexicografico\nResults saved:\n[]\nTest files: \n['D:\\\\Documents\\\\Memoria - Eval. Word Embeddings\\\\Data\\\\BATS_español\\\\Derivacion\\\\_español_D01 [prefijo_anti-].txt', 'D:\\\\Documents\\\\Memoria - Eval. Word Embeddings\\\\Data\\\\BATS_español\\\\Derivacion\\\\_español_D02 [prefijo_des-].txt', 'D:\\\\Documents\\\\Memoria - Eval. Word Embeddings\\\\Data\\\\BATS_español\\\\Derivacion\\\\_español_D03 [prefijo_in-].txt', 'D:\\\\Documents\\\\Memoria - Eval. Word Embeddings\\\\Data\\\\BATS_español\\\\Derivacion\\\\_español_D04 [sufijo_-able].txt', 'D:\\\\Documents\\\\Memoria - Eval. Word Embeddings\\\\Data\\\\BATS_español\\\\Derivacion\\\\_español_D05 [sufijo_-ción].txt', 'D:\\\\Documents\\\\Memoria - Eval. Word Embeddings\\\\Data\\\\BATS_español\\\\Derivacion\\\\_español_D06 [sufijo_-ísimo].txt', 'D:\\\\Documents\\\\Memoria - Eval. Word Embeddings\\\\Data\\\\BATS_español\\\\Derivacion\\\\_español_D07 [sufijo_-ita].txt', 'D:\\\\Documents\\\\Memoria - Eval. Word Embeddings\\\\Data\\\\BATS_español\\\\Derivacion\\\\_español_D08 [sufijo_-ito].txt', 'D:\\\\Documents\\\\Memoria - Eval. Word Embeddings\\\\Data\\\\BATS_español\\\\Derivacion\\\\_español_D09 [sufijo_-mente].txt', 'D:\\\\Documents\\\\Memoria - Eval. Word Embeddings\\\\Data\\\\BATS_español\\\\Derivacion\\\\_español_D10 [sufijo_-miento].txt', 'D:\\\\Documents\\\\Memoria - Eval. Word Embeddings\\\\Data\\\\BATS_español\\\\Enciclopedia\\\\_español_E01 [pais - capital].txt', 'D:\\\\Documents\\\\Memoria - Eval. Word Embeddings\\\\Data\\\\BATS_español\\\\Enciclopedia\\\\_español_E02 [pais - idioma].txt', 'D:\\\\Documents\\\\Memoria - Eval. Word Embeddings\\\\Data\\\\BATS_español\\\\Enciclopedia\\\\_español_E04 [nombre - nacionalidad].txt', 'D:\\\\Documents\\\\Memoria - Eval. Word Embeddings\\\\Data\\\\BATS_español\\\\Enciclopedia\\\\_español_E05 [nombre - ocupacion].txt', 'D:\\\\Documents\\\\Memoria - Eval. Word Embeddings\\\\Data\\\\BATS_español\\\\Enciclopedia\\\\_español_E10 [hombre - mujer].txt', 'D:\\\\Documents\\\\Memoria - Eval. Word Embeddings\\\\Data\\\\BATS_español\\\\Enciclopedia\\\\_español_E11 [pais - gentilicio].txt', 'D:\\\\Documents\\\\Memoria - Eval. Word Embeddings\\\\Data\\\\BATS_español\\\\Inflexion\\\\_español_I067 [gerund - parti].txt', 'D:\\\\Documents\\\\Memoria - Eval. Word Embeddings\\\\Data\\\\BATS_español\\\\Inflexion\\\\_español_I096 [inf - gerund].txt', 'D:\\\\Documents\\\\Memoria - Eval. Word Embeddings\\\\Data\\\\BATS_español\\\\Inflexion\\\\_español_I097 [inf - parti].txt', 'D:\\\\Documents\\\\Memoria - Eval. Word Embeddings\\\\Data\\\\BATS_español\\\\Inflexion\\\\_español_I162 [pret_perf__1_sing - futuro_simp__1_sing].txt', 'D:\\\\Documents\\\\Memoria - Eval. Word Embeddings\\\\Data\\\\BATS_español\\\\Inflexion\\\\_español_I254 [presente__1_sing - futuro_simp__1_sing].txt', 'D:\\\\Documents\\\\Memoria - Eval. Word Embeddings\\\\Data\\\\BATS_español\\\\Inflexion\\\\_español_I260 [presente__1_sing - pret_perf__1_sing].txt', 'D:\\\\Documents\\\\Memoria - Eval. Word Embeddings\\\\Data\\\\BATS_español\\\\Inflexion\\\\_español_I265 [presente__1_sing - presente__1_plur].txt', 'D:\\\\Documents\\\\Memoria - Eval. Word Embeddings\\\\Data\\\\BATS_español\\\\Inflexion\\\\_español_I269 [presente__1_sing - presente__3_sing].txt', 'D:\\\\Documents\\\\Memoria - Eval. Word Embeddings\\\\Data\\\\BATS_español\\\\Inflexion\\\\_español_I466 [sustantivo - plural(s)].txt', 'D:\\\\Documents\\\\Memoria - Eval. Word Embeddings\\\\Data\\\\BATS_español\\\\Inflexion\\\\_español_I467 [sustantivo - plural(es)].txt', 'D:\\\\Documents\\\\Memoria - Eval. Word Embeddings\\\\Data\\\\BATS_español\\\\Lexicografico\\\\_español_L07 [sinonimos - intensidad].txt', 'D:\\\\Documents\\\\Memoria - Eval. Word Embeddings\\\\Data\\\\BATS_español\\\\Lexicografico\\\\_español_L08 [sinonimos - exacto].txt', 'D:\\\\Documents\\\\Memoria - Eval. Word Embeddings\\\\Data\\\\BATS_español\\\\Lexicografico\\\\_español_L09 [antonimos - grado].txt', 'D:\\\\Documents\\\\Memoria - Eval. Word Embeddings\\\\Data\\\\BATS_español\\\\Lexicografico\\\\_español_L10 [antonimos - binario].txt']\nTesting file 1/30: _español_D01 [prefijo_anti-].txt\n",
      "_w2v_sbwc.txt__español_D01 [prefijo_anti-].txt\n...Complete with score: 0.014693877551020407\nTesting file 2/30: _español_D02 [prefijo_des-].txt\n",
      "_w2v_sbwc.txt__español_D02 [prefijo_des-].txt\n...Complete with score: 0.03836734693877551\nTesting file 3/30: _español_D03 [prefijo_in-].txt\n",
      "_w2v_sbwc.txt__español_D03 [prefijo_in-].txt\n...Complete with score: 0.08897959183673469\nTesting file 4/30: _español_D04 [sufijo_-able].txt\n",
      "_w2v_sbwc.txt__español_D04 [sufijo_-able].txt\n...Complete with score: 0.0032653061224489797\nTesting file 5/30: _español_D05 [sufijo_-ción].txt\n",
      "_w2v_sbwc.txt__español_D05 [sufijo_-ción].txt\n...Complete with score: 0.2755102040816326\nTesting file 6/30: _español_D06 [sufijo_-ísimo].txt\n",
      "_w2v_sbwc.txt__español_D06 [sufijo_-ísimo].txt\n...Complete with score: 0.19591836734693877\nTesting file 7/30: _español_D07 [sufijo_-ita].txt\n",
      "_w2v_sbwc.txt__español_D07 [sufijo_-ita].txt\n...Complete with score: 0.018775510204081632\nTesting file 8/30: _español_D08 [sufijo_-ito].txt\n",
      "_w2v_sbwc.txt__español_D08 [sufijo_-ito].txt\n...Complete with score: 0.03836734693877551\nTesting file 9/30: _español_D09 [sufijo_-mente].txt\n",
      "_w2v_sbwc.txt__español_D09 [sufijo_-mente].txt\n...Complete with score: 0.08571428571428572\nTesting file 10/30: _español_D10 [sufijo_-miento].txt\n",
      "_w2v_sbwc.txt__español_D10 [sufijo_-miento].txt\n...Complete with score: 0.0763265306122449\nTesting file 11/30: _español_E01 [pais - capital].txt\n",
      "_w2v_sbwc.txt__español_E01 [pais - capital].txt\n...Complete with score: 0.0\nTesting file 12/30: _español_E02 [pais - idioma].txt\n",
      "_w2v_sbwc.txt__español_E02 [pais - idioma].txt\n...Complete with score: 0.03428571428571429\nTesting file 13/30: _español_E04 [nombre - nacionalidad].txt\n",
      "_w2v_sbwc.txt__español_E04 [nombre - nacionalidad].txt\n...Complete with score: 0.004897959183673469\nTesting file 14/30: _español_E05 [nombre - ocupacion].txt\n",
      "_w2v_sbwc.txt__español_E05 [nombre - ocupacion].txt\n...Complete with score: 0.02857142857142857\nTesting file 15/30: _español_E10 [hombre - mujer].txt\n",
      "_w2v_sbwc.txt__español_E10 [hombre - mujer].txt\n...Complete with score: 0.5971428571428572\nTesting file 16/30: _español_E11 [pais - gentilicio].txt\n",
      "_w2v_sbwc.txt__español_E11 [pais - gentilicio].txt\n...Complete with score: 0.08775510204081632\nTesting file 17/30: _español_I067 [gerund - parti].txt\n",
      "_w2v_sbwc.txt__español_I067 [gerund - parti].txt\n...Complete with score: 0.5861224489795919\nTesting file 18/30: _español_I096 [inf - gerund].txt\n",
      "_w2v_sbwc.txt__español_I096 [inf - gerund].txt\n...Complete with score: 0.8934693877551021\nTesting file 19/30: _español_I097 [inf - parti].txt\n",
      "_w2v_sbwc.txt__español_I097 [inf - parti].txt\n...Complete with score: 0.5330612244897959\nTesting file 20/30: _español_I162 [pret_perf__1_sing - futuro_simp__1_sing].txt\n",
      "_w2v_sbwc.txt__español_I162 [pret_perf__1_sing - futuro_simp__1_sing].txt\n...Complete with score: 0.07918367346938776\nTesting file 21/30: _español_I254 [presente__1_sing - futuro_simp__1_sing].txt\n",
      "_w2v_sbwc.txt__español_I254 [presente__1_sing - futuro_simp__1_sing].txt\n...Complete with score: 0.04938775510204082\nTesting file 22/30: _español_I260 [presente__1_sing - pret_perf__1_sing].txt\n",
      "_w2v_sbwc.txt__español_I260 [presente__1_sing - pret_perf__1_sing].txt\n...Complete with score: 0.12081632653061225\nTesting file 23/30: _español_I265 [presente__1_sing - presente__1_plur].txt\n",
      "_w2v_sbwc.txt__español_I265 [presente__1_sing - presente__1_plur].txt\n...Complete with score: 0.3187755102040816\nTesting file 24/30: _español_I269 [presente__1_sing - presente__3_sing].txt\n",
      "_w2v_sbwc.txt__español_I269 [presente__1_sing - presente__3_sing].txt\n...Complete with score: 0.20489795918367346\nTesting file 25/30: _español_I466 [sustantivo - plural(s)].txt\n",
      "_w2v_sbwc.txt__español_I466 [sustantivo - plural(s)].txt\n...Complete with score: 0.4493877551020408\nTesting file 26/30: _español_I467 [sustantivo - plural(es)].txt\n",
      "_w2v_sbwc.txt__español_I467 [sustantivo - plural(es)].txt\n...Complete with score: 0.3710204081632653\nTesting file 27/30: _español_L07 [sinonimos - intensidad].txt\n",
      "_w2v_sbwc.txt__español_L07 [sinonimos - intensidad].txt\n...Complete with score: 0.08204081632653061\nTesting file 28/30: _español_L08 [sinonimos - exacto].txt\n",
      "_w2v_sbwc.txt__español_L08 [sinonimos - exacto].txt\n...Complete with score: 0.10285714285714286\nTesting file 29/30: _español_L09 [antonimos - grado].txt\n",
      "_w2v_sbwc.txt__español_L09 [antonimos - grado].txt\n...Complete with score: 0.08244897959183674\nTesting file 30/30: _español_L10 [antonimos - binario].txt\n",
      "_w2v_sbwc.txt__español_L10 [antonimos - binario].txt\n...Complete with score: 0.1926530612244898\n\n   End of test\n"
     ],
     "output_type": "stream"
    }
   ],
   "source": [
    "def analogyTest():\n",
    "    results = {}\n",
    "    for name in embeddings:\n",
    "        results[name] = {}\n",
    "        print(\"#################################################\")\n",
    "        print(\"=> Cargando \" + name)\n",
    "        wordvector = get_wordvector(name)\n",
    "        #wordvector = get_wordvector(name)\n",
    "    \n",
    "        print(\"\\n=> Testing \" + name)\n",
    "        analogy_test(wordvector, name)\n",
    "        \n",
    "        print(\"\\n   End of test\")\n",
    "        #print(\"\\n=> Embeddings \" + name + \" score:\" + str(json.dumps(score, sort_keys=True, indent=4)))\n",
    "    \n",
    "        del wordvector\n",
    "            \n",
    "\n",
    "# Test de analogias\n",
    "analogyTest()\n"
   ],
   "metadata": {
    "collapsed": false,
    "pycharm": {
     "name": "#%%\n",
     "is_executing": false
    }
   }
  }
 ],
 "metadata": {
  "kernelspec": {
   "display_name": "Python 3",
   "language": "python",
   "name": "python3"
  },
  "language_info": {
   "codemirror_mode": {
    "name": "ipython",
    "version": 2
   },
   "file_extension": ".py",
   "mimetype": "text/x-python",
   "name": "python",
   "nbconvert_exporter": "python",
   "pygments_lexer": "ipython2",
   "version": "2.7.6"
  },
  "pycharm": {
   "stem_cell": {
    "cell_type": "raw",
    "source": [],
    "metadata": {
     "collapsed": false
    }
   }
  }
 },
 "nbformat": 4,
 "nbformat_minor": 0
}