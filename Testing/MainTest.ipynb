{
 "cells": [
  {
   "cell_type": "code",
   "execution_count": 2,
   "metadata": {
    "collapsed": true,
    "pycharm": {
     "is_executing": false
    }
   },
   "outputs": [
    {
     "name": "stdout",
     "text": [
      ">>> Embeddings a evaluar:\n     > _fasttext_sbwc.vec\n     > _fasttext_suc.vec\n     > _fasttext_wiki.vec\n     > _glove_sbwc.vec\n     > _w2v_sbwc.txt\n"
     ],
     "output_type": "stream"
    }
   ],
   "source": [
    "import os\n",
    "import io\n",
    "import json\n",
    "\n",
    "import numpy as np\n",
    "\n",
    "from scipy.stats import spearmanr\n",
    "from gensim.models.keyedvectors import KeyedVectors\n",
    "\n",
    "import Constant\n",
    "\n",
    "# Path a carpeta principal\n",
    "MAIN_FOLDER = Constant.MAIN_FOLDER\n",
    "\n",
    "# Path a carpeta con los embeddings\n",
    "EMBEDDING_FOLDER = Constant.EMBEDDING_FOLDER\n",
    "\n",
    "# Lista con los nombres de los archivos de los embeddings\n",
    "embedding_name_list = os.listdir(EMBEDDING_FOLDER)\n",
    "\n",
    "print(\">>> Embeddings a evaluar:\")\n",
    "for embedding in embedding_name_list:\n",
    "    print(\"     > \" + embedding)\n",
    "\n",
    "def get_wordvector(file, cant=None):\n",
    "    wordvector_file = EMBEDDING_FOLDER / file\n",
    "\n",
    "    return KeyedVectors.load_word2vec_format(wordvector_file, limit=cant)\n"
   ]
  },
  {
   "cell_type": "code",
   "execution_count": 7,
   "outputs": [
    {
     "name": "stdout",
     "text": [
      ">>> Test de similaridad\n\n>>> Cargando vectores...",
      "listo\n\n>>> Testing _fasttext_sbwc.vec\n\n>>> Test individuales\n>>> Archivo test: rg65_es.txt\n     > Opening file: rg65_es.txt\n>>> Not found words:0\n    []\n     > Cantidad de pares no procesados: 0\n\n\n>>> Archivo test: semeval17_es.txt\n     > Opening file: semeval17_es.txt\n>>> Not found words:4\n    ['spider-man', 'u2', 'brexit', \"mcdonald's\"]\n     > Cantidad de pares no procesados: 4\n\n\n>>> Empezando test en conjunto\n>>> Not found words:4\n    ['spider-man', 'u2', 'brexit', \"mcdonald's\"]\n     > Cantidad de pares no procesados: 4\n\n\n>>> Resultados\n    rg65_es.txt: 0.8204467520617068\n    semeval17_es.txt: 0.704972763305767\n    all_data: 0.7223296706995783\n\n\n>>> Saving in _fasttext_sbwc\n[['rg65_es.txt', 0.8204467520617068], ['semeval17_es.txt', 0.704972763305767], ['all_data', 0.7223296706995783]]\n\n>>> Cargando vectores...",
      "listo\n\n>>> Testing _fasttext_suc.vec\n\n>>> Test individuales\n>>> Archivo test: rg65_es.txt\n     > Opening file: rg65_es.txt\n>>> Not found words:0\n    []\n     > Cantidad de pares no procesados: 0\n\n\n>>> Archivo test: semeval17_es.txt\n     > Opening file: semeval17_es.txt\n>>> Not found words:2\n    ['spider-man', \"mcdonald's\"]\n     > Cantidad de pares no procesados: 2\n\n\n>>> Empezando test en conjunto\n>>> Not found words:2\n    ['spider-man', \"mcdonald's\"]\n     > Cantidad de pares no procesados: 2\n\n\n>>> Resultados\n    rg65_es.txt: 0.889236362449453\n    semeval17_es.txt: 0.7467351168810569\n    all_data: 0.7664237878600609\n\n\n>>> Saving in _fasttext_suc\n[['rg65_es.txt', 0.889236362449453], ['semeval17_es.txt', 0.7467351168810569], ['all_data', 0.7664237878600609]]\n\n>>> Cargando vectores...",
      "listo\n\n>>> Testing _fasttext_wiki.vec\n\n>>> Test individuales\n>>> Archivo test: rg65_es.txt\n     > Opening file: rg65_es.txt\n>>> Not found words:0\n    []\n     > Cantidad de pares no procesados: 0\n\n\n>>> Archivo test: semeval17_es.txt\n     > Opening file: semeval17_es.txt\n>>> Not found words:3\n    ['spider-man', 'u2', \"mcdonald's\"]\n     > Cantidad de pares no procesados: 3\n\n\n>>> Empezando test en conjunto\n>>> Not found words:3\n    ['spider-man', 'u2', \"mcdonald's\"]\n     > Cantidad de pares no procesados: 3\n\n\n>>> Resultados\n    rg65_es.txt: 0.8793905361995941\n    semeval17_es.txt: 0.7315237518508493\n    all_data: 0.7547812427724895\n\n\n>>> Saving in _fasttext_wiki\n[['rg65_es.txt', 0.8793905361995941], ['semeval17_es.txt', 0.7315237518508493], ['all_data', 0.7547812427724895]]\n\n>>> Cargando vectores...",
      "listo\n\n>>> Testing _glove_sbwc.vec\n\n>>> Test individuales\n>>> Archivo test: rg65_es.txt\n     > Opening file: rg65_es.txt\n>>> Not found words:0\n    []\n     > Cantidad de pares no procesados: 0\n\n\n>>> Archivo test: semeval17_es.txt\n     > Opening file: semeval17_es.txt\n>>> Not found words:4\n    ['spider-man', 'u2', 'brexit', \"mcdonald's\"]\n     > Cantidad de pares no procesados: 4\n\n\n>>> Empezando test en conjunto\n>>> Not found words:4\n    ['spider-man', 'u2', 'brexit', \"mcdonald's\"]\n     > Cantidad de pares no procesados: 4\n\n\n>>> Resultados\n    rg65_es.txt: 0.7643889395507487\n    semeval17_es.txt: 0.6783921999909276\n    all_data: 0.690634179167917\n\n\n>>> Saving in _glove_sbwc\n[['rg65_es.txt', 0.7643889395507487], ['semeval17_es.txt', 0.6783921999909276], ['all_data', 0.690634179167917]]\n\n>>> Cargando vectores...",
      "listo\n\n>>> Testing _w2v_sbwc.txt\n\n>>> Test individuales\n>>> Archivo test: rg65_es.txt\n     > Opening file: rg65_es.txt\n>>> Not found words:0\n    []\n     > Cantidad de pares no procesados: 0\n\n\n>>> Archivo test: semeval17_es.txt\n     > Opening file: semeval17_es.txt\n>>> Not found words:15\n    ['spider-man', 'u2', 'ronaldo', 'jerusalén', 'dickens', 'bolzano', 'brexit', 'aristóteles', 'dingle', 'pfizer', 'nietzsche', 'federer', 'hamedan', 'kfc', \"mcdonald's\"]\n     > Cantidad de pares no procesados: 13\n\n\n>>> Empezando test en conjunto\n>>> Not found words:15\n    ['spider-man', 'u2', 'ronaldo', 'jerusalén', 'dickens', 'bolzano', 'brexit', 'aristóteles', 'dingle', 'pfizer', 'nietzsche', 'federer', 'hamedan', 'kfc', \"mcdonald's\"]\n     > Cantidad de pares no procesados: 13\n\n\n>>> Resultados\n    rg65_es.txt: 0.8535916989285603\n    semeval17_es.txt: 0.7241491800532829\n    all_data: 0.7470013837716134\n\n\n>>> Saving in _w2v_sbwc\n[['rg65_es.txt', 0.8535916989285603], ['semeval17_es.txt', 0.7241491800532829], ['all_data', 0.7470013837716134]]\n\n"
     ],
     "output_type": "stream"
    }
   ],
   "source": [
    "# Realizacion de test\n",
    "\n",
    "import SimilarityTest\n",
    "\n",
    "# Test de similaridad\n",
    "print(\">>> Test de similaridad\\n\")\n",
    "for embedding in embedding_name_list:\n",
    "    print(\">>> Testing \" + embedding + \"\\n\")\n",
    "    \n",
    "    print(\">>> Cargando vectores...\", end='')\n",
    "    wordvector = get_wordvector(embedding)\n",
    "    print(\"listo\\n\")\n",
    "    \n",
    "    print(\">>> Testing...\", end='')\n",
    "    result = SimilarityTest.similarityTest(wordvector, embedding.split('.')[0])\n",
    "    print(\"listo\\n\")\n",
    "    \n",
    "    print(result, end=\"\\n\\n\")\n"
   ],
   "metadata": {
    "collapsed": false,
    "pycharm": {
     "name": "#%%\n",
     "is_executing": false
    }
   }
  },
  {
   "cell_type": "code",
   "execution_count": 4,
   "outputs": [],
   "source": [
    "import AnalogyTest\n",
    "\n",
    "# Test de analogias\n",
    "print(\">>> Test de analogias\\n\")\n",
    "for embedding in embedding_name_list:\n",
    "    print(\">>> Testing \" + embedding + \"\\n\")\n",
    "    \n",
    "    print(\">>> Cargando vectores...\", end='')\n",
    "    wordvector = get_wordvector(embedding)\n",
    "    print(\"listo\\n\")\n",
    "    \n",
    "    print(\">>> Testing...\", end='')\n",
    "    result = AnalogyTest.analogyTest(wordvector, embedding.split('.')[0])\n",
    "    print(\"listo\\n\")\n",
    "    \n",
    "    print(result, end=\"\\n\\n\")\n"
   ],
   "metadata": {
    "collapsed": false,
    "pycharm": {
     "name": "#%%\n",
     "is_executing": false
    }
   }
  },
  {
   "cell_type": "code",
   "execution_count": 5,
   "outputs": [],
   "source": [
    "import CrossMatchTest\n",
    "\n",
    "# Test de cross match"
   ],
   "metadata": {
    "collapsed": false,
    "pycharm": {
     "name": "#%%\n",
     "is_executing": false
    }
   }
  },
  {
   "cell_type": "code",
   "execution_count": 6,
   "outputs": [],
   "source": [
    "import OutlierDetectionTest\n",
    "\n",
    "# Test de outlier detection"
   ],
   "metadata": {
    "collapsed": false,
    "pycharm": {
     "name": "#%%\n",
     "is_executing": false
    }
   }
  }
 ],
 "metadata": {
  "kernelspec": {
   "display_name": "Python 3",
   "language": "python",
   "name": "python3"
  },
  "language_info": {
   "codemirror_mode": {
    "name": "ipython",
    "version": 2
   },
   "file_extension": ".py",
   "mimetype": "text/x-python",
   "name": "python",
   "nbconvert_exporter": "python",
   "pygments_lexer": "ipython2",
   "version": "2.7.6"
  },
  "pycharm": {
   "stem_cell": {
    "cell_type": "raw",
    "source": [],
    "metadata": {
     "collapsed": false
    }
   }
  }
 },
 "nbformat": 4,
 "nbformat_minor": 0
}