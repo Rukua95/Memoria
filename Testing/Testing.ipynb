{
 "cells": [
  {
   "cell_type": "code",
   "execution_count": 7,
   "metadata": {
    "collapsed": true,
    "pycharm": {
     "is_executing": false
    }
   },
   "outputs": [
    {
     "name": "stdout",
     "text": [
      "['_fasttext_sbwc.vec', '_fasttext_suc.vec', '_fasttext_wiki.vec', '_glove_sbwc.vec', '_w2v_sbwc.txt']\n"
     ],
     "output_type": "stream"
    }
   ],
   "source": [
    "import os\n",
    "import io\n",
    "import numpy as np\n",
    "\n",
    "#from SimilarityTest import *\n",
    "#from AnalogyTest import *\n",
    "\n",
    "################################################################\n",
    "\n",
    "# Path a carpeta principal\n",
    "PATH = 'D:\\Documents\\Memoria - Eval. Word Embeddings\\\\'\n",
    "\n",
    "# Path a carpeta con los embeddings\n",
    "embeddings_path = PATH + 'Embeddings\\\\'\n",
    "\n",
    "# Lista con los nombres de los archivos de los embeddings\n",
    "embeddings = os.listdir(embeddings_path)\n",
    "\n",
    "print(embeddings)"
   ]
  },
  {
   "cell_type": "code",
   "execution_count": 8,
   "outputs": [],
   "source": [
    "from gensim.models.keyedvectors import KeyedVectors\n",
    "\n",
    "\n",
    "\n",
    "wordvectors_file_vec = embeddings_path + embeddings[0]\n",
    "cantidad = 50000\n",
    "#cantidad = None\n",
    "wordvectors = KeyedVectors.load_word2vec_format(wordvectors_file_vec, limit=cantidad)\n"
   ],
   "metadata": {
    "collapsed": false,
    "pycharm": {
     "name": "#%%\n",
     "is_executing": false
    }
   }
  },
  {
   "cell_type": "code",
   "source": [
    "### Ejemplos de consultas.\n",
    "\n",
    "# Analogias - distancia coseno.\n",
    "wordvectors.most_similar_cosmul(positive=['francia', 'caminos'], negative=['caminos'])"
   ],
   "metadata": {
    "collapsed": false,
    "pycharm": {
     "name": "#%%\n",
     "is_executing": false
    }
   },
   "execution_count": 5,
   "outputs": [
    {
     "data": {
      "text/plain": "[('italia', 0.8411635160446167),\n ('alemania', 0.8368021249771118),\n ('españa', 0.8338937163352966),\n ('bélgica', 0.831568717956543),\n ('francesa', 0.8179389238357544),\n ('holanda', 0.8171353936195374),\n ('bretaña', 0.8134159445762634),\n ('parís', 0.8025257587432861),\n ('finlandia', 0.7987249493598938),\n ('francesas', 0.795377254486084)]"
     },
     "metadata": {},
     "output_type": "execute_result",
     "execution_count": 5
    }
   ]
  },
  {
   "cell_type": "code",
   "execution_count": 14,
   "outputs": [
    {
     "data": {
      "text/plain": "[('posfeminismo', 0.9475845694541931),\n ('ifeminismo', 0.9475080966949463),\n ('transfeminismo', 0.9276443719863892),\n ('lesbofeminismo', 0.9169876575469971),\n ('feminismos', 0.915556788444519),\n ('masculinismo', 0.9055948853492737),\n ('feminism', 0.9004196524620056),\n ('ciberfeminismo', 0.897614598274231),\n ('antifeminismo', 0.8902029395103455),\n ('posfeminista', 0.8891966342926025)]"
     },
     "metadata": {},
     "output_type": "execute_result",
     "execution_count": 14
    }
   ],
   "source": [
    "wordvectors.most_similar_cosmul(positive=['feminismo', 'antibalas'], negative=['balas'])"
   ],
   "metadata": {
    "collapsed": false,
    "pycharm": {
     "name": "#%%\n",
     "is_executing": false
    }
   }
  },
  {
   "cell_type": "code",
   "execution_count": 46,
   "outputs": [
    {
     "data": {
      "text/plain": "[('rápidos', 0.9408144950866699),\n ('lentos', 0.9091153144836426),\n ('acelerados', 0.8751847743988037),\n ('veloces', 0.8677268624305725),\n ('aceleran', 0.8518128395080566),\n ('lenta', 0.8402765393257141),\n ('rápida', 0.8332675695419312),\n ('lento', 0.8324001431465149),\n ('potentes', 0.8259990215301514),\n ('ágiles', 0.8235635161399841)]"
     },
     "metadata": {},
     "output_type": "execute_result",
     "execution_count": 46
    }
   ],
   "source": [
    "wordvectors.most_similar_cosmul(positive=['rápido', 'generosos'],negative=['generoso'])"
   ],
   "metadata": {
    "collapsed": false,
    "pycharm": {
     "name": "#%%\n",
     "is_executing": false
    }
   }
  },
  {
   "cell_type": "code",
   "execution_count": 16,
   "outputs": [
    {
     "name": "stdout",
     "text": [
      "[-2.8397e-01 -2.6434e-03 -1.6633e-01  5.0526e-02 -2.9012e-02  4.5737e-02\n  2.2064e-02  3.1548e-01 -3.4187e-01  2.7653e-01 -3.5145e-01 -2.3341e-01\n -8.6594e-03  3.1230e-01  5.8882e-02  4.2373e-01  3.8428e-01 -6.9711e-02\n -1.3806e-01 -1.4918e-01 -4.3125e-01  2.1983e-01 -1.8735e-01  9.9649e-02\n -1.2246e-01 -4.4257e-01  2.2781e-01 -2.3949e-01 -2.3613e-01 -1.4958e-01\n -9.8259e-02 -8.3515e-02 -6.2705e-02  6.8932e-02 -1.4664e-01  2.1219e-02\n -3.7631e-01 -4.3558e-01  4.3239e-01 -4.1368e-02 -2.4506e-02 -7.4748e-02\n -6.0175e-02  2.1106e-01 -1.4268e-01  1.7014e-01  1.6848e-01 -2.4511e-02\n  2.4360e-01  1.8308e-02  2.6153e-02 -4.3153e-02 -2.6795e-02  1.2762e-01\n -8.3548e-02 -1.0142e-01 -2.1147e-01 -4.5020e-01  3.3155e-01  1.5876e-01\n  9.3535e-02  2.3942e-01  2.4001e-01 -7.6924e-02 -6.1780e-03  1.1939e-01\n -2.7113e-01 -5.8514e-02  1.8275e-01 -5.1436e-01 -2.9016e-01 -1.0231e-02\n -4.3767e-02 -6.6534e-02 -1.9352e-01 -4.9187e-01  4.2835e-02 -2.1199e-01\n  6.7998e-02 -4.0886e-01  1.8152e-01 -1.7685e-01 -9.4380e-02 -6.4294e-02\n -1.4935e-01 -2.4149e-02  2.4966e-02 -2.2460e-02 -3.0999e-02 -3.1545e-01\n  3.6973e-01 -2.3301e-01  1.3725e-01  2.6635e-01  2.0555e-01  1.1752e-03\n -5.2714e-02 -3.0389e-01  1.7534e-01 -2.2146e-01  2.0195e-01  2.6380e-01\n  1.7428e-01 -1.9345e-01 -9.2973e-02 -1.3904e-01  6.6641e-02  3.5553e-01\n  1.1374e-01  3.0342e-02  2.2808e-01  3.7051e-02 -2.6877e-01 -2.8048e-02\n -3.9263e-02  6.9574e-02 -2.9452e-01 -3.0454e-01  4.4726e-03  1.1753e-01\n -4.2185e-03 -2.1756e-01  2.5065e-01 -1.4040e-01 -2.3740e-01 -2.9219e-01\n -1.7810e-01  8.5054e-02 -3.6143e-01  1.2098e-01 -2.8146e-01  3.3963e-01\n  1.5243e-02  3.9063e-01  3.8177e-01  4.9897e-02  8.3026e-03  9.8756e-02\n  3.7985e-01 -8.6177e-02 -3.1109e-01 -2.2287e-01 -3.3282e-01  1.5203e-01\n  6.0128e-02  1.4426e-01  6.8908e-02 -1.2574e-01 -4.4650e-02 -4.0129e-02\n  1.6565e-01  3.1114e-01  1.5121e-01 -4.5231e-04 -7.6531e-02 -7.0289e-02\n -1.8495e-01  3.3629e-01  4.3542e-02 -4.1227e-01 -1.2794e-02  3.2271e-01\n -3.0423e-01 -1.5141e-02  2.7106e-01 -2.3863e-01  2.0277e-01 -1.7325e-01\n  2.8252e-02  1.8734e-01  5.2322e-02 -2.3338e-01  6.6113e-03  2.1465e-01\n  2.7572e-02 -1.6427e-01  2.3748e-01  9.4236e-02 -4.1310e-01 -3.3172e-01\n -4.5655e-02 -1.1948e-01  2.4996e-02  2.2932e-01  1.6481e-01 -3.1343e-01\n -4.9796e-01 -4.8533e-01  1.7381e-02 -7.8228e-02  6.8206e-02 -2.0918e-01\n  1.5974e-01 -3.7056e-01  5.6652e-02  2.9033e-01  2.4502e-01 -3.3182e-02\n  2.6313e-02  6.0862e-02  2.5323e-01 -3.1569e-02  2.1518e-01  4.3894e-01\n -2.3805e-01 -8.9147e-02 -7.3367e-01  7.3941e-02  4.0471e-01 -1.8308e-01\n  2.1307e-01 -2.4258e-01 -5.6941e-02  5.0479e-02  2.0459e-01  1.4980e-01\n -3.3914e-01 -3.5680e-02  2.4385e-01  2.7886e-01  2.1169e-02 -4.9463e-01\n  2.1549e-01 -3.0869e-02  5.6410e-01 -1.6628e-01 -1.2415e-02  6.4661e-02\n  1.0409e-01  1.3820e-02 -6.5947e-03  1.1426e-01  4.2115e-01  3.7326e-01\n -3.1685e-02  9.5295e-02  5.6634e-01 -2.3237e-01 -4.3908e-01  3.9784e-03\n -2.1015e-01 -2.1450e-01  4.8647e-01  2.3149e-01 -5.5732e-02 -3.8137e-01\n  2.0863e-03 -2.4190e-01  1.3621e-01  5.2121e-01  1.8628e-02 -5.6711e-02\n -2.2284e-01 -5.5265e-01  2.1377e-01  2.1865e-02 -3.4482e-01 -3.9396e-01\n -8.5714e-03 -3.8613e-02  2.9803e-01  4.8171e-01  7.3003e-02 -6.2100e-02\n -1.6659e-01  3.0922e-01  9.1033e-02 -1.9560e-01 -1.7770e-01  3.8456e-01\n -5.7333e-02 -3.5741e-02  3.3572e-02 -1.2771e-01  3.4939e-02  2.7878e-02\n -3.5539e-01  4.8404e-01 -2.2937e-01  1.7787e-01  3.4381e-01 -2.8818e-01\n  6.2539e-01  4.4083e-02 -2.6719e-01  2.4562e-01  4.4584e-01  7.3608e-02\n  1.3774e-01 -1.4463e-01  5.4011e-02 -7.6664e-02 -9.8355e-02  3.5034e-01\n -1.2780e-01 -2.3452e-01 -6.0127e-03 -3.1968e-01  8.3124e-02 -1.5501e-02]\n11.041407\n\n\n11.041407\n"
     ],
     "output_type": "stream"
    }
   ],
   "source": [
    "wordvectors.most_similar(positive=['rey'])[0][0]\n",
    "print(wordvectors['rey'])\n",
    "print(wordvectors['rey'].dot(wordvectors['reina']))\n",
    "print('\\n')\n",
    "print(np.dot(wordvectors.word_vec('rey'), wordvectors.word_vec('reina')))\n"
   ],
   "metadata": {
    "collapsed": false,
    "pycharm": {
     "name": "#%%\n",
     "is_executing": false
    }
   }
  },
  {
   "cell_type": "code",
   "source": [
    "#Exclusion de conjuntos. \n",
    "wordvectors.doesnt_match(['blanco','azul','rojo','chile'])\n",
    "print('mcdonald' in wordvectors)"
   ],
   "metadata": {
    "collapsed": false,
    "pycharm": {
     "name": "#%% \n",
     "is_executing": false
    }
   },
   "execution_count": 8,
   "outputs": [
    {
     "name": "stdout",
     "text": [
      "True\n"
     ],
     "output_type": "stream"
    }
   ]
  },
  {
   "cell_type": "code",
   "execution_count": 16,
   "outputs": [
    {
     "name": "stdout",
     "text": [
      "00_Q1180262.txt\n00_Q1547289.txt\n00_Q16514343.txt\n00_Q5119.txt\n01_Q1145012.txt\n01_Q1145276.txt\n01_Q1149652.txt\n01_Q11879590.txt\n01_Q134626.txt\n01_Q1357964.txt\n01_Q14784328.txt\n01_Q15092344.txt\n01_Q15105893.txt\n01_Q15303838.txt\n01_Q1549591.txt\n01_Q1637706.txt\n01_Q16858213.txt\n01_Q171263.txt\n01_Q1852859.txt\n01_Q200250.txt\n01_Q21583366.txt\n01_Q22302160.txt\n01_Q250811.txt\n01_Q2607197.txt\n01_Q28640.txt\n01_Q2989454.txt\n01_Q5055981.txt\n01_Q747074.txt\n01_Q769603.txt\n02_Q1070990.txt\n02_Q10943.txt\n02_Q1137833.txt\n02_Q12131624.txt\n02_Q12308941.txt\n02_Q12813115.txt\n02_Q131093.txt\n02_Q134161.txt\n02_Q15647906.txt\n02_Q15707583.txt\n02_Q15832079.txt\n02_Q15979307.txt\n02_Q1749269.txt\n02_Q176165.txt\n02_Q1810858.txt\n02_Q18343316.txt\n02_Q185217.txt\n02_Q202435.txt\n02_Q20724701.txt\n02_Q21125433.txt\n02_Q2264924.txt\n02_Q235557.txt\n02_Q23905105.txt\n02_Q31629.txt\n02_Q34049.txt\n02_Q3966183.txt\n02_Q477248.txt\n02_Q5107.txt\n02_Q57318.txt\n02_Q62049.txt\n02_Q6593035.txt\n02_Q66016.txt\n02_Q681277.txt\n02_Q70208.txt\n02_Q838296.txt\n02_Q842100.txt\n03_Q10417670.txt\n03_Q1066984.txt\n03_Q1130645.txt\n03_Q11773926.txt\n03_Q12131640.txt\n03_Q13025342.txt\n03_Q131212.txt\n03_Q13366104.txt\n03_Q14770218.txt\n03_Q15068450.txt\n03_Q15221310.txt\n03_Q15584664.txt\n03_Q15702752.txt\n03_Q15732355.txt\n03_Q15978299.txt\n03_Q16335296.txt\n03_Q173600.txt\n03_Q17991810.txt\n03_Q1802801.txt\n03_Q180673.txt\n03_Q181322.txt\n03_Q182406.txt\n03_Q184932.txt\n03_Q193556.txt\n03_Q2008050.txt\n03_Q202595.txt\n03_Q205020.txt\n03_Q21010817.txt\n03_Q222405.txt\n03_Q22865.txt\n03_Q2327515.txt\n03_Q2465832.txt\n03_Q2472587.txt\n03_Q2537537.txt\n03_Q257978.txt\n03_Q2590631.txt\n03_Q2616791.txt\n03_Q2775969.txt\n03_Q290378.txt\n03_Q2915955.txt\n03_Q2989470.txt\n03_Q3220391.txt\n03_Q3257686.txt\n03_Q3327873.txt\n03_Q355567.txt\n03_Q40540.txt\n03_Q494721.txt\n03_Q50053.txt\n03_Q5084.txt\n03_Q5123999.txt\n03_Q5200157.txt\n03_Q7309443.txt\n03_Q788104.txt\n03_Q9143.txt\n03_Q920890.txt\n03_Q941036.txt\n03_Q955655.txt\n04_Q104157.txt\n04_Q1146429.txt\n04_Q11666901.txt\n04_Q1187811.txt\n04_Q123266.txt\n04_Q127448.txt\n04_Q131436.txt\n04_Q13218690.txt\n04_Q1368898.txt\n04_Q1401585.txt\n04_Q142714.txt\n04_Q1480166.txt\n04_Q15633582.txt\n04_Q15720625.txt\n04_Q15836568.txt\n04_Q1621322.txt\n04_Q171318.txt\n04_Q17412916.txt\n04_Q177691.txt\n04_Q179805.txt\n04_Q18602249.txt\n04_Q188860.txt\n04_Q1952852.txt\n04_Q203904.txt\n04_Q20643324.txt\n04_Q2074737.txt\n04_Q21011318.txt\n04_Q2139.txt\n04_Q21583365.txt\n04_Q216048.txt\n04_Q2267870.txt\n04_Q247073.txt\n04_Q24764.txt\n04_Q253030.txt\n04_Q2555896.txt\n04_Q2572794.txt\n04_Q262166.txt\n04_Q262882.txt\n04_Q263639.txt\n04_Q271680.txt\n04_Q2919801.txt\n04_Q2989398.txt\n04_Q312457.txt\n04_Q317548.txt\n04_Q3192808.txt\n04_Q3199141.txt\n04_Q33215.txt\n04_Q3550873.txt\n04_Q3556889.txt\n04_Q3932296.txt\n04_Q40056.txt\n04_Q41156.txt\n04_Q41425.txt\n04_Q4164871.txt\n04_Q467511.txt\n04_Q484170.txt\n04_Q493522.txt\n04_Q5569988.txt\n04_Q55833.txt\n04_Q5891.txt\n04_Q612229.txt\n04_Q620615.txt\n04_Q655697.txt\n04_Q667509.txt\n04_Q674928.txt\n04_Q677678.txt\n04_Q692680.txt\n04_Q707813.txt\n04_Q7268568.txt\n04_Q7270.txt\n04_Q748149.txt\n04_Q751708.txt\n04_Q777120.txt\n04_Q8432.txt\n04_Q850450.txt\n04_Q852151.txt\n04_Q898786.txt\n04_Q9174.txt\n04_Q925381.txt\n04_Q9415.txt\n04_Q954007.txt\n04_Q989255.txt\n05_Q105000.txt\n05_Q1065118.txt\n05_Q1138494.txt\n05_Q11732217.txt\n05_Q1234255.txt\n05_Q12737077.txt\n05_Q1302471.txt\n05_Q131299.txt\n05_Q131669.txt\n05_Q132364.txt\n05_Q1330336.txt\n05_Q1349648.txt\n05_Q15063611.txt\n05_Q15127012.txt\n05_Q15221373.txt\n05_Q154038.txt\n05_Q1665984.txt\n05_Q1777138.txt\n05_Q18511725.txt\n05_Q1914636.txt\n05_Q192287.txt\n05_Q2039348.txt\n05_Q21507383.txt\n05_Q2351962.txt\n05_Q2387050.txt\n05_Q2537.txt\n05_Q2590445.txt\n05_Q2706302.txt\n05_Q2911266.txt\n05_Q308891.txt\n05_Q3326717.txt\n05_Q3333265.txt\n05_Q349.txt\n05_Q3647172.txt\n05_Q3863.txt\n05_Q4057820.txt\n05_Q4178140.txt\n05_Q448801.txt\n05_Q46395.txt\n05_Q5009242.txt\n05_Q5153359.txt\n05_Q57058.txt\n05_Q6368.txt\n05_Q6465.txt\n05_Q6979593.txt\n05_Q7094076.txt\n05_Q720711.txt\n05_Q7365.txt\n05_Q755707.txt\n05_Q7830213.txt\n05_Q8148.txt\n05_Q862597.txt\n05_Q878367.txt\n05_Q899523.txt\n05_Q94951.txt\n05_Q990488.txt\n06_Q101352.txt\n06_Q10742.txt\n06_Q1140046.txt\n06_Q1147395.txt\n06_Q1190554.txt\n06_Q123705.txt\n06_Q1266818.txt\n06_Q1307214.txt\n06_Q13539802.txt\n06_Q1371562.txt\n06_Q1439691.txt\n06_Q15169167.txt\n06_Q152732.txt\n06_Q15416.txt\n06_Q1615742.txt\n06_Q1639634.txt\n06_Q171441.txt\n06_Q1752939.txt\n06_Q1780506.txt\n06_Q185086.txt\n06_Q18509232.txt\n06_Q185357.txt\n06_Q18703581.txt\n06_Q188509.txt\n06_Q190915.txt\n06_Q1978718.txt\n06_Q207170.txt\n06_Q20738811.txt\n06_Q210337.txt\n06_Q21605492.txt\n06_Q216712.txt\n06_Q2235308.txt\n06_Q23442.txt\n06_Q253019.txt\n06_Q264965.txt\n06_Q3077461.txt\n06_Q3387041.txt\n06_Q36534.txt\n06_Q37484.txt\n06_Q4220920.txt\n06_Q42523.txt\n06_Q4632675.txt\n06_Q4892352.txt\n06_Q54050.txt\n06_Q558330.txt\n06_Q6456916.txt\n06_Q735.txt\n06_Q7889.txt\n06_Q8072.txt\n06_Q821435.txt\n06_Q83267.txt\n06_Q871419.txt\n06_Q876730.txt\n06_Q933394.txt\n06_Q971831.txt\n07_Q11004.txt\n07_Q1131296.txt\n07_Q1134686.txt\n07_Q11348.txt\n07_Q1344.txt\n07_Q14514600.txt\n07_Q15079663.txt\n07_Q1518096.txt\n07_Q15221370.txt\n07_Q17305127.txt\n07_Q179461.txt\n07_Q1798622.txt\n07_Q1840161.txt\n07_Q2001305.txt\n07_Q202866.txt\n07_Q20653563.txt\n07_Q20738676.txt\n07_Q20825628.txt\n07_Q2198855.txt\n07_Q24862.txt\n07_Q2755753.txt\n07_Q2916980.txt\n07_Q299191.txt\n07_Q3249551.txt\n07_Q35666.txt\n07_Q3685462.txt\n07_Q375011.txt\n07_Q422062.txt\n07_Q45776.txt\n07_Q46831.txt\n07_Q50256.txt\n07_Q506883.txt\n07_Q5283559.txt\n07_Q559618.txt\n07_Q6154783.txt\n07_Q640262.txt\n07_Q699.txt\n07_Q8514.txt\n07_Q917092.txt\n08_Q1052743.txt\n08_Q1053630.txt\n08_Q1061151.txt\n08_Q1107679.txt\n08_Q1155404.txt\n08_Q1311958.txt\n08_Q1353952.txt\n08_Q1382893.txt\n08_Q1402592.txt\n08_Q1437459.txt\n08_Q14756018.txt\n08_Q160091.txt\n08_Q16103215.txt\n08_Q162620.txt\n08_Q17205.txt\n08_Q1799072.txt\n08_Q181175.txt\n08_Q182531.txt\n08_Q182547.txt\n08_Q18564289.txt\n08_Q189533.txt\n08_Q208469.txt\n08_Q209939.txt\n08_Q216337.txt\n08_Q2672914.txt\n08_Q2743.txt\n08_Q3184121.txt\n08_Q34763.txt\n08_Q41298.txt\n08_Q431289.txt\n08_Q473972.txt\n08_Q476028.txt\n08_Q509686.txt\n08_Q57831.txt\n08_Q641066.txt\n08_Q6498903.txt\n08_Q843886.txt\n08_Q851830.txt\n08_Q898771.txt\n09_Q1137109.txt\n09_Q1137468.txt\n09_Q1143635.txt\n09_Q11446.txt\n09_Q1210300.txt\n09_Q12143.txt\n09_Q1420.txt\n09_Q14623646.txt\n09_Q15141632.txt\n09_Q161161.txt\n09_Q1762059.txt\n09_Q178550.txt\n09_Q1989278.txt\n09_Q20638319.txt\n09_Q20738945.txt\n09_Q21191019.txt\n09_Q212434.txt\n09_Q226730.txt\n09_Q34442.txt\n09_Q382927.txt\n09_Q4022.txt\n09_Q462778.txt\n09_Q46970.txt\n09_Q4946461.txt\n09_Q49773.txt\n09_Q55488.txt\n09_Q5633421.txt\n09_Q7366.txt\n09_Q83116.txt\n09_Q937876.txt\n10_Q1197685.txt\n10_Q124734.txt\n10_Q134556.txt\n10_Q179049.txt\n10_Q18089617.txt\n10_Q18142.txt\n10_Q187931.txt\n10_Q19335303.txt\n10_Q20667187.txt\n10_Q2087181.txt\n10_Q2301325.txt\n10_Q23745.txt\n10_Q271669.txt\n10_Q273120.txt\n10_Q3516833.txt\n10_Q484641.txt\n10_Q5185279.txt\n10_Q5737899.txt\n10_Q747381.txt\n10_Q79007.txt\n10_Q8192.txt\n10_Q83620.txt\n10_Q8366.txt\n11_Q11303.txt\n11_Q1259759.txt\n11_Q15841920.txt\n11_Q17910379.txt\n11_Q200141.txt\n11_Q2001676.txt\n11_Q23413.txt\n11_Q23691.txt\n11_Q24354.txt\n11_Q3389302.txt\n11_Q3884033.txt\n11_Q3947.txt\n11_Q483110.txt\n11_Q506240.txt\n11_Q5393308.txt\n11_Q719419.txt\n11_Q768855.txt\n11_Q928830.txt\n12_Q11032.txt\n12_Q12800.txt\n12_Q13219666.txt\n12_Q1388421.txt\n12_Q1497375.txt\n12_Q15091377.txt\n12_Q15298259.txt\n12_Q17156793.txt\n12_Q21188110.txt\n12_Q212057.txt\n12_Q214070.txt\n12_Q24869.txt\n12_Q676050.txt\n12_Q738570.txt\n12_Q751705.txt\n12_Q75520.txt\n12_Q816829.txt\n12_Q831663.txt\n13_Q11086742.txt\n13_Q1154710.txt\n13_Q125191.txt\n13_Q153562.txt\n13_Q162875.txt\n13_Q16970.txt\n13_Q17447455.txt\n13_Q274586.txt\n13_Q581714.txt\n13_Q82414.txt\n14_Q1107.txt\n14_Q1153376.txt\n14_Q27686.txt\n14_Q2912397.txt\n14_Q29380.txt\n14_Q3062294.txt\n14_Q320018.txt\n14_Q42032.txt\n"
     ],
     "output_type": "stream"
    }
   ],
   "source": [
    "path = \"D:\\Documents\\Memoria - Eval. Word Embeddings\\Data\\Outlayer Detection\\wiki-sem-500-tokenized\\es\"\n",
    "\n",
    "test_files = os.listdir(path)\n",
    "count_files = []\n",
    "\n",
    "for file in test_files:\n",
    "    cont = 0\n",
    "    with io.open(path + \"\\\\\" + file, 'r', encoding=\"utf8\") as f:\n",
    "        for line in f:\n",
    "            if '_' in line:\n",
    "                cont += 1\n",
    "               \n",
    "    if cont < 10:\n",
    "        cont = '0' + str(cont)\n",
    "    else:\n",
    "        cont = str(cont)\n",
    "        \n",
    "    count_files.append(file) \n",
    "    \n",
    "count_files.sort()\n",
    "for file in count_files:\n",
    "    print(file)\n"
   ],
   "metadata": {
    "collapsed": false,
    "pycharm": {
     "name": "#%%\n",
     "is_executing": false
    }
   }
  }
 ],
 "metadata": {
  "kernelspec": {
   "display_name": "Python 3",
   "language": "python",
   "name": "python3"
  },
  "language_info": {
   "codemirror_mode": {
    "name": "ipython",
    "version": 2
   },
   "file_extension": ".py",
   "mimetype": "text/x-python",
   "name": "python",
   "nbconvert_exporter": "python",
   "pygments_lexer": "ipython2",
   "version": "2.7.6"
  },
  "pycharm": {
   "stem_cell": {
    "cell_type": "raw",
    "source": [],
    "metadata": {
     "collapsed": false
    }
   }
  }
 },
 "nbformat": 4,
 "nbformat_minor": 0
}