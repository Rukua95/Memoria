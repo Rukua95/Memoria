{
 "cells": [
  {
   "cell_type": "code",
   "execution_count": 5,
   "metadata": {
    "collapsed": true,
    "pycharm": {
     "is_executing": false
    }
   },
   "outputs": [
    {
     "name": "stdout",
     "text": [
      "['_fasttext_sbwc.vec', '_fasttext_suc.vec', '_fasttext_wiki.vec', '_glove_sbwc.vec', '_w2v_sbwc.txt']\n"
     ],
     "output_type": "stream"
    }
   ],
   "source": [
    "import os\n",
    "import io\n",
    "import numpy as np\n",
    "\n",
    "#from SimilarityTest import *\n",
    "#from AnalogyTest import *\n",
    "\n",
    "################################################################\n",
    "\n",
    "# Path a carpeta principal\n",
    "PATH = 'D:\\Documents\\Memoria - Eval. Word Embeddings\\\\'\n",
    "\n",
    "# Path a carpeta con los embeddings\n",
    "embeddings_path = PATH + 'Embeddings\\\\'\n",
    "\n",
    "# Lista con los nombres de los archivos de los embeddings\n",
    "embeddings = os.listdir(embeddings_path)\n",
    "\n",
    "print(embeddings)"
   ]
  },
  {
   "cell_type": "code",
   "execution_count": 6,
   "outputs": [],
   "source": [
    "from gensim.models.keyedvectors import KeyedVectors\n",
    "\n",
    "\n",
    "\n",
    "wordvectors_file_vec = embeddings_path + embeddings[0]\n",
    "#cantidad = 50000\n",
    "cantidad = None\n",
    "wordvectors = KeyedVectors.load_word2vec_format(wordvectors_file_vec, limit=cantidad)\n"
   ],
   "metadata": {
    "collapsed": false,
    "pycharm": {
     "name": "#%%\n",
     "is_executing": false
    }
   }
  },
  {
   "cell_type": "code",
   "execution_count": 11,
   "outputs": [
    {
     "name": "stdout",
     "text": [
      "True\n"
     ],
     "output_type": "stream"
    }
   ],
   "source": [
    "# Testing outlier detection\n",
    "\n",
    "import OutlierDetectionTest as ODTest\n",
    "\"\"\"\n",
    "path = \"D:\\Documents\\Memoria - Eval. Word Embeddings\\Datasets\\OutlierDetectionDataset\"\n",
    "\n",
    "test_files = os.listdir(path)\n",
    "\n",
    "test_file = test_files[9]\n",
    "#print(test_file)\n",
    "\n",
    "test = []\n",
    "main_set, outlier_set = ODTest.getWords(test_file)\n",
    "test.append([main_set, outlier_set])\n",
    "\n",
    "main_set = [\"naranja\", \"manzana\", \"pera\", \"mango\"]\n",
    "outlier_set = [\"jugo\", \"fruta\", \"carne\", \"árbol\"]\n",
    "test.append([main_set, outlier_set])\n",
    "\n",
    "#print(wordvectors.doesnt_match(main_set + [\"fruta\"]))\n",
    "\n",
    "main_set = [\"tenis\", \"natación\", \"ajedrez\", \"golf\"]\n",
    "outlier_set = [\"deporte\", \"correr\", \"caminar\", \"competencia\", \"atletismo\"]\n",
    "test.append([main_set, outlier_set])\n",
    "\n",
    "r = ODTest.getScores(wordvectors, test, False, True)\n",
    "#print(r)\n",
    "\"\"\"\n",
    "print(\"federer\" in wordvectors)\n",
    "#ODTest.outlierDetectionTest(wordvectors, embeddings[0], phrase=False, exist_oov=True)\n",
    "\n"
   ],
   "metadata": {
    "collapsed": false,
    "pycharm": {
     "name": "#%%\n",
     "is_executing": false
    }
   }
  }
 ],
 "metadata": {
  "kernelspec": {
   "display_name": "Python 3",
   "language": "python",
   "name": "python3"
  },
  "language_info": {
   "codemirror_mode": {
    "name": "ipython",
    "version": 2
   },
   "file_extension": ".py",
   "mimetype": "text/x-python",
   "name": "python",
   "nbconvert_exporter": "python",
   "pygments_lexer": "ipython2",
   "version": "2.7.6"
  },
  "pycharm": {
   "stem_cell": {
    "cell_type": "raw",
    "source": [],
    "metadata": {
     "collapsed": false
    }
   }
  }
 },
 "nbformat": 4,
 "nbformat_minor": 0
}